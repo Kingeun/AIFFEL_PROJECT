{
 "cells": [
  {
   "cell_type": "markdown",
   "id": "congressional-chambers",
   "metadata": {},
   "source": [
    "# Movielens 영화 SBR\n",
    "Movielens 1M Dataset을 기반으로, Session based Recommendation 시스템을 제작하기\n",
    "\n",
    "- 데이터의 전처리\n",
    "- 미니 배치의 구성\n",
    "- 모델 구성\n",
    "- 모델 학습\n",
    "- 모델 테스트"
   ]
  },
  {
   "cell_type": "code",
   "execution_count": 1,
   "id": "turned-claim",
   "metadata": {},
   "outputs": [],
   "source": [
    "import datetime as dt\n",
    "from pathlib import Path\n",
    "import os\n",
    "import numpy as np\n",
    "import pandas as pd\n",
    "import warnings\n",
    "warnings.filterwarnings('ignore')"
   ]
  },
  {
   "cell_type": "code",
   "execution_count": 2,
   "id": "stone-fight",
   "metadata": {},
   "outputs": [
    {
     "data": {
      "text/html": [
       "<div>\n",
       "<style scoped>\n",
       "    .dataframe tbody tr th:only-of-type {\n",
       "        vertical-align: middle;\n",
       "    }\n",
       "\n",
       "    .dataframe tbody tr th {\n",
       "        vertical-align: top;\n",
       "    }\n",
       "\n",
       "    .dataframe thead th {\n",
       "        text-align: right;\n",
       "    }\n",
       "</style>\n",
       "<table border=\"1\" class=\"dataframe\">\n",
       "  <thead>\n",
       "    <tr style=\"text-align: right;\">\n",
       "      <th></th>\n",
       "      <th>UserId</th>\n",
       "      <th>ItemId</th>\n",
       "      <th>Rating</th>\n",
       "      <th>Time</th>\n",
       "    </tr>\n",
       "  </thead>\n",
       "  <tbody>\n",
       "    <tr>\n",
       "      <th>31</th>\n",
       "      <td>1</td>\n",
       "      <td>3186</td>\n",
       "      <td>4</td>\n",
       "      <td>978300019</td>\n",
       "    </tr>\n",
       "    <tr>\n",
       "      <th>22</th>\n",
       "      <td>1</td>\n",
       "      <td>1270</td>\n",
       "      <td>5</td>\n",
       "      <td>978300055</td>\n",
       "    </tr>\n",
       "    <tr>\n",
       "      <th>27</th>\n",
       "      <td>1</td>\n",
       "      <td>1721</td>\n",
       "      <td>4</td>\n",
       "      <td>978300055</td>\n",
       "    </tr>\n",
       "    <tr>\n",
       "      <th>37</th>\n",
       "      <td>1</td>\n",
       "      <td>1022</td>\n",
       "      <td>5</td>\n",
       "      <td>978300055</td>\n",
       "    </tr>\n",
       "    <tr>\n",
       "      <th>24</th>\n",
       "      <td>1</td>\n",
       "      <td>2340</td>\n",
       "      <td>3</td>\n",
       "      <td>978300103</td>\n",
       "    </tr>\n",
       "    <tr>\n",
       "      <th>...</th>\n",
       "      <td>...</td>\n",
       "      <td>...</td>\n",
       "      <td>...</td>\n",
       "      <td>...</td>\n",
       "    </tr>\n",
       "    <tr>\n",
       "      <th>1000019</th>\n",
       "      <td>6040</td>\n",
       "      <td>2917</td>\n",
       "      <td>4</td>\n",
       "      <td>997454429</td>\n",
       "    </tr>\n",
       "    <tr>\n",
       "      <th>999988</th>\n",
       "      <td>6040</td>\n",
       "      <td>1921</td>\n",
       "      <td>4</td>\n",
       "      <td>997454464</td>\n",
       "    </tr>\n",
       "    <tr>\n",
       "      <th>1000172</th>\n",
       "      <td>6040</td>\n",
       "      <td>1784</td>\n",
       "      <td>3</td>\n",
       "      <td>997454464</td>\n",
       "    </tr>\n",
       "    <tr>\n",
       "      <th>1000167</th>\n",
       "      <td>6040</td>\n",
       "      <td>161</td>\n",
       "      <td>3</td>\n",
       "      <td>997454486</td>\n",
       "    </tr>\n",
       "    <tr>\n",
       "      <th>1000042</th>\n",
       "      <td>6040</td>\n",
       "      <td>1221</td>\n",
       "      <td>4</td>\n",
       "      <td>998315055</td>\n",
       "    </tr>\n",
       "  </tbody>\n",
       "</table>\n",
       "<p>1000209 rows × 4 columns</p>\n",
       "</div>"
      ],
      "text/plain": [
       "         UserId  ItemId  Rating       Time\n",
       "31            1    3186       4  978300019\n",
       "22            1    1270       5  978300055\n",
       "27            1    1721       4  978300055\n",
       "37            1    1022       5  978300055\n",
       "24            1    2340       3  978300103\n",
       "...         ...     ...     ...        ...\n",
       "1000019    6040    2917       4  997454429\n",
       "999988     6040    1921       4  997454464\n",
       "1000172    6040    1784       3  997454464\n",
       "1000167    6040     161       3  997454486\n",
       "1000042    6040    1221       4  998315055\n",
       "\n",
       "[1000209 rows x 4 columns]"
      ]
     },
     "execution_count": 2,
     "metadata": {},
     "output_type": "execute_result"
    }
   ],
   "source": [
    "data_path = Path(os.getenv('HOME')+'/aiffel/AIFFEL_PROJECT/EXPLORATION_12/yoochoose/data/') \n",
    "train_path = data_path / 'ratings.dat'\n",
    "\n",
    "def load_data(data_path: Path, nrows=None):\n",
    "    data = pd.read_csv(data_path, sep='::', header=None, usecols=[0, 1, 2, 3], dtype={0: np.int32, 1: np.int32, 2: np.int32}, nrows=nrows)\n",
    "    data.columns = ['UserId', 'ItemId', 'Rating', 'Time']\n",
    "    return data\n",
    "\n",
    "data = load_data(train_path, None)\n",
    "data.sort_values(['UserId', 'Time'], inplace=True)  # data를 id와 시간 순서로 정렬해줍니다.\n",
    "data"
   ]
  },
  {
   "cell_type": "markdown",
   "id": "favorite-tradition",
   "metadata": {},
   "source": [
    "## 데이터의 전처리\n",
    "- 간단히 구성해 본 데이터셋을 살펴보면서 항목별 기본분석, session length, session time, cleaning 등의 작업을 진행\n",
    "- SessionId가 없으므로 UserId와 Time을 merge한 뒤에 SessionId를 만든다\n",
    "- Session Length 각 세션이 몇 편의 영화를 보는지 확인\n",
    "- Data Cleansing                                                                               \n",
    "Rating 3정 이상 데이터만 사용\n",
    "- Train/ Valid/ Test split                                                                 \n",
    "모델 평가를 위해 데이터에서 마지막 100일을 test set, 그 이전 100일을 validation set으로 나눔"
   ]
  },
  {
   "cell_type": "code",
   "execution_count": 3,
   "id": "official-burke",
   "metadata": {},
   "outputs": [
    {
     "data": {
      "text/html": [
       "<div>\n",
       "<style scoped>\n",
       "    .dataframe tbody tr th:only-of-type {\n",
       "        vertical-align: middle;\n",
       "    }\n",
       "\n",
       "    .dataframe tbody tr th {\n",
       "        vertical-align: top;\n",
       "    }\n",
       "\n",
       "    .dataframe thead th {\n",
       "        text-align: right;\n",
       "    }\n",
       "</style>\n",
       "<table border=\"1\" class=\"dataframe\">\n",
       "  <thead>\n",
       "    <tr style=\"text-align: right;\">\n",
       "      <th></th>\n",
       "      <th>UserId</th>\n",
       "      <th>ItemId</th>\n",
       "      <th>Rating</th>\n",
       "      <th>Time</th>\n",
       "    </tr>\n",
       "  </thead>\n",
       "  <tbody>\n",
       "    <tr>\n",
       "      <th>31</th>\n",
       "      <td>1</td>\n",
       "      <td>3186</td>\n",
       "      <td>4</td>\n",
       "      <td>978300019</td>\n",
       "    </tr>\n",
       "    <tr>\n",
       "      <th>22</th>\n",
       "      <td>1</td>\n",
       "      <td>1270</td>\n",
       "      <td>5</td>\n",
       "      <td>978300055</td>\n",
       "    </tr>\n",
       "    <tr>\n",
       "      <th>27</th>\n",
       "      <td>1</td>\n",
       "      <td>1721</td>\n",
       "      <td>4</td>\n",
       "      <td>978300055</td>\n",
       "    </tr>\n",
       "    <tr>\n",
       "      <th>37</th>\n",
       "      <td>1</td>\n",
       "      <td>1022</td>\n",
       "      <td>5</td>\n",
       "      <td>978300055</td>\n",
       "    </tr>\n",
       "    <tr>\n",
       "      <th>24</th>\n",
       "      <td>1</td>\n",
       "      <td>2340</td>\n",
       "      <td>3</td>\n",
       "      <td>978300103</td>\n",
       "    </tr>\n",
       "    <tr>\n",
       "      <th>...</th>\n",
       "      <td>...</td>\n",
       "      <td>...</td>\n",
       "      <td>...</td>\n",
       "      <td>...</td>\n",
       "    </tr>\n",
       "    <tr>\n",
       "      <th>1000019</th>\n",
       "      <td>6040</td>\n",
       "      <td>2917</td>\n",
       "      <td>4</td>\n",
       "      <td>997454429</td>\n",
       "    </tr>\n",
       "    <tr>\n",
       "      <th>999988</th>\n",
       "      <td>6040</td>\n",
       "      <td>1921</td>\n",
       "      <td>4</td>\n",
       "      <td>997454464</td>\n",
       "    </tr>\n",
       "    <tr>\n",
       "      <th>1000172</th>\n",
       "      <td>6040</td>\n",
       "      <td>1784</td>\n",
       "      <td>3</td>\n",
       "      <td>997454464</td>\n",
       "    </tr>\n",
       "    <tr>\n",
       "      <th>1000167</th>\n",
       "      <td>6040</td>\n",
       "      <td>161</td>\n",
       "      <td>3</td>\n",
       "      <td>997454486</td>\n",
       "    </tr>\n",
       "    <tr>\n",
       "      <th>1000042</th>\n",
       "      <td>6040</td>\n",
       "      <td>1221</td>\n",
       "      <td>4</td>\n",
       "      <td>998315055</td>\n",
       "    </tr>\n",
       "  </tbody>\n",
       "</table>\n",
       "<p>1000209 rows × 4 columns</p>\n",
       "</div>"
      ],
      "text/plain": [
       "         UserId  ItemId  Rating       Time\n",
       "31            1    3186       4  978300019\n",
       "22            1    1270       5  978300055\n",
       "27            1    1721       4  978300055\n",
       "37            1    1022       5  978300055\n",
       "24            1    2340       3  978300103\n",
       "...         ...     ...     ...        ...\n",
       "1000019    6040    2917       4  997454429\n",
       "999988     6040    1921       4  997454464\n",
       "1000172    6040    1784       3  997454464\n",
       "1000167    6040     161       3  997454486\n",
       "1000042    6040    1221       4  998315055\n",
       "\n",
       "[1000209 rows x 4 columns]"
      ]
     },
     "execution_count": 3,
     "metadata": {},
     "output_type": "execute_result"
    }
   ],
   "source": [
    "data = load_data(train_path, None)\n",
    "data.sort_values(['UserId', 'Time'], inplace=True)  # data를 id와 시간 순서로 정렬해줍니다.\n",
    "data"
   ]
  },
  {
   "cell_type": "code",
   "execution_count": 4,
   "id": "theoretical-apache",
   "metadata": {},
   "outputs": [
    {
     "data": {
      "text/plain": [
       "(6040, 3706)"
      ]
     },
     "execution_count": 4,
     "metadata": {},
     "output_type": "execute_result"
    }
   ],
   "source": [
    "#유저수와 아이템 수\n",
    "data['UserId'].nunique(), data['ItemId'].nunique()"
   ]
  },
  {
   "cell_type": "code",
   "execution_count": 5,
   "id": "viral-armenia",
   "metadata": {},
   "outputs": [
    {
     "data": {
      "text/html": [
       "<div>\n",
       "<style scoped>\n",
       "    .dataframe tbody tr th:only-of-type {\n",
       "        vertical-align: middle;\n",
       "    }\n",
       "\n",
       "    .dataframe tbody tr th {\n",
       "        vertical-align: top;\n",
       "    }\n",
       "\n",
       "    .dataframe thead th {\n",
       "        text-align: right;\n",
       "    }\n",
       "</style>\n",
       "<table border=\"1\" class=\"dataframe\">\n",
       "  <thead>\n",
       "    <tr style=\"text-align: right;\">\n",
       "      <th></th>\n",
       "      <th>index</th>\n",
       "      <th>UserId</th>\n",
       "      <th>Time</th>\n",
       "      <th>ItemId</th>\n",
       "    </tr>\n",
       "  </thead>\n",
       "  <tbody>\n",
       "    <tr>\n",
       "      <th>0</th>\n",
       "      <td>0</td>\n",
       "      <td>1</td>\n",
       "      <td>978300019</td>\n",
       "      <td>1</td>\n",
       "    </tr>\n",
       "    <tr>\n",
       "      <th>1</th>\n",
       "      <td>1</td>\n",
       "      <td>1</td>\n",
       "      <td>978300055</td>\n",
       "      <td>3</td>\n",
       "    </tr>\n",
       "    <tr>\n",
       "      <th>2</th>\n",
       "      <td>2</td>\n",
       "      <td>1</td>\n",
       "      <td>978300103</td>\n",
       "      <td>1</td>\n",
       "    </tr>\n",
       "    <tr>\n",
       "      <th>3</th>\n",
       "      <td>3</td>\n",
       "      <td>1</td>\n",
       "      <td>978300172</td>\n",
       "      <td>1</td>\n",
       "    </tr>\n",
       "    <tr>\n",
       "      <th>4</th>\n",
       "      <td>4</td>\n",
       "      <td>1</td>\n",
       "      <td>978300275</td>\n",
       "      <td>1</td>\n",
       "    </tr>\n",
       "    <tr>\n",
       "      <th>...</th>\n",
       "      <td>...</td>\n",
       "      <td>...</td>\n",
       "      <td>...</td>\n",
       "      <td>...</td>\n",
       "    </tr>\n",
       "    <tr>\n",
       "      <th>471158</th>\n",
       "      <td>471158</td>\n",
       "      <td>6040</td>\n",
       "      <td>997454398</td>\n",
       "      <td>1</td>\n",
       "    </tr>\n",
       "    <tr>\n",
       "      <th>471159</th>\n",
       "      <td>471159</td>\n",
       "      <td>6040</td>\n",
       "      <td>997454429</td>\n",
       "      <td>1</td>\n",
       "    </tr>\n",
       "    <tr>\n",
       "      <th>471160</th>\n",
       "      <td>471160</td>\n",
       "      <td>6040</td>\n",
       "      <td>997454464</td>\n",
       "      <td>2</td>\n",
       "    </tr>\n",
       "    <tr>\n",
       "      <th>471161</th>\n",
       "      <td>471161</td>\n",
       "      <td>6040</td>\n",
       "      <td>997454486</td>\n",
       "      <td>1</td>\n",
       "    </tr>\n",
       "    <tr>\n",
       "      <th>471162</th>\n",
       "      <td>471162</td>\n",
       "      <td>6040</td>\n",
       "      <td>998315055</td>\n",
       "      <td>1</td>\n",
       "    </tr>\n",
       "  </tbody>\n",
       "</table>\n",
       "<p>471163 rows × 4 columns</p>\n",
       "</div>"
      ],
      "text/plain": [
       "         index  UserId       Time  ItemId\n",
       "0            0       1  978300019       1\n",
       "1            1       1  978300055       3\n",
       "2            2       1  978300103       1\n",
       "3            3       1  978300172       1\n",
       "4            4       1  978300275       1\n",
       "...        ...     ...        ...     ...\n",
       "471158  471158    6040  997454398       1\n",
       "471159  471159    6040  997454429       1\n",
       "471160  471160    6040  997454464       2\n",
       "471161  471161    6040  997454486       1\n",
       "471162  471162    6040  998315055       1\n",
       "\n",
       "[471163 rows x 4 columns]"
      ]
     },
     "execution_count": 5,
     "metadata": {},
     "output_type": "execute_result"
    }
   ],
   "source": [
    "# UserId와 Time을 기준으로 새로운 데이터프레임 생성\n",
    "data_index = data.groupby(['UserId', 'Time'])['ItemId'].count().reset_index()\n",
    "data_index.reset_index(inplace=True)\n",
    "data_index"
   ]
  },
  {
   "cell_type": "code",
   "execution_count": 6,
   "id": "induced-negative",
   "metadata": {},
   "outputs": [
    {
     "data": {
      "text/html": [
       "<div>\n",
       "<style scoped>\n",
       "    .dataframe tbody tr th:only-of-type {\n",
       "        vertical-align: middle;\n",
       "    }\n",
       "\n",
       "    .dataframe tbody tr th {\n",
       "        vertical-align: top;\n",
       "    }\n",
       "\n",
       "    .dataframe thead th {\n",
       "        text-align: right;\n",
       "    }\n",
       "</style>\n",
       "<table border=\"1\" class=\"dataframe\">\n",
       "  <thead>\n",
       "    <tr style=\"text-align: right;\">\n",
       "      <th></th>\n",
       "      <th>UserId</th>\n",
       "      <th>ItemId</th>\n",
       "      <th>Rating</th>\n",
       "      <th>Time</th>\n",
       "      <th>SessionId</th>\n",
       "    </tr>\n",
       "  </thead>\n",
       "  <tbody>\n",
       "    <tr>\n",
       "      <th>0</th>\n",
       "      <td>1</td>\n",
       "      <td>3186</td>\n",
       "      <td>4</td>\n",
       "      <td>978300019</td>\n",
       "      <td>0</td>\n",
       "    </tr>\n",
       "    <tr>\n",
       "      <th>1</th>\n",
       "      <td>1</td>\n",
       "      <td>1270</td>\n",
       "      <td>5</td>\n",
       "      <td>978300055</td>\n",
       "      <td>1</td>\n",
       "    </tr>\n",
       "    <tr>\n",
       "      <th>2</th>\n",
       "      <td>1</td>\n",
       "      <td>1721</td>\n",
       "      <td>4</td>\n",
       "      <td>978300055</td>\n",
       "      <td>1</td>\n",
       "    </tr>\n",
       "    <tr>\n",
       "      <th>3</th>\n",
       "      <td>1</td>\n",
       "      <td>1022</td>\n",
       "      <td>5</td>\n",
       "      <td>978300055</td>\n",
       "      <td>1</td>\n",
       "    </tr>\n",
       "    <tr>\n",
       "      <th>4</th>\n",
       "      <td>1</td>\n",
       "      <td>2340</td>\n",
       "      <td>3</td>\n",
       "      <td>978300103</td>\n",
       "      <td>2</td>\n",
       "    </tr>\n",
       "    <tr>\n",
       "      <th>...</th>\n",
       "      <td>...</td>\n",
       "      <td>...</td>\n",
       "      <td>...</td>\n",
       "      <td>...</td>\n",
       "      <td>...</td>\n",
       "    </tr>\n",
       "    <tr>\n",
       "      <th>1000204</th>\n",
       "      <td>6040</td>\n",
       "      <td>2917</td>\n",
       "      <td>4</td>\n",
       "      <td>997454429</td>\n",
       "      <td>471159</td>\n",
       "    </tr>\n",
       "    <tr>\n",
       "      <th>1000205</th>\n",
       "      <td>6040</td>\n",
       "      <td>1921</td>\n",
       "      <td>4</td>\n",
       "      <td>997454464</td>\n",
       "      <td>471160</td>\n",
       "    </tr>\n",
       "    <tr>\n",
       "      <th>1000206</th>\n",
       "      <td>6040</td>\n",
       "      <td>1784</td>\n",
       "      <td>3</td>\n",
       "      <td>997454464</td>\n",
       "      <td>471160</td>\n",
       "    </tr>\n",
       "    <tr>\n",
       "      <th>1000207</th>\n",
       "      <td>6040</td>\n",
       "      <td>161</td>\n",
       "      <td>3</td>\n",
       "      <td>997454486</td>\n",
       "      <td>471161</td>\n",
       "    </tr>\n",
       "    <tr>\n",
       "      <th>1000208</th>\n",
       "      <td>6040</td>\n",
       "      <td>1221</td>\n",
       "      <td>4</td>\n",
       "      <td>998315055</td>\n",
       "      <td>471162</td>\n",
       "    </tr>\n",
       "  </tbody>\n",
       "</table>\n",
       "<p>1000209 rows × 5 columns</p>\n",
       "</div>"
      ],
      "text/plain": [
       "         UserId  ItemId  Rating       Time  SessionId\n",
       "0             1    3186       4  978300019          0\n",
       "1             1    1270       5  978300055          1\n",
       "2             1    1721       4  978300055          1\n",
       "3             1    1022       5  978300055          1\n",
       "4             1    2340       3  978300103          2\n",
       "...         ...     ...     ...        ...        ...\n",
       "1000204    6040    2917       4  997454429     471159\n",
       "1000205    6040    1921       4  997454464     471160\n",
       "1000206    6040    1784       3  997454464     471160\n",
       "1000207    6040     161       3  997454486     471161\n",
       "1000208    6040    1221       4  998315055     471162\n",
       "\n",
       "[1000209 rows x 5 columns]"
      ]
     },
     "execution_count": 6,
     "metadata": {},
     "output_type": "execute_result"
    }
   ],
   "source": [
    "#SessionId 만들기\n",
    "data=pd.merge(data,data_index,on=['UserId', 'Time'])\n",
    "data.drop(columns='ItemId_y', inplace=True)\n",
    "data.rename(columns={'ItemId_x':'ItemId'}, inplace = True)\n",
    "data.rename(columns={'index' : 'SessionId'}, inplace = True)\n",
    "data"
   ]
  },
  {
   "cell_type": "code",
   "execution_count": 7,
   "id": "smoking-salmon",
   "metadata": {},
   "outputs": [
    {
     "data": {
      "text/plain": [
       "SessionId\n",
       "0         1\n",
       "1         3\n",
       "2         1\n",
       "3         1\n",
       "4         1\n",
       "         ..\n",
       "471158    1\n",
       "471159    1\n",
       "471160    2\n",
       "471161    1\n",
       "471162    1\n",
       "Length: 471163, dtype: int64"
      ]
     },
     "execution_count": 7,
     "metadata": {},
     "output_type": "execute_result"
    }
   ],
   "source": [
    "#각 세션이 몇 편의 영화를 보는지\n",
    "session_length = data.groupby('SessionId').size()\n",
    "session_length  #같은 SessionId를 공유하는 데이터 row의 개수를 의미"
   ]
  },
  {
   "cell_type": "code",
   "execution_count": 8,
   "id": "primary-purple",
   "metadata": {},
   "outputs": [
    {
     "data": {
      "text/plain": [
       "(2.0, 2.1228513274599234)"
      ]
     },
     "execution_count": 8,
     "metadata": {},
     "output_type": "execute_result"
    }
   ],
   "source": [
    "session_length.median(), session_length.mean()"
   ]
  },
  {
   "cell_type": "code",
   "execution_count": 9,
   "id": "average-empty",
   "metadata": {},
   "outputs": [
    {
     "data": {
      "text/plain": [
       "(1, 30)"
      ]
     },
     "execution_count": 9,
     "metadata": {},
     "output_type": "execute_result"
    }
   ],
   "source": [
    "session_length.min(), session_length.max()"
   ]
  },
  {
   "cell_type": "code",
   "execution_count": 10,
   "id": "british-southeast",
   "metadata": {},
   "outputs": [
    {
     "data": {
      "text/plain": [
       "10.0"
      ]
     },
     "execution_count": 10,
     "metadata": {},
     "output_type": "execute_result"
    }
   ],
   "source": [
    "session_length.quantile(0.999) #99.9% 세션"
   ]
  },
  {
   "cell_type": "code",
   "execution_count": 11,
   "id": "widespread-might",
   "metadata": {},
   "outputs": [
    {
     "data": {
      "text/html": [
       "<div>\n",
       "<style scoped>\n",
       "    .dataframe tbody tr th:only-of-type {\n",
       "        vertical-align: middle;\n",
       "    }\n",
       "\n",
       "    .dataframe tbody tr th {\n",
       "        vertical-align: top;\n",
       "    }\n",
       "\n",
       "    .dataframe thead th {\n",
       "        text-align: right;\n",
       "    }\n",
       "</style>\n",
       "<table border=\"1\" class=\"dataframe\">\n",
       "  <thead>\n",
       "    <tr style=\"text-align: right;\">\n",
       "      <th></th>\n",
       "      <th>UserId</th>\n",
       "      <th>ItemId</th>\n",
       "      <th>Rating</th>\n",
       "      <th>Time</th>\n",
       "      <th>SessionId</th>\n",
       "    </tr>\n",
       "  </thead>\n",
       "  <tbody>\n",
       "    <tr>\n",
       "      <th>112347</th>\n",
       "      <td>731</td>\n",
       "      <td>3044</td>\n",
       "      <td>4</td>\n",
       "      <td>975528402</td>\n",
       "      <td>55117</td>\n",
       "    </tr>\n",
       "    <tr>\n",
       "      <th>112348</th>\n",
       "      <td>731</td>\n",
       "      <td>1455</td>\n",
       "      <td>3</td>\n",
       "      <td>975528402</td>\n",
       "      <td>55117</td>\n",
       "    </tr>\n",
       "    <tr>\n",
       "      <th>112349</th>\n",
       "      <td>731</td>\n",
       "      <td>1639</td>\n",
       "      <td>5</td>\n",
       "      <td>975528402</td>\n",
       "      <td>55117</td>\n",
       "    </tr>\n",
       "    <tr>\n",
       "      <th>112350</th>\n",
       "      <td>731</td>\n",
       "      <td>3244</td>\n",
       "      <td>4</td>\n",
       "      <td>975528402</td>\n",
       "      <td>55117</td>\n",
       "    </tr>\n",
       "    <tr>\n",
       "      <th>112351</th>\n",
       "      <td>731</td>\n",
       "      <td>1656</td>\n",
       "      <td>2</td>\n",
       "      <td>975528402</td>\n",
       "      <td>55117</td>\n",
       "    </tr>\n",
       "    <tr>\n",
       "      <th>112352</th>\n",
       "      <td>731</td>\n",
       "      <td>3426</td>\n",
       "      <td>4</td>\n",
       "      <td>975528402</td>\n",
       "      <td>55117</td>\n",
       "    </tr>\n",
       "    <tr>\n",
       "      <th>112353</th>\n",
       "      <td>731</td>\n",
       "      <td>1829</td>\n",
       "      <td>2</td>\n",
       "      <td>975528402</td>\n",
       "      <td>55117</td>\n",
       "    </tr>\n",
       "    <tr>\n",
       "      <th>112354</th>\n",
       "      <td>731</td>\n",
       "      <td>2675</td>\n",
       "      <td>4</td>\n",
       "      <td>975528402</td>\n",
       "      <td>55117</td>\n",
       "    </tr>\n",
       "    <tr>\n",
       "      <th>112355</th>\n",
       "      <td>731</td>\n",
       "      <td>802</td>\n",
       "      <td>3</td>\n",
       "      <td>975528402</td>\n",
       "      <td>55117</td>\n",
       "    </tr>\n",
       "    <tr>\n",
       "      <th>112356</th>\n",
       "      <td>731</td>\n",
       "      <td>803</td>\n",
       "      <td>5</td>\n",
       "      <td>975528402</td>\n",
       "      <td>55117</td>\n",
       "    </tr>\n",
       "    <tr>\n",
       "      <th>112357</th>\n",
       "      <td>731</td>\n",
       "      <td>1357</td>\n",
       "      <td>4</td>\n",
       "      <td>975528402</td>\n",
       "      <td>55117</td>\n",
       "    </tr>\n",
       "    <tr>\n",
       "      <th>112358</th>\n",
       "      <td>731</td>\n",
       "      <td>838</td>\n",
       "      <td>5</td>\n",
       "      <td>975528402</td>\n",
       "      <td>55117</td>\n",
       "    </tr>\n",
       "    <tr>\n",
       "      <th>112359</th>\n",
       "      <td>731</td>\n",
       "      <td>2171</td>\n",
       "      <td>4</td>\n",
       "      <td>975528402</td>\n",
       "      <td>55117</td>\n",
       "    </tr>\n",
       "    <tr>\n",
       "      <th>112360</th>\n",
       "      <td>731</td>\n",
       "      <td>852</td>\n",
       "      <td>2</td>\n",
       "      <td>975528402</td>\n",
       "      <td>55117</td>\n",
       "    </tr>\n",
       "    <tr>\n",
       "      <th>112361</th>\n",
       "      <td>731</td>\n",
       "      <td>2331</td>\n",
       "      <td>4</td>\n",
       "      <td>975528402</td>\n",
       "      <td>55117</td>\n",
       "    </tr>\n",
       "    <tr>\n",
       "      <th>112362</th>\n",
       "      <td>731</td>\n",
       "      <td>1535</td>\n",
       "      <td>3</td>\n",
       "      <td>975528402</td>\n",
       "      <td>55117</td>\n",
       "    </tr>\n",
       "    <tr>\n",
       "      <th>112363</th>\n",
       "      <td>731</td>\n",
       "      <td>1393</td>\n",
       "      <td>2</td>\n",
       "      <td>975528402</td>\n",
       "      <td>55117</td>\n",
       "    </tr>\n",
       "    <tr>\n",
       "      <th>112364</th>\n",
       "      <td>731</td>\n",
       "      <td>1564</td>\n",
       "      <td>4</td>\n",
       "      <td>975528402</td>\n",
       "      <td>55117</td>\n",
       "    </tr>\n",
       "    <tr>\n",
       "      <th>112365</th>\n",
       "      <td>731</td>\n",
       "      <td>892</td>\n",
       "      <td>5</td>\n",
       "      <td>975528402</td>\n",
       "      <td>55117</td>\n",
       "    </tr>\n",
       "    <tr>\n",
       "      <th>112366</th>\n",
       "      <td>731</td>\n",
       "      <td>151</td>\n",
       "      <td>3</td>\n",
       "      <td>975528402</td>\n",
       "      <td>55117</td>\n",
       "    </tr>\n",
       "    <tr>\n",
       "      <th>112367</th>\n",
       "      <td>731</td>\n",
       "      <td>2715</td>\n",
       "      <td>2</td>\n",
       "      <td>975528402</td>\n",
       "      <td>55117</td>\n",
       "    </tr>\n",
       "    <tr>\n",
       "      <th>112368</th>\n",
       "      <td>731</td>\n",
       "      <td>2570</td>\n",
       "      <td>2</td>\n",
       "      <td>975528402</td>\n",
       "      <td>55117</td>\n",
       "    </tr>\n",
       "    <tr>\n",
       "      <th>112369</th>\n",
       "      <td>731</td>\n",
       "      <td>39</td>\n",
       "      <td>5</td>\n",
       "      <td>975528402</td>\n",
       "      <td>55117</td>\n",
       "    </tr>\n",
       "    <tr>\n",
       "      <th>112370</th>\n",
       "      <td>731</td>\n",
       "      <td>2919</td>\n",
       "      <td>4</td>\n",
       "      <td>975528402</td>\n",
       "      <td>55117</td>\n",
       "    </tr>\n",
       "    <tr>\n",
       "      <th>112371</th>\n",
       "      <td>731</td>\n",
       "      <td>49</td>\n",
       "      <td>4</td>\n",
       "      <td>975528402</td>\n",
       "      <td>55117</td>\n",
       "    </tr>\n",
       "    <tr>\n",
       "      <th>112372</th>\n",
       "      <td>731</td>\n",
       "      <td>58</td>\n",
       "      <td>4</td>\n",
       "      <td>975528402</td>\n",
       "      <td>55117</td>\n",
       "    </tr>\n",
       "    <tr>\n",
       "      <th>112373</th>\n",
       "      <td>731</td>\n",
       "      <td>1210</td>\n",
       "      <td>3</td>\n",
       "      <td>975528402</td>\n",
       "      <td>55117</td>\n",
       "    </tr>\n",
       "    <tr>\n",
       "      <th>112374</th>\n",
       "      <td>731</td>\n",
       "      <td>85</td>\n",
       "      <td>4</td>\n",
       "      <td>975528402</td>\n",
       "      <td>55117</td>\n",
       "    </tr>\n",
       "    <tr>\n",
       "      <th>112375</th>\n",
       "      <td>731</td>\n",
       "      <td>2969</td>\n",
       "      <td>4</td>\n",
       "      <td>975528402</td>\n",
       "      <td>55117</td>\n",
       "    </tr>\n",
       "    <tr>\n",
       "      <th>112376</th>\n",
       "      <td>731</td>\n",
       "      <td>1244</td>\n",
       "      <td>5</td>\n",
       "      <td>975528402</td>\n",
       "      <td>55117</td>\n",
       "    </tr>\n",
       "  </tbody>\n",
       "</table>\n",
       "</div>"
      ],
      "text/plain": [
       "        UserId  ItemId  Rating       Time  SessionId\n",
       "112347     731    3044       4  975528402      55117\n",
       "112348     731    1455       3  975528402      55117\n",
       "112349     731    1639       5  975528402      55117\n",
       "112350     731    3244       4  975528402      55117\n",
       "112351     731    1656       2  975528402      55117\n",
       "112352     731    3426       4  975528402      55117\n",
       "112353     731    1829       2  975528402      55117\n",
       "112354     731    2675       4  975528402      55117\n",
       "112355     731     802       3  975528402      55117\n",
       "112356     731     803       5  975528402      55117\n",
       "112357     731    1357       4  975528402      55117\n",
       "112358     731     838       5  975528402      55117\n",
       "112359     731    2171       4  975528402      55117\n",
       "112360     731     852       2  975528402      55117\n",
       "112361     731    2331       4  975528402      55117\n",
       "112362     731    1535       3  975528402      55117\n",
       "112363     731    1393       2  975528402      55117\n",
       "112364     731    1564       4  975528402      55117\n",
       "112365     731     892       5  975528402      55117\n",
       "112366     731     151       3  975528402      55117\n",
       "112367     731    2715       2  975528402      55117\n",
       "112368     731    2570       2  975528402      55117\n",
       "112369     731      39       5  975528402      55117\n",
       "112370     731    2919       4  975528402      55117\n",
       "112371     731      49       4  975528402      55117\n",
       "112372     731      58       4  975528402      55117\n",
       "112373     731    1210       3  975528402      55117\n",
       "112374     731      85       4  975528402      55117\n",
       "112375     731    2969       4  975528402      55117\n",
       "112376     731    1244       5  975528402      55117"
      ]
     },
     "execution_count": 11,
     "metadata": {},
     "output_type": "execute_result"
    }
   ],
   "source": [
    "long_session = session_length[session_length==30].index[0]\n",
    "data[data['SessionId']==long_session]\n",
    "\n",
    "#동시간대에 30편의 영화에 평점을 줌"
   ]
  },
  {
   "cell_type": "code",
   "execution_count": 12,
   "id": "handed-function",
   "metadata": {},
   "outputs": [
    {
     "data": {
      "text/plain": [
       "1    0.480048\n",
       "2    0.713936\n",
       "3    0.847350\n",
       "4    0.919684\n",
       "5    0.958639\n",
       "6    0.979132\n",
       "7    0.989772\n",
       "8    0.994989\n",
       "9    0.997604\n",
       "dtype: float64"
      ]
     },
     "execution_count": 12,
     "metadata": {},
     "output_type": "execute_result"
    }
   ],
   "source": [
    "#세션 길이에 대한 감을 더 잘 파악하기 위해 시각화. 아래는 세션길이 기준 하위 99.9%까지의 분포 누적합을 시각화\n",
    "length_count = session_length.groupby(session_length).size()\n",
    "length_percent_cumsum = length_count.cumsum() / length_count.sum()\n",
    "length_percent_cumsum_999 = length_percent_cumsum[length_percent_cumsum < 0.999]\n",
    "\n",
    "length_percent_cumsum_999"
   ]
  },
  {
   "cell_type": "code",
   "execution_count": 13,
   "id": "buried-leisure",
   "metadata": {},
   "outputs": [
    {
     "data": {
      "image/png": "[encoded data removed]",
      "text/plain": [
       "<Figure size 1440x720 with 1 Axes>"
      ]
     },
     "metadata": {
      "needs_background": "light"
     },
     "output_type": "display_data"
    }
   ],
   "source": [
    "import matplotlib.pyplot as plt\n",
    "\n",
    "plt.figure(figsize=(20, 10))\n",
    "plt.bar(x=length_percent_cumsum_999.index,\n",
    "        height=length_percent_cumsum_999, color='red')\n",
    "plt.xticks(length_percent_cumsum_999.index)\n",
    "plt.yticks(np.arange(0, 1.01, 0.05))\n",
    "plt.title('Cumsum Percentage Until 0.999', size=20)\n",
    "plt.show()"
   ]
  },
  {
   "cell_type": "code",
   "execution_count": 14,
   "id": "lucky-porter",
   "metadata": {},
   "outputs": [
    {
     "name": "stdout",
     "output_type": "stream",
     "text": [
      "956703932\n",
      "1046454590\n"
     ]
    }
   ],
   "source": [
    "oldest, latest = data['Time'].min(), data['Time'].max()\n",
    "print(oldest) \n",
    "print(latest)\n",
    "\n",
    "#2000/4/25 ~ 2003/2/28"
   ]
  },
  {
   "cell_type": "code",
   "execution_count": 15,
   "id": "level-shannon",
   "metadata": {},
   "outputs": [],
   "source": [
    "import datetime\n",
    "#oldest=datetime.datetime.fromtimestamp(oldest)\n",
    "#print(oldest)"
   ]
  },
  {
   "cell_type": "code",
   "execution_count": 16,
   "id": "english-adams",
   "metadata": {},
   "outputs": [],
   "source": [
    "#latest=datetime.datetime.fromtimestamp(latest)\n",
    "#print(latest)"
   ]
  },
  {
   "cell_type": "code",
   "execution_count": 17,
   "id": "brilliant-constant",
   "metadata": {},
   "outputs": [
    {
     "data": {
      "text/plain": [
       "numpy.int64"
      ]
     },
     "execution_count": 17,
     "metadata": {},
     "output_type": "execute_result"
    }
   ],
   "source": [
    "type(latest)"
   ]
  },
  {
   "cell_type": "code",
   "execution_count": 18,
   "id": "loaded-anniversary",
   "metadata": {},
   "outputs": [],
   "source": [
    "#for i in range(len(data['Time'])):\n",
    "#    data['Time'][i]=datetime.datetime.fromtimestamp(data['Time'][i])    "
   ]
  },
  {
   "cell_type": "code",
   "execution_count": 19,
   "id": "joined-german",
   "metadata": {},
   "outputs": [],
   "source": [
    "#data_2000=[s for s in data['Time'] if 2000 in s ]"
   ]
  },
  {
   "cell_type": "code",
   "execution_count": 20,
   "id": "hindu-wells",
   "metadata": {},
   "outputs": [
    {
     "data": {
      "text/plain": [
       "1000209"
      ]
     },
     "execution_count": 20,
     "metadata": {},
     "output_type": "execute_result"
    }
   ],
   "source": [
    "len(data['Time'])"
   ]
  },
  {
   "cell_type": "code",
   "execution_count": 21,
   "id": "statewide-syria",
   "metadata": {},
   "outputs": [
    {
     "data": {
      "text/plain": [
       "978300019"
      ]
     },
     "execution_count": 21,
     "metadata": {},
     "output_type": "execute_result"
    }
   ],
   "source": [
    "data['Time'][0]"
   ]
  },
  {
   "cell_type": "code",
   "execution_count": 22,
   "id": "headed-steel",
   "metadata": {},
   "outputs": [
    {
     "name": "stdout",
     "output_type": "stream",
     "text": [
      "1000209\n",
      "69349\n",
      "21704\n"
     ]
    }
   ],
   "source": [
    "#전체 데이터를 사용\n",
    "print(len(data[data['Time'] > latest - (86400*365*3)]))  # 최근 3년 데이터 수\n",
    "print(len(data[data['Time'] > latest - (86400*365*2)]))  # 최근 2년 데이터 수\n",
    "print(len(data[data['Time'] > latest - (86400*365*1)]))  # 최근 1년 데이터 수"
   ]
  },
  {
   "cell_type": "code",
   "execution_count": 23,
   "id": "weighted-gathering",
   "metadata": {},
   "outputs": [
    {
     "data": {
      "text/html": [
       "<div>\n",
       "<style scoped>\n",
       "    .dataframe tbody tr th:only-of-type {\n",
       "        vertical-align: middle;\n",
       "    }\n",
       "\n",
       "    .dataframe tbody tr th {\n",
       "        vertical-align: top;\n",
       "    }\n",
       "\n",
       "    .dataframe thead th {\n",
       "        text-align: right;\n",
       "    }\n",
       "</style>\n",
       "<table border=\"1\" class=\"dataframe\">\n",
       "  <thead>\n",
       "    <tr style=\"text-align: right;\">\n",
       "      <th></th>\n",
       "      <th>UserId</th>\n",
       "      <th>ItemId</th>\n",
       "      <th>Rating</th>\n",
       "      <th>Time</th>\n",
       "      <th>SessionId</th>\n",
       "    </tr>\n",
       "  </thead>\n",
       "  <tbody>\n",
       "    <tr>\n",
       "      <th>0</th>\n",
       "      <td>1</td>\n",
       "      <td>3186</td>\n",
       "      <td>4</td>\n",
       "      <td>978300019</td>\n",
       "      <td>0</td>\n",
       "    </tr>\n",
       "    <tr>\n",
       "      <th>1</th>\n",
       "      <td>1</td>\n",
       "      <td>1270</td>\n",
       "      <td>5</td>\n",
       "      <td>978300055</td>\n",
       "      <td>1</td>\n",
       "    </tr>\n",
       "    <tr>\n",
       "      <th>2</th>\n",
       "      <td>1</td>\n",
       "      <td>1721</td>\n",
       "      <td>4</td>\n",
       "      <td>978300055</td>\n",
       "      <td>1</td>\n",
       "    </tr>\n",
       "    <tr>\n",
       "      <th>3</th>\n",
       "      <td>1</td>\n",
       "      <td>1022</td>\n",
       "      <td>5</td>\n",
       "      <td>978300055</td>\n",
       "      <td>1</td>\n",
       "    </tr>\n",
       "    <tr>\n",
       "      <th>4</th>\n",
       "      <td>1</td>\n",
       "      <td>2340</td>\n",
       "      <td>3</td>\n",
       "      <td>978300103</td>\n",
       "      <td>2</td>\n",
       "    </tr>\n",
       "    <tr>\n",
       "      <th>...</th>\n",
       "      <td>...</td>\n",
       "      <td>...</td>\n",
       "      <td>...</td>\n",
       "      <td>...</td>\n",
       "      <td>...</td>\n",
       "    </tr>\n",
       "    <tr>\n",
       "      <th>1000204</th>\n",
       "      <td>6040</td>\n",
       "      <td>2917</td>\n",
       "      <td>4</td>\n",
       "      <td>997454429</td>\n",
       "      <td>471159</td>\n",
       "    </tr>\n",
       "    <tr>\n",
       "      <th>1000205</th>\n",
       "      <td>6040</td>\n",
       "      <td>1921</td>\n",
       "      <td>4</td>\n",
       "      <td>997454464</td>\n",
       "      <td>471160</td>\n",
       "    </tr>\n",
       "    <tr>\n",
       "      <th>1000206</th>\n",
       "      <td>6040</td>\n",
       "      <td>1784</td>\n",
       "      <td>3</td>\n",
       "      <td>997454464</td>\n",
       "      <td>471160</td>\n",
       "    </tr>\n",
       "    <tr>\n",
       "      <th>1000207</th>\n",
       "      <td>6040</td>\n",
       "      <td>161</td>\n",
       "      <td>3</td>\n",
       "      <td>997454486</td>\n",
       "      <td>471161</td>\n",
       "    </tr>\n",
       "    <tr>\n",
       "      <th>1000208</th>\n",
       "      <td>6040</td>\n",
       "      <td>1221</td>\n",
       "      <td>4</td>\n",
       "      <td>998315055</td>\n",
       "      <td>471162</td>\n",
       "    </tr>\n",
       "  </tbody>\n",
       "</table>\n",
       "<p>836478 rows × 5 columns</p>\n",
       "</div>"
      ],
      "text/plain": [
       "         UserId  ItemId  Rating       Time  SessionId\n",
       "0             1    3186       4  978300019          0\n",
       "1             1    1270       5  978300055          1\n",
       "2             1    1721       4  978300055          1\n",
       "3             1    1022       5  978300055          1\n",
       "4             1    2340       3  978300103          2\n",
       "...         ...     ...     ...        ...        ...\n",
       "1000204    6040    2917       4  997454429     471159\n",
       "1000205    6040    1921       4  997454464     471160\n",
       "1000206    6040    1784       3  997454464     471160\n",
       "1000207    6040     161       3  997454486     471161\n",
       "1000208    6040    1221       4  998315055     471162\n",
       "\n",
       "[836478 rows x 5 columns]"
      ]
     },
     "execution_count": 23,
     "metadata": {},
     "output_type": "execute_result"
    }
   ],
   "source": [
    "#3점 이상 데이터만 사용\n",
    "data = data[data['Rating'] >= 3]\n",
    "data"
   ]
  },
  {
   "cell_type": "code",
   "execution_count": 24,
   "id": "intermediate-oriental",
   "metadata": {},
   "outputs": [],
   "source": [
    "def split_by_date(data: pd.DataFrame, n_days: int):\n",
    "    final_time = data['Time'].max()\n",
    "    session_last_time = data.groupby('SessionId')['Time'].max()\n",
    "    session_in_train = session_last_time[session_last_time < final_time - (86400*n_days)].index\n",
    "    session_in_test = session_last_time[session_last_time >= final_time - (86400*n_days)].index\n",
    "\n",
    "    before_date = data[data['SessionId'].isin(session_in_train)]\n",
    "    after_date = data[data['SessionId'].isin(session_in_test)]\n",
    "    after_date = after_date[after_date['ItemId'].isin(before_date['ItemId'])]\n",
    "    return before_date, after_date"
   ]
  },
  {
   "cell_type": "code",
   "execution_count": 25,
   "id": "eight-basics",
   "metadata": {},
   "outputs": [],
   "source": [
    "tr, test = split_by_date(data, n_days=100)\n",
    "tr, val = split_by_date(tr, n_days=100)"
   ]
  },
  {
   "cell_type": "code",
   "execution_count": 26,
   "id": "invalid-burlington",
   "metadata": {},
   "outputs": [],
   "source": [
    "# data에 대한 정보를 살펴봅니다.\n",
    "def stats_info(data: pd.DataFrame, status: str):\n",
    "    print(f'* {status} Set Stats Info\\n'\n",
    "          f'\\t Events: {len(data)}\\n'\n",
    "          f'\\t Sessions: {data[\"SessionId\"].nunique()}\\n'\n",
    "          f'\\t Items: {data[\"ItemId\"].nunique()}\\n'\n",
    "          f'\\t First Time : {data[\"Time\"].min()}\\n'\n",
    "          f'\\t Last Time : {data[\"Time\"].max()}\\n')"
   ]
  },
  {
   "cell_type": "code",
   "execution_count": 27,
   "id": "creative-oklahoma",
   "metadata": {},
   "outputs": [
    {
     "name": "stdout",
     "output_type": "stream",
     "text": [
      "* train Set Stats Info\n",
      "\t Events: 827992\n",
      "\t Sessions: 417187\n",
      "\t Items: 3623\n",
      "\t First Time : 956703932\n",
      "\t Last Time : 1029160409\n",
      "\n",
      "* valid Set Stats Info\n",
      "\t Events: 4363\n",
      "\t Sessions: 3146\n",
      "\t Items: 1727\n",
      "\t First Time : 1029199206\n",
      "\t Last Time : 1037810320\n",
      "\n",
      "* test Set Stats Info\n",
      "\t Events: 4118\n",
      "\t Sessions: 3071\n",
      "\t Items: 1625\n",
      "\t First Time : 1037824202\n",
      "\t Last Time : 1046454590\n",
      "\n"
     ]
    }
   ],
   "source": [
    "stats_info(tr, 'train')\n",
    "stats_info(val, 'valid')\n",
    "stats_info(test, 'test')"
   ]
  },
  {
   "cell_type": "code",
   "execution_count": 28,
   "id": "surprised-incidence",
   "metadata": {},
   "outputs": [],
   "source": [
    "# train set에 없는 아이템이 val, test기간에 생길 수 있으므로 train data를 기준으로 인덱싱합니다.\n",
    "id2idx = {item_id : index for index, item_id in enumerate(tr['ItemId'].unique())}\n",
    "\n",
    "def indexing(df, id2idx):\n",
    "    df['item_idx'] = df['ItemId'].map(lambda x: id2idx.get(x, -1))  # id2idx에 없는 아이템은 모르는 값(-1) 처리 해줍니다.\n",
    "    return df\n",
    "\n",
    "tr = indexing(tr, id2idx)\n",
    "val = indexing(val, id2idx)\n",
    "test = indexing(test, id2idx)"
   ]
  },
  {
   "cell_type": "code",
   "execution_count": 29,
   "id": "lovely-walter",
   "metadata": {},
   "outputs": [],
   "source": [
    "save_path = data_path / 'processed'\n",
    "save_path.mkdir(parents=True, exist_ok=True)\n",
    "\n",
    "tr.to_pickle(save_path / 'train.pkl')\n",
    "val.to_pickle(save_path / 'valid.pkl')\n",
    "test.to_pickle(save_path / 'test.pkl')"
   ]
  },
  {
   "cell_type": "markdown",
   "id": "furnished-germany",
   "metadata": {},
   "source": [
    "## Data Pipeline\n",
    "Session-Parallel Mini-Batch구현\n",
    "- SessionDataset\n",
    "- SessionDataLoader"
   ]
  },
  {
   "cell_type": "code",
   "execution_count": 30,
   "id": "confidential-glass",
   "metadata": {},
   "outputs": [],
   "source": [
    "##데이터가 주어지면 세션이 시작되는 인덱스를 담는 값과 세션을 새로 인덱싱한 값을 갖는 클래스를 만듭니다.\n",
    "class SessionDataset:\n",
    "    \"\"\"Credit to yhs-968/pyGRU4REC.\"\"\"\n",
    "\n",
    "    def __init__(self, data):\n",
    "        self.df = data\n",
    "        self.click_offsets = self.get_click_offsets()\n",
    "        self.session_idx = np.arange(self.df['SessionId'].nunique())  # indexing to SessionId\n",
    "\n",
    "    def get_click_offsets(self):\n",
    "        \"\"\"\n",
    "        Return the indexes of the first click of each session IDs,\n",
    "        \"\"\"\n",
    "        offsets = np.zeros(self.df['SessionId'].nunique() + 1, dtype=np.int32)\n",
    "        offsets[1:] = self.df.groupby('SessionId').size().cumsum()\n",
    "        return offsets"
   ]
  },
  {
   "cell_type": "code",
   "execution_count": 31,
   "id": "clinical-moisture",
   "metadata": {},
   "outputs": [
    {
     "data": {
      "text/html": [
       "<div>\n",
       "<style scoped>\n",
       "    .dataframe tbody tr th:only-of-type {\n",
       "        vertical-align: middle;\n",
       "    }\n",
       "\n",
       "    .dataframe tbody tr th {\n",
       "        vertical-align: top;\n",
       "    }\n",
       "\n",
       "    .dataframe thead th {\n",
       "        text-align: right;\n",
       "    }\n",
       "</style>\n",
       "<table border=\"1\" class=\"dataframe\">\n",
       "  <thead>\n",
       "    <tr style=\"text-align: right;\">\n",
       "      <th></th>\n",
       "      <th>UserId</th>\n",
       "      <th>ItemId</th>\n",
       "      <th>Rating</th>\n",
       "      <th>Time</th>\n",
       "      <th>SessionId</th>\n",
       "      <th>item_idx</th>\n",
       "    </tr>\n",
       "  </thead>\n",
       "  <tbody>\n",
       "    <tr>\n",
       "      <th>0</th>\n",
       "      <td>1</td>\n",
       "      <td>3186</td>\n",
       "      <td>4</td>\n",
       "      <td>978300019</td>\n",
       "      <td>0</td>\n",
       "      <td>0</td>\n",
       "    </tr>\n",
       "    <tr>\n",
       "      <th>1</th>\n",
       "      <td>1</td>\n",
       "      <td>1270</td>\n",
       "      <td>5</td>\n",
       "      <td>978300055</td>\n",
       "      <td>1</td>\n",
       "      <td>1</td>\n",
       "    </tr>\n",
       "    <tr>\n",
       "      <th>2</th>\n",
       "      <td>1</td>\n",
       "      <td>1721</td>\n",
       "      <td>4</td>\n",
       "      <td>978300055</td>\n",
       "      <td>1</td>\n",
       "      <td>2</td>\n",
       "    </tr>\n",
       "    <tr>\n",
       "      <th>3</th>\n",
       "      <td>1</td>\n",
       "      <td>1022</td>\n",
       "      <td>5</td>\n",
       "      <td>978300055</td>\n",
       "      <td>1</td>\n",
       "      <td>3</td>\n",
       "    </tr>\n",
       "    <tr>\n",
       "      <th>4</th>\n",
       "      <td>1</td>\n",
       "      <td>2340</td>\n",
       "      <td>3</td>\n",
       "      <td>978300103</td>\n",
       "      <td>2</td>\n",
       "      <td>4</td>\n",
       "    </tr>\n",
       "    <tr>\n",
       "      <th>5</th>\n",
       "      <td>1</td>\n",
       "      <td>1836</td>\n",
       "      <td>5</td>\n",
       "      <td>978300172</td>\n",
       "      <td>3</td>\n",
       "      <td>5</td>\n",
       "    </tr>\n",
       "    <tr>\n",
       "      <th>6</th>\n",
       "      <td>1</td>\n",
       "      <td>3408</td>\n",
       "      <td>4</td>\n",
       "      <td>978300275</td>\n",
       "      <td>4</td>\n",
       "      <td>6</td>\n",
       "    </tr>\n",
       "    <tr>\n",
       "      <th>7</th>\n",
       "      <td>1</td>\n",
       "      <td>2804</td>\n",
       "      <td>5</td>\n",
       "      <td>978300719</td>\n",
       "      <td>5</td>\n",
       "      <td>7</td>\n",
       "    </tr>\n",
       "    <tr>\n",
       "      <th>8</th>\n",
       "      <td>1</td>\n",
       "      <td>1207</td>\n",
       "      <td>4</td>\n",
       "      <td>978300719</td>\n",
       "      <td>5</td>\n",
       "      <td>8</td>\n",
       "    </tr>\n",
       "    <tr>\n",
       "      <th>9</th>\n",
       "      <td>1</td>\n",
       "      <td>1193</td>\n",
       "      <td>5</td>\n",
       "      <td>978300760</td>\n",
       "      <td>6</td>\n",
       "      <td>9</td>\n",
       "    </tr>\n",
       "  </tbody>\n",
       "</table>\n",
       "</div>"
      ],
      "text/plain": [
       "   UserId  ItemId  Rating       Time  SessionId  item_idx\n",
       "0       1    3186       4  978300019          0         0\n",
       "1       1    1270       5  978300055          1         1\n",
       "2       1    1721       4  978300055          1         2\n",
       "3       1    1022       5  978300055          1         3\n",
       "4       1    2340       3  978300103          2         4\n",
       "5       1    1836       5  978300172          3         5\n",
       "6       1    3408       4  978300275          4         6\n",
       "7       1    2804       5  978300719          5         7\n",
       "8       1    1207       4  978300719          5         8\n",
       "9       1    1193       5  978300760          6         9"
      ]
     },
     "execution_count": 31,
     "metadata": {},
     "output_type": "execute_result"
    }
   ],
   "source": [
    "tr_dataset = SessionDataset(tr)\n",
    "tr_dataset.df.head(10)"
   ]
  },
  {
   "cell_type": "code",
   "execution_count": 32,
   "id": "extended-separation",
   "metadata": {},
   "outputs": [
    {
     "data": {
      "text/plain": [
       "array([     0,      1,      4, ..., 827990, 827991, 827992], dtype=int32)"
      ]
     },
     "execution_count": 32,
     "metadata": {},
     "output_type": "execute_result"
    }
   ],
   "source": [
    "tr_dataset.click_offsets"
   ]
  },
  {
   "cell_type": "code",
   "execution_count": 33,
   "id": "united-constitution",
   "metadata": {},
   "outputs": [
    {
     "data": {
      "text/plain": [
       "array([     0,      1,      2, ..., 417184, 417185, 417186])"
      ]
     },
     "execution_count": 33,
     "metadata": {},
     "output_type": "execute_result"
    }
   ],
   "source": [
    "tr_dataset.session_idx"
   ]
  },
  {
   "cell_type": "code",
   "execution_count": 34,
   "id": "universal-sending",
   "metadata": {},
   "outputs": [],
   "source": [
    "#SessionDataLoader\n",
    "#SessionDataset 객체를 받아서 Session-Parallel mini-batch를 만드는 클래스를 만듭니다.\n",
    "#__iter__ 메소드는 모델 인풋, 라벨, 세션이 끝나는 곳의 위치를 yield합니다.\n",
    "#mask는 후에 RNN Cell State를 초기화 하는데 사용할 것\n",
    "\n",
    "class SessionDataLoader:\n",
    "    \"\"\"Credit to yhs-968/pyGRU4REC.\"\"\"\n",
    "\n",
    "    def __init__(self, dataset: SessionDataset, batch_size=50):\n",
    "        self.dataset = dataset\n",
    "        self.batch_size = batch_size\n",
    "\n",
    "    def __iter__(self):\n",
    "        \"\"\" Returns the iterator for producing session-parallel training mini-batches.\n",
    "        Yields:\n",
    "            input (B,):  Item indices that will be encoded as one-hot vectors later.\n",
    "            target (B,): a Variable that stores the target item indices\n",
    "            masks: Numpy array indicating the positions of the sessions to be terminated\n",
    "        \"\"\"\n",
    "\n",
    "        start, end, mask, last_session, finished = self.initialize()  # initialize 메소드에서 확인해주세요.\n",
    "        \"\"\"\n",
    "        start : Index Where Session Start\n",
    "        end : Index Where Session End\n",
    "        mask : indicator for the sessions to be terminated\n",
    "        \"\"\"\n",
    "\n",
    "        while not finished:\n",
    "            min_len = (end - start).min() - 1  # Shortest Length Among Sessions\n",
    "            for i in range(min_len):\n",
    "                # Build inputs & targets\n",
    "                inp = self.dataset.df['item_idx'].values[start + i]\n",
    "                target = self.dataset.df['item_idx'].values[start + i + 1]\n",
    "                yield inp, target, mask\n",
    "\n",
    "            start, end, mask, last_session, finished = self.update_status(start, end, min_len, last_session, finished)\n",
    "\n",
    "    def initialize(self):\n",
    "        first_iters = np.arange(self.batch_size)    # 첫 배치에 사용할 세션 Index를 가져옵니다.\n",
    "        last_session = self.batch_size - 1    # 마지막으로 다루고 있는 세션 Index를 저장해둡니다.\n",
    "        start = self.dataset.click_offsets[self.dataset.session_idx[first_iters]]       # data 상에서 session이 시작된 위치를 가져옵니다.\n",
    "        end = self.dataset.click_offsets[self.dataset.session_idx[first_iters] + 1]  # session이 끝난 위치 바로 다음 위치를 가져옵니다.\n",
    "        mask = np.array([])   # session의 모든 아이템을 다 돌은 경우 mask에 추가해줄 것입니다.\n",
    "        finished = False         # data를 전부 돌았는지 기록하기 위한 변수입니다.\n",
    "        return start, end, mask, last_session, finished\n",
    "\n",
    "    def update_status(self, start: np.ndarray, end: np.ndarray, min_len: int, last_session: int, finished: bool):  \n",
    "        # 다음 배치 데이터를 생성하기 위해 상태를 update합니다.\n",
    "        \n",
    "        start += min_len   # __iter__에서 min_len 만큼 for문을 돌았으므로 start를 min_len 만큼 더해줍니다.\n",
    "        mask = np.arange(self.batch_size)[(end - start) == 1]  \n",
    "        # end는 다음 세션이 시작되는 위치인데 start와 한 칸 차이난다는 것은 session이 끝났다는 뜻입니다. mask에 기록해줍니다.\n",
    "\n",
    "        for i, idx in enumerate(mask, start=1):  # mask에 추가된 세션 개수만큼 새로운 세션을 돌것입니다.\n",
    "            new_session = last_session + i  \n",
    "            if new_session > self.dataset.session_idx[-1]:  # 만약 새로운 세션이 마지막 세션 index보다 크다면 모든 학습데이터를 돈 것입니다.\n",
    "                finished = True\n",
    "                break\n",
    "            # update the next starting/ending point\n",
    "            start[idx] = self.dataset.click_offsets[self.dataset.session_idx[new_session]]     # 종료된 세션 대신 새로운 세션의 시작점을 기록합니다.\n",
    "            end[idx] = self.dataset.click_offsets[self.dataset.session_idx[new_session] + 1]\n",
    "\n",
    "        last_session += len(mask)  # 마지막 세션의 위치를 기록해둡니다.\n",
    "        return start, end, mask, last_session, finished"
   ]
  },
  {
   "cell_type": "code",
   "execution_count": 35,
   "id": "animated-bonus",
   "metadata": {},
   "outputs": [
    {
     "data": {
      "text/html": [
       "<div>\n",
       "<style scoped>\n",
       "    .dataframe tbody tr th:only-of-type {\n",
       "        vertical-align: middle;\n",
       "    }\n",
       "\n",
       "    .dataframe tbody tr th {\n",
       "        vertical-align: top;\n",
       "    }\n",
       "\n",
       "    .dataframe thead th {\n",
       "        text-align: right;\n",
       "    }\n",
       "</style>\n",
       "<table border=\"1\" class=\"dataframe\">\n",
       "  <thead>\n",
       "    <tr style=\"text-align: right;\">\n",
       "      <th></th>\n",
       "      <th>UserId</th>\n",
       "      <th>ItemId</th>\n",
       "      <th>Rating</th>\n",
       "      <th>Time</th>\n",
       "      <th>SessionId</th>\n",
       "      <th>item_idx</th>\n",
       "    </tr>\n",
       "  </thead>\n",
       "  <tbody>\n",
       "    <tr>\n",
       "      <th>0</th>\n",
       "      <td>1</td>\n",
       "      <td>3186</td>\n",
       "      <td>4</td>\n",
       "      <td>978300019</td>\n",
       "      <td>0</td>\n",
       "      <td>0</td>\n",
       "    </tr>\n",
       "    <tr>\n",
       "      <th>1</th>\n",
       "      <td>1</td>\n",
       "      <td>1270</td>\n",
       "      <td>5</td>\n",
       "      <td>978300055</td>\n",
       "      <td>1</td>\n",
       "      <td>1</td>\n",
       "    </tr>\n",
       "    <tr>\n",
       "      <th>2</th>\n",
       "      <td>1</td>\n",
       "      <td>1721</td>\n",
       "      <td>4</td>\n",
       "      <td>978300055</td>\n",
       "      <td>1</td>\n",
       "      <td>2</td>\n",
       "    </tr>\n",
       "    <tr>\n",
       "      <th>3</th>\n",
       "      <td>1</td>\n",
       "      <td>1022</td>\n",
       "      <td>5</td>\n",
       "      <td>978300055</td>\n",
       "      <td>1</td>\n",
       "      <td>3</td>\n",
       "    </tr>\n",
       "    <tr>\n",
       "      <th>4</th>\n",
       "      <td>1</td>\n",
       "      <td>2340</td>\n",
       "      <td>3</td>\n",
       "      <td>978300103</td>\n",
       "      <td>2</td>\n",
       "      <td>4</td>\n",
       "    </tr>\n",
       "    <tr>\n",
       "      <th>5</th>\n",
       "      <td>1</td>\n",
       "      <td>1836</td>\n",
       "      <td>5</td>\n",
       "      <td>978300172</td>\n",
       "      <td>3</td>\n",
       "      <td>5</td>\n",
       "    </tr>\n",
       "    <tr>\n",
       "      <th>6</th>\n",
       "      <td>1</td>\n",
       "      <td>3408</td>\n",
       "      <td>4</td>\n",
       "      <td>978300275</td>\n",
       "      <td>4</td>\n",
       "      <td>6</td>\n",
       "    </tr>\n",
       "    <tr>\n",
       "      <th>7</th>\n",
       "      <td>1</td>\n",
       "      <td>2804</td>\n",
       "      <td>5</td>\n",
       "      <td>978300719</td>\n",
       "      <td>5</td>\n",
       "      <td>7</td>\n",
       "    </tr>\n",
       "    <tr>\n",
       "      <th>8</th>\n",
       "      <td>1</td>\n",
       "      <td>1207</td>\n",
       "      <td>4</td>\n",
       "      <td>978300719</td>\n",
       "      <td>5</td>\n",
       "      <td>8</td>\n",
       "    </tr>\n",
       "    <tr>\n",
       "      <th>9</th>\n",
       "      <td>1</td>\n",
       "      <td>1193</td>\n",
       "      <td>5</td>\n",
       "      <td>978300760</td>\n",
       "      <td>6</td>\n",
       "      <td>9</td>\n",
       "    </tr>\n",
       "    <tr>\n",
       "      <th>10</th>\n",
       "      <td>1</td>\n",
       "      <td>720</td>\n",
       "      <td>3</td>\n",
       "      <td>978300760</td>\n",
       "      <td>6</td>\n",
       "      <td>10</td>\n",
       "    </tr>\n",
       "    <tr>\n",
       "      <th>11</th>\n",
       "      <td>1</td>\n",
       "      <td>260</td>\n",
       "      <td>4</td>\n",
       "      <td>978300760</td>\n",
       "      <td>6</td>\n",
       "      <td>11</td>\n",
       "    </tr>\n",
       "    <tr>\n",
       "      <th>12</th>\n",
       "      <td>1</td>\n",
       "      <td>919</td>\n",
       "      <td>4</td>\n",
       "      <td>978301368</td>\n",
       "      <td>7</td>\n",
       "      <td>12</td>\n",
       "    </tr>\n",
       "    <tr>\n",
       "      <th>13</th>\n",
       "      <td>1</td>\n",
       "      <td>608</td>\n",
       "      <td>4</td>\n",
       "      <td>978301398</td>\n",
       "      <td>8</td>\n",
       "      <td>13</td>\n",
       "    </tr>\n",
       "    <tr>\n",
       "      <th>14</th>\n",
       "      <td>1</td>\n",
       "      <td>2692</td>\n",
       "      <td>4</td>\n",
       "      <td>978301570</td>\n",
       "      <td>9</td>\n",
       "      <td>14</td>\n",
       "    </tr>\n",
       "  </tbody>\n",
       "</table>\n",
       "</div>"
      ],
      "text/plain": [
       "    UserId  ItemId  Rating       Time  SessionId  item_idx\n",
       "0        1    3186       4  978300019          0         0\n",
       "1        1    1270       5  978300055          1         1\n",
       "2        1    1721       4  978300055          1         2\n",
       "3        1    1022       5  978300055          1         3\n",
       "4        1    2340       3  978300103          2         4\n",
       "5        1    1836       5  978300172          3         5\n",
       "6        1    3408       4  978300275          4         6\n",
       "7        1    2804       5  978300719          5         7\n",
       "8        1    1207       4  978300719          5         8\n",
       "9        1    1193       5  978300760          6         9\n",
       "10       1     720       3  978300760          6        10\n",
       "11       1     260       4  978300760          6        11\n",
       "12       1     919       4  978301368          7        12\n",
       "13       1     608       4  978301398          8        13\n",
       "14       1    2692       4  978301570          9        14"
      ]
     },
     "execution_count": 35,
     "metadata": {},
     "output_type": "execute_result"
    }
   ],
   "source": [
    "tr_data_loader = SessionDataLoader(tr_dataset, batch_size=4)\n",
    "tr_dataset.df.head(15)"
   ]
  },
  {
   "cell_type": "code",
   "execution_count": 36,
   "id": "reverse-chicago",
   "metadata": {},
   "outputs": [],
   "source": [
    "iter_ex = iter(tr_data_loader)"
   ]
  },
  {
   "cell_type": "code",
   "execution_count": 37,
   "id": "essential-ukraine",
   "metadata": {},
   "outputs": [
    {
     "name": "stdout",
     "output_type": "stream",
     "text": [
      "Model Input Item Idx are : [19  1  7  9]\n",
      "Label Item Idx are :       [20  2  8 10]\n",
      "Previous Masked Input Idx are [0]\n"
     ]
    }
   ],
   "source": [
    "inputs, labels, mask =  next(iter_ex)\n",
    "print(f'Model Input Item Idx are : {inputs}')\n",
    "print(f'Label Item Idx are : {\"\":5} {labels}')\n",
    "print(f'Previous Masked Input Idx are {mask}')"
   ]
  },
  {
   "cell_type": "markdown",
   "id": "primary-vector",
   "metadata": {},
   "source": [
    "## Modeling\n",
    "1. Evaluation Metric\n",
    "- precision,recall\n",
    "- recall@k,Mean Average Precision@k\n",
    "- 순서에 민감한 지표인 MRR, NDCG 같은 지표도 사용합니다.MRR과Recall@k를 사용. MRR은 정답 아이템이 나온 순번의 역수 값 \n",
    "- 정답 아이템이 추천 결과 앞쪽 순번에 나온다면 지표가 높아질 것이고 뒤쪽에 나오거나 안나온다면 지표가 낮아질 것이다.\n",
    "\n",
    "2. Model Architecture\n",
    "3. Model Training\n",
    "4. Inference"
   ]
  },
  {
   "cell_type": "code",
   "execution_count": 38,
   "id": "logical-channels",
   "metadata": {},
   "outputs": [],
   "source": [
    "def mrr_k(pred, truth: int, k: int):\n",
    "    indexing = np.where(pred[:k] == truth)[0]\n",
    "    if len(indexing) > 0:\n",
    "        return 1 / (indexing[0] + 1)\n",
    "    else:\n",
    "        return 0\n",
    "\n",
    "\n",
    "def recall_k(pred, truth: int, k: int) -> int:\n",
    "    answer = truth in pred[:k]\n",
    "    return int(answer)"
   ]
  },
  {
   "cell_type": "code",
   "execution_count": 39,
   "id": "assumed-mining",
   "metadata": {},
   "outputs": [],
   "source": [
    "import numpy as np\n",
    "import tensorflow as tf\n",
    "from tensorflow.keras.layers import Input, Dense, Dropout, GRU\n",
    "from tensorflow.keras.losses import categorical_crossentropy\n",
    "from tensorflow.keras.models import Model\n",
    "from tensorflow.keras.optimizers import Adam\n",
    "from tensorflow.keras.utils import to_categorical\n",
    "from tqdm import tqdm"
   ]
  },
  {
   "cell_type": "code",
   "execution_count": 40,
   "id": "median-algorithm",
   "metadata": {},
   "outputs": [],
   "source": [
    "def create_model(args):\n",
    "    inputs = Input(batch_shape=(args.batch_size, 1, args.num_items))\n",
    "    gru, _ = GRU(args.hsz, stateful=True, return_state=True, name='GRU')(inputs)\n",
    "    dropout = Dropout(args.drop_rate)(gru)\n",
    "    predictions = Dense(args.num_items, activation='softmax')(dropout)\n",
    "    model = Model(inputs=inputs, outputs=[predictions])\n",
    "    model.compile(loss=categorical_crossentropy, optimizer=Adam(args.lr), metrics=['accuracy'])\n",
    "    model.summary()\n",
    "    return model"
   ]
  },
  {
   "cell_type": "code",
   "execution_count": 41,
   "id": "pleasant-rubber",
   "metadata": {},
   "outputs": [],
   "source": [
    "class Args:\n",
    "    def __init__(self, tr, val, test, batch_size, hsz, drop_rate, lr, epochs, k):\n",
    "        self.tr = tr\n",
    "        self.val = val\n",
    "        self.test = test\n",
    "        self.num_items = tr['ItemId'].nunique()\n",
    "        self.num_sessions = tr['SessionId'].nunique()\n",
    "        self.batch_size = batch_size\n",
    "        self.hsz = hsz\n",
    "        self.drop_rate = drop_rate\n",
    "        self.lr = lr\n",
    "        self.epochs = epochs\n",
    "        self.k = k\n",
    "\n",
    "args = Args(tr, val, test, batch_size=64, hsz=50, drop_rate=0.1, lr=0.001, epochs=20, k=40)"
   ]
  },
  {
   "cell_type": "code",
   "execution_count": 42,
   "id": "monthly-client",
   "metadata": {},
   "outputs": [
    {
     "name": "stdout",
     "output_type": "stream",
     "text": [
      "Model: \"model\"\n",
      "_________________________________________________________________\n",
      "Layer (type)                 Output Shape              Param #   \n",
      "=================================================================\n",
      "input_1 (InputLayer)         [(64, 1, 3623)]           0         \n",
      "_________________________________________________________________\n",
      "GRU (GRU)                    [(64, 50), (64, 50)]      551250    \n",
      "_________________________________________________________________\n",
      "dropout (Dropout)            (64, 50)                  0         \n",
      "_________________________________________________________________\n",
      "dense (Dense)                (64, 3623)                184773    \n",
      "=================================================================\n",
      "Total params: 736,023\n",
      "Trainable params: 736,023\n",
      "Non-trainable params: 0\n",
      "_________________________________________________________________\n"
     ]
    }
   ],
   "source": [
    "model = create_model(args)"
   ]
  },
  {
   "cell_type": "code",
   "execution_count": 43,
   "id": "mechanical-caution",
   "metadata": {},
   "outputs": [],
   "source": [
    "# train 셋으로 학습하면서 valid 셋으로 검증합니다.\n",
    "def train_model(model, args):\n",
    "    train_dataset = SessionDataset(args.tr)\n",
    "    train_loader = SessionDataLoader(train_dataset, batch_size=args.batch_size)\n",
    "\n",
    "    for epoch in range(1, args.epochs + 1):\n",
    "        total_step = len(args.tr) - args.tr['SessionId'].nunique()\n",
    "        tr_loader = tqdm(train_loader, total=total_step // args.batch_size, desc='Train', mininterval=1)\n",
    "        for feat, target, mask in tr_loader:\n",
    "            reset_hidden_states(model, mask)  # 종료된 session은 hidden_state를 초기화합니다. 아래 메서드에서 확인해주세요.\n",
    "\n",
    "            input_ohe = to_categorical(feat, num_classes=args.num_items)\n",
    "            input_ohe = np.expand_dims(input_ohe, axis=1)\n",
    "            target_ohe = to_categorical(target, num_classes=args.num_items)\n",
    "\n",
    "            result = model.train_on_batch(input_ohe, target_ohe)\n",
    "            tr_loader.set_postfix(train_loss=result[0], accuracy = result[1])\n",
    "\n",
    "        val_recall, val_mrr = get_metrics(args.val, model, args, args.k)  # valid set에 대해 검증합니다.\n",
    "\n",
    "        print(f\"\\t - Recall@{args.k} epoch {epoch}: {val_recall:3f}\")\n",
    "        print(f\"\\t - MRR@{args.k}    epoch {epoch}: {val_mrr:3f}\\n\")\n",
    "\n",
    "\n",
    "def reset_hidden_states(model, mask):\n",
    "    gru_layer = model.get_layer(name='GRU')  # model에서 gru layer를 가져옵니다.\n",
    "    hidden_states = gru_layer.states[0].numpy()  # gru_layer의 parameter를 가져옵니다.\n",
    "    for elt in mask:  # mask된 인덱스 즉, 종료된 세션의 인덱스를 돌면서\n",
    "        hidden_states[elt, :] = 0  # parameter를 초기화 합니다.\n",
    "    gru_layer.reset_states(states=hidden_states)\n",
    "\n",
    "\n",
    "def get_metrics(data, model, args, k: int):  # valid셋과 test셋을 평가하는 코드입니다. \n",
    "                                             # train과 거의 같지만 mrr, recall을 구하는 라인이 있습니다.\n",
    "    dataset = SessionDataset(data)\n",
    "    loader = SessionDataLoader(dataset, batch_size=args.batch_size)\n",
    "    recall_list, mrr_list = [], []\n",
    "\n",
    "    total_step = len(data) - data['SessionId'].nunique()\n",
    "    for inputs, label, mask in tqdm(loader, total=total_step // args.batch_size, desc='Evaluation', mininterval=1):\n",
    "        reset_hidden_states(model, mask)\n",
    "        input_ohe = to_categorical(inputs, num_classes=args.num_items)\n",
    "        input_ohe = np.expand_dims(input_ohe, axis=1)\n",
    "\n",
    "        pred = model.predict(input_ohe, batch_size=args.batch_size)\n",
    "        pred_arg = tf.argsort(pred, direction='DESCENDING')  # softmax 값이 큰 순서대로 sorting 합니다.\n",
    "\n",
    "        length = len(inputs)\n",
    "        recall_list.extend([recall_k(pred_arg[i], label[i], k) for i in range(length)])\n",
    "        mrr_list.extend([mrr_k(pred_arg[i], label[i], k) for i in range(length)])\n",
    "\n",
    "    recall, mrr = np.mean(recall_list), np.mean(mrr_list)\n",
    "    return recall, mrr"
   ]
  },
  {
   "cell_type": "code",
   "execution_count": 44,
   "id": "patent-illness",
   "metadata": {},
   "outputs": [
    {
     "name": "stderr",
     "output_type": "stream",
     "text": [
      "Train: 100%|██████████| 6418/6418 [01:25<00:00, 75.05it/s, accuracy=0.0156, train_loss=6.25]\n",
      "Evaluation:  89%|████████▉ | 17/19 [00:12<00:01,  1.38it/s]\n",
      "Train:   0%|          | 0/6418 [00:00<?, ?it/s, accuracy=0.0625, train_loss=6.31]"
     ]
    },
    {
     "name": "stdout",
     "output_type": "stream",
     "text": [
      "\t - Recall@40 epoch 1: 0.209559\n",
      "\t - MRR@40    epoch 1: 0.044776\n",
      "\n"
     ]
    },
    {
     "name": "stderr",
     "output_type": "stream",
     "text": [
      "Train: 100%|██████████| 6418/6418 [01:23<00:00, 77.13it/s, accuracy=0.0625, train_loss=5.89]\n",
      "Evaluation:  89%|████████▉ | 17/19 [00:11<00:01,  1.46it/s]\n",
      "Train:   0%|          | 0/6418 [00:00<?, ?it/s, accuracy=0.0938, train_loss=5.57]"
     ]
    },
    {
     "name": "stdout",
     "output_type": "stream",
     "text": [
      "\t - Recall@40 epoch 2: 0.274816\n",
      "\t - MRR@40    epoch 2: 0.064568\n",
      "\n"
     ]
    },
    {
     "name": "stderr",
     "output_type": "stream",
     "text": [
      "Train: 100%|██████████| 6418/6418 [01:23<00:00, 77.04it/s, accuracy=0.0469, train_loss=5.74]\n",
      "Evaluation:  89%|████████▉ | 17/19 [00:11<00:01,  1.47it/s]\n",
      "Train:   0%|          | 0/6418 [00:00<?, ?it/s, accuracy=0.0625, train_loss=5.97]"
     ]
    },
    {
     "name": "stdout",
     "output_type": "stream",
     "text": [
      "\t - Recall@40 epoch 3: 0.285846\n",
      "\t - MRR@40    epoch 3: 0.070099\n",
      "\n"
     ]
    },
    {
     "name": "stderr",
     "output_type": "stream",
     "text": [
      "Train: 100%|██████████| 6418/6418 [01:23<00:00, 76.78it/s, accuracy=0.0312, train_loss=5.69]\n",
      "Evaluation:  89%|████████▉ | 17/19 [00:11<00:01,  1.48it/s]\n",
      "Train:   0%|          | 0/6418 [00:00<?, ?it/s, accuracy=0.0938, train_loss=5.44]"
     ]
    },
    {
     "name": "stdout",
     "output_type": "stream",
     "text": [
      "\t - Recall@40 epoch 4: 0.286765\n",
      "\t - MRR@40    epoch 4: 0.073297\n",
      "\n"
     ]
    },
    {
     "name": "stderr",
     "output_type": "stream",
     "text": [
      "Train: 100%|██████████| 6418/6418 [01:23<00:00, 76.95it/s, accuracy=0.0625, train_loss=5.61]\n",
      "Evaluation:  89%|████████▉ | 17/19 [00:11<00:01,  1.51it/s]\n",
      "Train:   0%|          | 0/6418 [00:00<?, ?it/s, accuracy=0.0938, train_loss=5.41]"
     ]
    },
    {
     "name": "stdout",
     "output_type": "stream",
     "text": [
      "\t - Recall@40 epoch 5: 0.289522\n",
      "\t - MRR@40    epoch 5: 0.074111\n",
      "\n"
     ]
    },
    {
     "name": "stderr",
     "output_type": "stream",
     "text": [
      "Train: 100%|██████████| 6418/6418 [01:23<00:00, 76.76it/s, accuracy=0.0781, train_loss=5.62]\n",
      "Evaluation:  89%|████████▉ | 17/19 [00:11<00:01,  1.48it/s]\n",
      "Train:   0%|          | 0/6418 [00:00<?, ?it/s, accuracy=0.0625, train_loss=5.37]"
     ]
    },
    {
     "name": "stdout",
     "output_type": "stream",
     "text": [
      "\t - Recall@40 epoch 6: 0.294118\n",
      "\t - MRR@40    epoch 6: 0.075165\n",
      "\n"
     ]
    },
    {
     "name": "stderr",
     "output_type": "stream",
     "text": [
      "Train: 100%|██████████| 6418/6418 [01:22<00:00, 78.24it/s, accuracy=0.141, train_loss=5.54] \n",
      "Evaluation:  89%|████████▉ | 17/19 [00:11<00:01,  1.46it/s]\n",
      "Train:   0%|          | 0/6418 [00:00<?, ?it/s, accuracy=0.0781, train_loss=5.6] "
     ]
    },
    {
     "name": "stdout",
     "output_type": "stream",
     "text": [
      "\t - Recall@40 epoch 7: 0.290441\n",
      "\t - MRR@40    epoch 7: 0.073488\n",
      "\n"
     ]
    },
    {
     "name": "stderr",
     "output_type": "stream",
     "text": [
      "Train: 100%|██████████| 6418/6418 [01:21<00:00, 78.63it/s, accuracy=0.0781, train_loss=5.52]\n",
      "Evaluation:  89%|████████▉ | 17/19 [00:11<00:01,  1.50it/s]\n",
      "Train:   0%|          | 0/6418 [00:00<?, ?it/s, accuracy=0.0781, train_loss=5.39]"
     ]
    },
    {
     "name": "stdout",
     "output_type": "stream",
     "text": [
      "\t - Recall@40 epoch 8: 0.293199\n",
      "\t - MRR@40    epoch 8: 0.074011\n",
      "\n"
     ]
    },
    {
     "name": "stderr",
     "output_type": "stream",
     "text": [
      "Train: 100%|██████████| 6418/6418 [01:22<00:00, 78.06it/s, accuracy=0.0938, train_loss=5.5] \n",
      "Evaluation:  89%|████████▉ | 17/19 [00:11<00:01,  1.51it/s]\n",
      "Train:   0%|          | 0/6418 [00:00<?, ?it/s, accuracy=0.0781, train_loss=5.43]"
     ]
    },
    {
     "name": "stdout",
     "output_type": "stream",
     "text": [
      "\t - Recall@40 epoch 9: 0.292279\n",
      "\t - MRR@40    epoch 9: 0.075111\n",
      "\n"
     ]
    },
    {
     "name": "stderr",
     "output_type": "stream",
     "text": [
      "Train: 100%|██████████| 6418/6418 [01:22<00:00, 77.67it/s, accuracy=0.109, train_loss=5.43] \n",
      "Evaluation:  89%|████████▉ | 17/19 [00:11<00:01,  1.54it/s]\n",
      "Train:   0%|          | 0/6418 [00:00<?, ?it/s, accuracy=0.125, train_loss=5.25] "
     ]
    },
    {
     "name": "stdout",
     "output_type": "stream",
     "text": [
      "\t - Recall@40 epoch 10: 0.289522\n",
      "\t - MRR@40    epoch 10: 0.074518\n",
      "\n"
     ]
    },
    {
     "name": "stderr",
     "output_type": "stream",
     "text": [
      "Train: 100%|██████████| 6418/6418 [01:21<00:00, 78.97it/s, accuracy=0.0625, train_loss=5.56]\n",
      "Evaluation:  89%|████████▉ | 17/19 [00:11<00:01,  1.52it/s]\n",
      "Train:   0%|          | 0/6418 [00:00<?, ?it/s, accuracy=0.0938, train_loss=5.25]"
     ]
    },
    {
     "name": "stdout",
     "output_type": "stream",
     "text": [
      "\t - Recall@40 epoch 11: 0.290441\n",
      "\t - MRR@40    epoch 11: 0.072443\n",
      "\n"
     ]
    },
    {
     "name": "stderr",
     "output_type": "stream",
     "text": [
      "Train: 100%|██████████| 6418/6418 [01:20<00:00, 79.26it/s, accuracy=0.109, train_loss=5.51] \n",
      "Evaluation:  89%|████████▉ | 17/19 [00:10<00:01,  1.55it/s]\n",
      "Train:   0%|          | 0/6418 [00:00<?, ?it/s, accuracy=0.125, train_loss=5.52] "
     ]
    },
    {
     "name": "stdout",
     "output_type": "stream",
     "text": [
      "\t - Recall@40 epoch 12: 0.295037\n",
      "\t - MRR@40    epoch 12: 0.073191\n",
      "\n"
     ]
    },
    {
     "name": "stderr",
     "output_type": "stream",
     "text": [
      "Train: 100%|██████████| 6418/6418 [01:21<00:00, 78.99it/s, accuracy=0.0938, train_loss=5.54]\n",
      "Evaluation:  89%|████████▉ | 17/19 [00:11<00:01,  1.54it/s]\n",
      "Train:   0%|          | 0/6418 [00:00<?, ?it/s, accuracy=0.0938, train_loss=5.43]"
     ]
    },
    {
     "name": "stdout",
     "output_type": "stream",
     "text": [
      "\t - Recall@40 epoch 13: 0.297794\n",
      "\t - MRR@40    epoch 13: 0.071677\n",
      "\n"
     ]
    },
    {
     "name": "stderr",
     "output_type": "stream",
     "text": [
      "Train: 100%|██████████| 6418/6418 [01:21<00:00, 79.01it/s, accuracy=0.0938, train_loss=5.41]\n",
      "Evaluation:  89%|████████▉ | 17/19 [00:10<00:01,  1.56it/s]\n",
      "Train:   0%|          | 0/6418 [00:00<?, ?it/s, accuracy=0.109, train_loss=5.37] "
     ]
    },
    {
     "name": "stdout",
     "output_type": "stream",
     "text": [
      "\t - Recall@40 epoch 14: 0.297794\n",
      "\t - MRR@40    epoch 14: 0.072321\n",
      "\n"
     ]
    },
    {
     "name": "stderr",
     "output_type": "stream",
     "text": [
      "Train: 100%|██████████| 6418/6418 [01:20<00:00, 80.07it/s, accuracy=0.0625, train_loss=5.54]\n",
      "Evaluation:  89%|████████▉ | 17/19 [00:11<00:01,  1.54it/s]\n",
      "Train:   0%|          | 0/6418 [00:00<?, ?it/s, accuracy=0.0781, train_loss=5.22]"
     ]
    },
    {
     "name": "stdout",
     "output_type": "stream",
     "text": [
      "\t - Recall@40 epoch 15: 0.288603\n",
      "\t - MRR@40    epoch 15: 0.071983\n",
      "\n"
     ]
    },
    {
     "name": "stderr",
     "output_type": "stream",
     "text": [
      "Train: 100%|██████████| 6418/6418 [01:21<00:00, 79.03it/s, accuracy=0.0625, train_loss=5.54]\n",
      "Evaluation:  89%|████████▉ | 17/19 [00:11<00:01,  1.53it/s]\n",
      "Train:   0%|          | 0/6418 [00:00<?, ?it/s, accuracy=0.109, train_loss=5.4]  "
     ]
    },
    {
     "name": "stdout",
     "output_type": "stream",
     "text": [
      "\t - Recall@40 epoch 16: 0.284926\n",
      "\t - MRR@40    epoch 16: 0.071733\n",
      "\n"
     ]
    },
    {
     "name": "stderr",
     "output_type": "stream",
     "text": [
      "Train: 100%|██████████| 6418/6418 [01:21<00:00, 79.13it/s, accuracy=0.0781, train_loss=5.44]\n",
      "Evaluation:  89%|████████▉ | 17/19 [00:10<00:01,  1.56it/s]\n",
      "Train:   0%|          | 0/6418 [00:00<?, ?it/s, accuracy=0.0938, train_loss=5.4] "
     ]
    },
    {
     "name": "stdout",
     "output_type": "stream",
     "text": [
      "\t - Recall@40 epoch 17: 0.287684\n",
      "\t - MRR@40    epoch 17: 0.071618\n",
      "\n"
     ]
    },
    {
     "name": "stderr",
     "output_type": "stream",
     "text": [
      "Train: 100%|██████████| 6418/6418 [01:21<00:00, 79.17it/s, accuracy=0.109, train_loss=5.5]  \n",
      "Evaluation:  89%|████████▉ | 17/19 [00:10<00:01,  1.56it/s]\n",
      "Train:   0%|          | 0/6418 [00:00<?, ?it/s, accuracy=0.0781, train_loss=5.47]"
     ]
    },
    {
     "name": "stdout",
     "output_type": "stream",
     "text": [
      "\t - Recall@40 epoch 18: 0.293199\n",
      "\t - MRR@40    epoch 18: 0.072487\n",
      "\n"
     ]
    },
    {
     "name": "stderr",
     "output_type": "stream",
     "text": [
      "Train: 100%|██████████| 6418/6418 [01:21<00:00, 78.30it/s, accuracy=0.0781, train_loss=5.49]\n",
      "Evaluation:  89%|████████▉ | 17/19 [00:10<00:01,  1.57it/s]\n",
      "Train:   0%|          | 0/6418 [00:00<?, ?it/s, accuracy=0.109, train_loss=5.31] "
     ]
    },
    {
     "name": "stdout",
     "output_type": "stream",
     "text": [
      "\t - Recall@40 epoch 19: 0.290441\n",
      "\t - MRR@40    epoch 19: 0.072674\n",
      "\n"
     ]
    },
    {
     "name": "stderr",
     "output_type": "stream",
     "text": [
      "Train: 100%|██████████| 6418/6418 [01:20<00:00, 79.69it/s, accuracy=0.109, train_loss=5.45] \n",
      "Evaluation:  89%|████████▉ | 17/19 [00:10<00:01,  1.57it/s]"
     ]
    },
    {
     "name": "stdout",
     "output_type": "stream",
     "text": [
      "\t - Recall@40 epoch 20: 0.286765\n",
      "\t - MRR@40    epoch 20: 0.072586\n",
      "\n"
     ]
    },
    {
     "name": "stderr",
     "output_type": "stream",
     "text": [
      "\n"
     ]
    }
   ],
   "source": [
    "# 학습 시간이 다소 오래 소요됩니다. (예상시간 1시간)\n",
    "train_model(model, args)"
   ]
  },
  {
   "cell_type": "code",
   "execution_count": 45,
   "id": "prospective-cooperation",
   "metadata": {},
   "outputs": [
    {
     "name": "stderr",
     "output_type": "stream",
     "text": [
      "Evaluation:  94%|█████████▍| 15/16 [00:05<00:00,  2.69it/s]"
     ]
    },
    {
     "name": "stdout",
     "output_type": "stream",
     "text": [
      "\t - Recall@40: 0.279167\n",
      "\t - MRR@40: 0.106936\n",
      "\n"
     ]
    },
    {
     "name": "stderr",
     "output_type": "stream",
     "text": [
      "\n"
     ]
    }
   ],
   "source": [
    "def test_model(model, args, test):\n",
    "    test_recall, test_mrr = get_metrics(test, model, args, 20)\n",
    "    print(f\"\\t - Recall@{args.k}: {test_recall:3f}\")\n",
    "    print(f\"\\t - MRR@{args.k}: {test_mrr:3f}\\n\")\n",
    "\n",
    "test_model(model, args, test)"
   ]
  },
  {
   "attachments": {
    "image-2.png": {
     "image/png": "[encoded data removed]"
    },
    "image-5.png": {
     "image/png": "[encoded data removed]"
    },
    "image.png": {
     "image/png": "[encoded data removed]"
    }
   },
   "cell_type": "markdown",
   "id": "thermal-muslim",
   "metadata": {},
   "source": [
    "## 결과\n",
    "### 하이퍼파라미터 튜닝\n",
    "- batch_size 변경(32~2048까지 조정)\n",
    "batch_size=2048,1024/drop_rate=0.1, lr=0.001, epochs=20, k=20\n",
    "![image.png](attachment:image.png)\n",
    "이유는 모르겠지만 Recall@20,MRR@20 모두 NAN 값이 나온다.\n",
    "\n",
    "batch_size=64/drop_rate=0.1, lr=0.001, epochs=20, k=20\n",
    "\n",
    "![image-2.png](attachment:image-2.png)\n",
    "성능이 가장 좋았다.\n",
    "\n",
    "- k 값 변경(20~40까지 조정)\n",
    "batch_size=64/drop_rate=0.1, lr=0.001, epochs=20, k=40\n",
    "![image-5.png](attachment:image-5.png)\n",
    "\n",
    "k가 20일때 가장 성능이 좋았다. 결론적으로 k가 커질수록 모델 성능이 더 좋아진다고 했는데 확인해 본 결과 성능이 더 안좋아진 것을 볼 수 있다."
   ]
  },
  {
   "cell_type": "code",
   "execution_count": null,
   "id": "laden-abraham",
   "metadata": {},
   "outputs": [],
   "source": []
  }
 ],
 "metadata": {
  "kernelspec": {
   "display_name": "Python 3",
   "language": "python",
   "name": "python3"
  },
  "language_info": {
   "codemirror_mode": {
    "name": "ipython",
    "version": 3
   },
   "file_extension": ".py",
   "mimetype": "text/x-python",
   "name": "python",
   "nbconvert_exporter": "python",
   "pygments_lexer": "ipython3",
   "version": "3.7.9"
  }
 },
 "nbformat": 4,
 "nbformat_minor": 5
}
