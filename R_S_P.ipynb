{
 "cells": [
  {
   "cell_type": "markdown",
   "id": "velvet-chart",
   "metadata": {},
   "source": [
    "# EXPLORATION1\n",
    "## 인공지능과 가위바위보 하기\n",
    "### 가위바위보 분류기를 만들자"
   ]
  },
  {
   "cell_type": "code",
   "execution_count": 1,
   "id": "reasonable-terrain",
   "metadata": {},
   "outputs": [],
   "source": [
    "import tensorflow as tf\n",
    "from tensorflow import keras\n",
    "import numpy as np\n",
    "import matplotlib.pyplot as plt\n",
    "from PIL import Image\n",
    "import os, glob\n",
    "import shutil"
   ]
  },
  {
   "cell_type": "markdown",
   "id": "complimentary-pressing",
   "metadata": {},
   "source": [
    "## 1. 데이터 불러오기\n",
    "1-1 데이터 사이즈 resize 하기                                                       \n",
    "1-2 load_data()함수를 사용해서 가위,바위,보 데이터 읽어오기                                   \n",
    "1-3 클래스 라벨링 하기(가위:0/바위:1/보:2)"
   ]
  },
  {
   "cell_type": "code",
   "execution_count": 2,
   "id": "military-royalty",
   "metadata": {},
   "outputs": [
    {
     "name": "stdout",
     "output_type": "stream",
     "text": [
      "/aiffel/aiffel/AIFFEL_PROJECT/EXPLORATION_1/data_all_users/HS/rock\n",
      "/aiffel/aiffel/AIFFEL_PROJECT/EXPLORATION_1/data_all_users/HS/scissor\n",
      "/aiffel/aiffel/AIFFEL_PROJECT/EXPLORATION_1/data_all_users/HS/paper\n",
      "/aiffel/aiffel/AIFFEL_PROJECT/EXPLORATION_1/data_all_users/ES/rock\n",
      "/aiffel/aiffel/AIFFEL_PROJECT/EXPLORATION_1/data_all_users/ES/scissor\n",
      "/aiffel/aiffel/AIFFEL_PROJECT/EXPLORATION_1/data_all_users/ES/paper\n",
      "/aiffel/aiffel/AIFFEL_PROJECT/EXPLORATION_1/data_all_users/KE/rock\n",
      "/aiffel/aiffel/AIFFEL_PROJECT/EXPLORATION_1/data_all_users/KE/scissor\n",
      "/aiffel/aiffel/AIFFEL_PROJECT/EXPLORATION_1/data_all_users/KE/paper\n",
      "/aiffel/aiffel/AIFFEL_PROJECT/EXPLORATION_1/data_all_users/SM/rock\n",
      "/aiffel/aiffel/AIFFEL_PROJECT/EXPLORATION_1/data_all_users/SM/scissor\n",
      "/aiffel/aiffel/AIFFEL_PROJECT/EXPLORATION_1/data_all_users/SM/paper\n",
      "/aiffel/aiffel/AIFFEL_PROJECT/EXPLORATION_1/data_all_users/SW/rock\n",
      "/aiffel/aiffel/AIFFEL_PROJECT/EXPLORATION_1/data_all_users/SW/scissor\n",
      "/aiffel/aiffel/AIFFEL_PROJECT/EXPLORATION_1/data_all_users/SW/paper\n",
      "/aiffel/aiffel/AIFFEL_PROJECT/EXPLORATION_1/data_all_users/JS/rock\n",
      "/aiffel/aiffel/AIFFEL_PROJECT/EXPLORATION_1/data_all_users/JS/scissor\n",
      "/aiffel/aiffel/AIFFEL_PROJECT/EXPLORATION_1/data_all_users/JS/paper\n",
      "/aiffel/aiffel/AIFFEL_PROJECT/EXPLORATION_1/data_all_users/JSS/rock\n",
      "/aiffel/aiffel/AIFFEL_PROJECT/EXPLORATION_1/data_all_users/JSS/scissor\n",
      "/aiffel/aiffel/AIFFEL_PROJECT/EXPLORATION_1/data_all_users/JSS/paper\n",
      "/aiffel/aiffel/AIFFEL_PROJECT/EXPLORATION_1/data_all_users/TK/rock\n",
      "/aiffel/aiffel/AIFFEL_PROJECT/EXPLORATION_1/data_all_users/TK/scissor\n",
      "/aiffel/aiffel/AIFFEL_PROJECT/EXPLORATION_1/data_all_users/TK/paper\n",
      "/aiffel/aiffel/AIFFEL_PROJECT/EXPLORATION_1/data_all_users/JY/rock\n",
      "/aiffel/aiffel/AIFFEL_PROJECT/EXPLORATION_1/data_all_users/JY/scissor\n",
      "/aiffel/aiffel/AIFFEL_PROJECT/EXPLORATION_1/data_all_users/JY/paper\n",
      "/aiffel/aiffel/AIFFEL_PROJECT/EXPLORATION_1/data_all_users/JL/rock\n",
      "/aiffel/aiffel/AIFFEL_PROJECT/EXPLORATION_1/data_all_users/JL/scissor\n",
      "/aiffel/aiffel/AIFFEL_PROJECT/EXPLORATION_1/data_all_users/JL/paper\n",
      "총 10명의 데이터가 모였습니다\n",
      "rock에 1011개 \n",
      "scissor에 1016개 \n",
      "paper에 1011개 \n"
     ]
    }
   ],
   "source": [
    "base_dir=os.getenv(\"HOME\") + \"/aiffel/AIFFEL_PROJECT/EXPLORATION_1/data_all_users\"\n",
    "members = ['HS','ES','KE','SM','SW','JS','JSS','TK','JY','JL']\n",
    "#members = os.listdir(base_dir)\n",
    "categories = ['rock', 'scissor', 'paper']\n",
    "base_dst = os.getenv(\"HOME\") + \"/aiffel/AIFFEL_PROJECT/EXPLORATION_1/data\"\n",
    "\n",
    "for member in members:\n",
    "    for category in categories:\n",
    "        path = os.path.join(base_dir, member, category)\n",
    "        print(path)\n",
    "        for image in os.listdir(path):\n",
    "            image_rename = member + '_' + image\n",
    "            image_path_src = os.path.join(base_dir, member, category, image)\n",
    "            image_path_dst = os.path.join(base_dst, category, image_rename)\n",
    "            shutil.copyfile(image_path_src, image_path_dst)\n",
    "            \n",
    "print(f\"총 {len(members)}명의 데이터가 모였습니다\")\n",
    "\n",
    "for category in categories:\n",
    "    print(f\"{category}에 {len(os.listdir('./data/'+category))}개 \")   "
   ]
  },
  {
   "cell_type": "code",
   "execution_count": 3,
   "id": "acting-vampire",
   "metadata": {},
   "outputs": [],
   "source": [
    "def resize_images(img_path):\n",
    "    images=glob.glob(img_path + \"/*.jpg\")  \n",
    "    \n",
    "    print(len(images), \" images to be resized.\")\n",
    "\n",
    "    target_size=(28,28)\n",
    "    for img in images:\n",
    "        old_img=Image.open(img)\n",
    "        new_img=old_img.resize(target_size,Image.ANTIALIAS)\n",
    "        new_img.save(img, \"JPEG\")\n",
    "    \n",
    "    print(len(images), \" images resized.\")"
   ]
  },
  {
   "cell_type": "code",
   "execution_count": 4,
   "id": "wrong-beverage",
   "metadata": {},
   "outputs": [
    {
     "name": "stdout",
     "output_type": "stream",
     "text": [
      "1015  images to be resized.\n",
      "1015  images resized.\n",
      "가위 이미지 resize 완료!\n"
     ]
    }
   ],
   "source": [
    "image_dir_path = os.getenv(\"HOME\") + \"/aiffel/AIFFEL_PROJECT/EXPLORATION_1/data/scissor\"\n",
    "resize_images(image_dir_path)\n",
    "\n",
    "print(\"가위 이미지 resize 완료!\")"
   ]
  },
  {
   "cell_type": "code",
   "execution_count": 5,
   "id": "arbitrary-castle",
   "metadata": {},
   "outputs": [
    {
     "name": "stdout",
     "output_type": "stream",
     "text": [
      "1010  images to be resized.\n",
      "1010  images resized.\n",
      "바위 이미지 resize 완료!\n"
     ]
    }
   ],
   "source": [
    "image_dir_path = os.getenv(\"HOME\") + \"/aiffel/AIFFEL_PROJECT/EXPLORATION_1/data/rock\"\n",
    "resize_images(image_dir_path)\n",
    "\n",
    "print(\"바위 이미지 resize 완료!\")"
   ]
  },
  {
   "cell_type": "code",
   "execution_count": 6,
   "id": "plastic-tulsa",
   "metadata": {},
   "outputs": [
    {
     "name": "stdout",
     "output_type": "stream",
     "text": [
      "1010  images to be resized.\n",
      "1010  images resized.\n",
      "보 이미지 resize 완료!\n"
     ]
    }
   ],
   "source": [
    "image_dir_path = os.getenv(\"HOME\") + \"/aiffel/AIFFEL_PROJECT/EXPLORATION_1/data/paper\"\n",
    "resize_images(image_dir_path)\n",
    "\n",
    "print(\"보 이미지 resize 완료!\")"
   ]
  },
  {
   "cell_type": "code",
   "execution_count": 7,
   "id": "running-translation",
   "metadata": {},
   "outputs": [
    {
     "name": "stdout",
     "output_type": "stream",
     "text": [
      "train_data 의 이미지 개수는 3035 입니다.\n",
      "x_train shape: (3035, 28, 28, 3)\n",
      "y_train shape: (3035,)\n"
     ]
    }
   ],
   "source": [
    "def load_data(img_path, number_of_data=3035): \n",
    "    # 가위바위보 이미지 개수 총합에 주의하세요.\n",
    "    # 가위 : 0, 바위 : 1, 보 : 2\n",
    "    img_size=28\n",
    "    color=3\n",
    "    #이미지 데이터와 라벨(가위 : 0, 바위 : 1, 보 : 2) 데이터를 담을 행렬(matrix) 영역을 생성합니다.\n",
    "    imgs=np.zeros(number_of_data*img_size*img_size*color,dtype=np.int32).reshape(number_of_data,img_size,img_size,color)\n",
    "    labels=np.zeros(number_of_data,dtype=np.int32)\n",
    "\n",
    "    idx=0\n",
    "    for file in glob.iglob(img_path+'/scissor/*.jpg'):\n",
    "        img = np.array(Image.open(file),dtype=np.int32)\n",
    "        imgs[idx,:,:,:]=img    # 데이터 영역에 이미지 행렬을 복사\n",
    "        labels[idx]=0   # 가위 : 0\n",
    "        idx=idx+1\n",
    "\n",
    "    for file in glob.iglob(img_path+'/rock/*.jpg'):\n",
    "        img = np.array(Image.open(file),dtype=np.int32)\n",
    "        imgs[idx,:,:,:]=img    # 데이터 영역에 이미지 행렬을 복사\n",
    "        labels[idx]=1   # 바위 : 1\n",
    "        idx=idx+1  \n",
    "    \n",
    "    for file in glob.iglob(img_path+'/paper/*.jpg'):\n",
    "        img = np.array(Image.open(file),dtype=np.int32)\n",
    "        imgs[idx,:,:,:]=img    # 데이터 영역에 이미지 행렬을 복사\n",
    "        labels[idx]=2   # 보 : 2\n",
    "        idx=idx+1\n",
    "        \n",
    "    print(\"train_data 의 이미지 개수는\", idx,\"입니다.\")\n",
    "    return imgs, labels\n",
    "\n",
    "image_dir_path = os.getenv(\"HOME\") + \"/aiffel/AIFFEL_PROJECT/EXPLORATION_1/data\"\n",
    "(x_train, y_train)=load_data(image_dir_path)\n",
    "x_train_norm = x_train/255.0   # 입력은 0~1 사이의 값으로 정규화\n",
    "\n",
    "print(\"x_train shape: {}\".format(x_train.shape))\n",
    "print(\"y_train shape: {}\".format(y_train.shape))"
   ]
  },
  {
   "cell_type": "code",
   "execution_count": 8,
   "id": "unsigned-croatia",
   "metadata": {},
   "outputs": [
    {
     "name": "stdout",
     "output_type": "stream",
     "text": [
      "최소값: 0  최대값: 255\n"
     ]
    }
   ],
   "source": [
    "print('최소값:',np.min(x_train), ' 최대값:',np.max(x_train))"
   ]
  },
  {
   "cell_type": "code",
   "execution_count": 9,
   "id": "exotic-overall",
   "metadata": {},
   "outputs": [
    {
     "name": "stdout",
     "output_type": "stream",
     "text": [
      "라벨:  0\n"
     ]
    },
    {
     "data": {
      "image/png": "[encoded data removed]",
      "text/plain": [
       "<Figure size 432x288 with 1 Axes>"
      ]
     },
     "metadata": {
      "needs_background": "light"
     },
     "output_type": "display_data"
    }
   ],
   "source": [
    "plt.imshow(x_train[0])\n",
    "print('라벨: ', y_train[0])"
   ]
  },
  {
   "cell_type": "code",
   "execution_count": 10,
   "id": "floating-commodity",
   "metadata": {},
   "outputs": [
    {
     "name": "stdout",
     "output_type": "stream",
     "text": [
      "(3035, 28, 28, 3)\n"
     ]
    }
   ],
   "source": [
    "print(x_train_norm.shape)"
   ]
  },
  {
   "cell_type": "code",
   "execution_count": 11,
   "id": "transparent-clerk",
   "metadata": {},
   "outputs": [
    {
     "name": "stdout",
     "output_type": "stream",
     "text": [
      "(3035, 28, 28, 3)\n"
     ]
    }
   ],
   "source": [
    "x_train_reshaped=x_train_norm.reshape(-1,28,28, 3)\n",
    "print(x_train_reshaped.shape)"
   ]
  },
  {
   "cell_type": "markdown",
   "id": "turned-syndrome",
   "metadata": {},
   "source": [
    "## 2. 딥러닝 네트워크 설계하기\n",
    "2-1 Sequential Model을 사용하여 model 만들기                                      \n",
    "2-2 model.summary() 메소드를 이용하여 딥러닝 네트워크 모델 확인"
   ]
  },
  {
   "cell_type": "code",
   "execution_count": 12,
   "id": "circular-appearance",
   "metadata": {},
   "outputs": [
    {
     "name": "stdout",
     "output_type": "stream",
     "text": [
      "Model에 추가된 Layer 개수:  7\n",
      "Model: \"sequential\"\n",
      "_________________________________________________________________\n",
      "Layer (type)                 Output Shape              Param #   \n",
      "=================================================================\n",
      "conv2d (Conv2D)              (None, 26, 26, 128)       3584      \n",
      "_________________________________________________________________\n",
      "max_pooling2d (MaxPooling2D) (None, 13, 13, 128)       0         \n",
      "_________________________________________________________________\n",
      "conv2d_1 (Conv2D)            (None, 11, 11, 256)       295168    \n",
      "_________________________________________________________________\n",
      "max_pooling2d_1 (MaxPooling2 (None, 5, 5, 256)         0         \n",
      "_________________________________________________________________\n",
      "flatten (Flatten)            (None, 6400)              0         \n",
      "_________________________________________________________________\n",
      "dense (Dense)                (None, 64)                409664    \n",
      "_________________________________________________________________\n",
      "dense_1 (Dense)              (None, 3)                 195       \n",
      "=================================================================\n",
      "Total params: 708,611\n",
      "Trainable params: 708,611\n",
      "Non-trainable params: 0\n",
      "_________________________________________________________________\n"
     ]
    }
   ],
   "source": [
    "n_channel_1=128\n",
    "n_channel_2=256\n",
    "n_dense=64\n",
    "n_train_epoch=3\n",
    "\n",
    "model=keras.models.Sequential()\n",
    "model.add(keras.layers.Conv2D(n_channel_1, (3,3), activation='relu', input_shape=(28,28,3)))\n",
    "model.add(keras.layers.MaxPool2D(2,2))\n",
    "model.add(keras.layers.Conv2D(n_channel_2, (3,3), activation='relu'))\n",
    "model.add(keras.layers.MaxPooling2D((2,2)))\n",
    "model.add(keras.layers.Flatten())\n",
    "model.add(keras.layers.Dense(n_dense, activation='relu'))\n",
    "model.add(keras.layers.Dense(n_train_epoch, activation='softmax'))\n",
    "print('Model에 추가된 Layer 개수: ', len(model.layers))\n",
    "model.summary()"
   ]
  },
  {
   "cell_type": "markdown",
   "id": "charged-conservation",
   "metadata": {},
   "source": [
    "## 3. 딥러닝 네트워크 학습시키기\n",
    "3-1 model.compile()과 model.fit()을 사용                                         \n",
    "3-2 accuracy 확인"
   ]
  },
  {
   "cell_type": "code",
   "execution_count": 13,
   "id": "remarkable-hands",
   "metadata": {},
   "outputs": [
    {
     "name": "stdout",
     "output_type": "stream",
     "text": [
      "Epoch 1/20\n",
      "95/95 [==============================] - 6s 27ms/step - loss: 1.0642 - accuracy: 0.4084\n",
      "Epoch 2/20\n",
      "95/95 [==============================] - 1s 7ms/step - loss: 0.5221 - accuracy: 0.7934\n",
      "Epoch 3/20\n",
      "95/95 [==============================] - 1s 7ms/step - loss: 0.2475 - accuracy: 0.9327\n",
      "Epoch 4/20\n",
      "95/95 [==============================] - 1s 7ms/step - loss: 0.1017 - accuracy: 0.9780\n",
      "Epoch 5/20\n",
      "95/95 [==============================] - 1s 7ms/step - loss: 0.0649 - accuracy: 0.9848\n",
      "Epoch 6/20\n",
      "95/95 [==============================] - 1s 7ms/step - loss: 0.0192 - accuracy: 0.9978\n",
      "Epoch 7/20\n",
      "95/95 [==============================] - 1s 7ms/step - loss: 0.0116 - accuracy: 0.9992\n",
      "Epoch 8/20\n",
      "95/95 [==============================] - 1s 7ms/step - loss: 0.0049 - accuracy: 1.0000\n",
      "Epoch 9/20\n",
      "95/95 [==============================] - 1s 7ms/step - loss: 0.0040 - accuracy: 1.0000\n",
      "Epoch 10/20\n",
      "95/95 [==============================] - 1s 7ms/step - loss: 0.0024 - accuracy: 1.0000\n",
      "Epoch 11/20\n",
      "95/95 [==============================] - 1s 7ms/step - loss: 0.0020 - accuracy: 1.0000\n",
      "Epoch 12/20\n",
      "95/95 [==============================] - 1s 7ms/step - loss: 0.0013 - accuracy: 1.0000\n",
      "Epoch 13/20\n",
      "95/95 [==============================] - 1s 7ms/step - loss: 0.0011 - accuracy: 1.0000\n",
      "Epoch 14/20\n",
      "95/95 [==============================] - 1s 7ms/step - loss: 8.9530e-04 - accuracy: 1.0000\n",
      "Epoch 15/20\n",
      "95/95 [==============================] - 1s 7ms/step - loss: 6.4834e-04 - accuracy: 1.0000\n",
      "Epoch 16/20\n",
      "95/95 [==============================] - 1s 7ms/step - loss: 5.9924e-04 - accuracy: 1.0000\n",
      "Epoch 17/20\n",
      "95/95 [==============================] - 1s 7ms/step - loss: 4.4803e-04 - accuracy: 1.0000\n",
      "Epoch 18/20\n",
      "95/95 [==============================] - 1s 7ms/step - loss: 4.6515e-04 - accuracy: 1.0000\n",
      "Epoch 19/20\n",
      "95/95 [==============================] - 1s 7ms/step - loss: 3.3404e-04 - accuracy: 1.0000\n",
      "Epoch 20/20\n",
      "95/95 [==============================] - 1s 7ms/step - loss: 3.4292e-04 - accuracy: 1.0000\n"
     ]
    },
    {
     "data": {
      "text/plain": [
       "<tensorflow.python.keras.callbacks.History at 0x7f72f5636810>"
      ]
     },
     "execution_count": 13,
     "metadata": {},
     "output_type": "execute_result"
    }
   ],
   "source": [
    "##딥러닝 네트워크 학습시키기\n",
    "model.compile(optimizer='adam',\n",
    "             loss='sparse_categorical_crossentropy',\n",
    "             metrics=['accuracy'])\n",
    "\n",
    "model.fit(x_train_reshaped, y_train, epochs=20)"
   ]
  },
  {
   "cell_type": "markdown",
   "id": "certain-organ",
   "metadata": {},
   "source": [
    "## 4. 테스트 데이터로 성능 확인하기\n",
    "4-1 x_test 데이터 만들기                                                                  \n",
    "4-2 model.evaluate() 로 accuracy 확인"
   ]
  },
  {
   "cell_type": "code",
   "execution_count": 14,
   "id": "steady-margin",
   "metadata": {},
   "outputs": [
    {
     "name": "stdout",
     "output_type": "stream",
     "text": [
      "111  images to be resized.\n",
      "111  images resized.\n",
      "가위 이미지 resize 완료!\n"
     ]
    }
   ],
   "source": [
    "test_img_path = os.getenv(\"HOME\") + \"/aiffel/AIFFEL_PROJECT/EXPLORATION_1/rock_scissor_paper/test/scissor\"\n",
    "resize_images(test_img_path)\n",
    "\n",
    "print(\"가위 이미지 resize 완료!\")"
   ]
  },
  {
   "cell_type": "code",
   "execution_count": 15,
   "id": "ordered-template",
   "metadata": {},
   "outputs": [
    {
     "name": "stdout",
     "output_type": "stream",
     "text": [
      "122  images to be resized.\n",
      "122  images resized.\n",
      "바위 이미지 resize 완료!\n"
     ]
    }
   ],
   "source": [
    "test_img_path = os.getenv(\"HOME\") + \"/aiffel/AIFFEL_PROJECT/EXPLORATION_1/rock_scissor_paper/test/rock\"\n",
    "resize_images(test_img_path)\n",
    "\n",
    "print(\"바위 이미지 resize 완료!\")"
   ]
  },
  {
   "cell_type": "code",
   "execution_count": 16,
   "id": "civilian-channels",
   "metadata": {},
   "outputs": [
    {
     "name": "stdout",
     "output_type": "stream",
     "text": [
      "117  images to be resized.\n",
      "117  images resized.\n",
      "보 이미지 resize 완료!\n"
     ]
    }
   ],
   "source": [
    "test_img_path = os.getenv(\"HOME\") + \"/aiffel/AIFFEL_PROJECT/EXPLORATION_1/rock_scissor_paper/test/paper\"\n",
    "resize_images(test_img_path)\n",
    "\n",
    "print(\"보 이미지 resize 완료!\")"
   ]
  },
  {
   "cell_type": "code",
   "execution_count": 17,
   "id": "clinical-angola",
   "metadata": {},
   "outputs": [
    {
     "name": "stdout",
     "output_type": "stream",
     "text": [
      "test_data 의 이미지 개수는 350 입니다.\n",
      "x_test shape: (350, 28, 28, 3)\n",
      "y_test shape: (350,)\n"
     ]
    }
   ],
   "source": [
    "def load_data(test_img_path, number_of_data=350): \n",
    "    # 가위바위보 이미지 개수 총합에 주의하세요.\n",
    "    # 가위 : 0, 바위 : 1, 보 : 2\n",
    "    img_size=28\n",
    "    color=3\n",
    "    #이미지 데이터와 라벨(가위 : 0, 바위 : 1, 보 : 2) 데이터를 담을 행렬(matrix) 영역을 생성합니다.\n",
    "    imgs=np.zeros(number_of_data*img_size*img_size*color,dtype=np.int32).reshape(number_of_data,img_size,img_size,color)\n",
    "    labels=np.zeros(number_of_data,dtype=np.int32)\n",
    "\n",
    "    idx=0\n",
    "    for file in glob.iglob(test_img_path+'/scissor/*.jpg'):\n",
    "        img = np.array(Image.open(file),dtype=np.int32)\n",
    "        imgs[idx,:,:,:]=img    # 데이터 영역에 이미지 행렬을 복사\n",
    "        labels[idx]=0   # 가위 : 0\n",
    "        idx=idx+1\n",
    "\n",
    "    for file in glob.iglob(test_img_path+'/rock/*.jpg'):\n",
    "        img = np.array(Image.open(file),dtype=np.int32)\n",
    "        imgs[idx,:,:,:]=img    # 데이터 영역에 이미지 행렬을 복사\n",
    "        labels[idx]=1   # 바위 : 1\n",
    "        idx=idx+1  \n",
    "    \n",
    "    for file in glob.iglob(test_img_path+'/paper/*.jpg'):\n",
    "        img = np.array(Image.open(file),dtype=np.int32)\n",
    "        imgs[idx,:,:,:]=img    # 데이터 영역에 이미지 행렬을 복사\n",
    "        labels[idx]=2   # 보 : 2\n",
    "        idx=idx+1\n",
    "        \n",
    "    print(\"test_data 의 이미지 개수는\", idx,\"입니다.\")\n",
    "    return imgs, labels\n",
    "\n",
    "test_img_path = os.getenv(\"HOME\") + \"/aiffel/AIFFEL_PROJECT/EXPLORATION_1/rock_scissor_paper/test\"\n",
    "(x_test, y_test)=load_data(test_img_path,350)\n",
    "x_test_norm = x_test/255 # 입력은 0~1 사이의 값으로 정규화\n",
    "\n",
    "print(\"x_test shape: {}\".format(x_test.shape))\n",
    "print(\"y_test shape: {}\".format(y_test.shape))"
   ]
  },
  {
   "cell_type": "code",
   "execution_count": 18,
   "id": "neither-liquid",
   "metadata": {},
   "outputs": [
    {
     "name": "stdout",
     "output_type": "stream",
     "text": [
      "11/11 - 1s - loss: 1042.0341 - accuracy: 0.4857\n",
      "test_loss: 1042.0340576171875 \n",
      "test_accuracy: 0.48571428656578064\n"
     ]
    }
   ],
   "source": [
    "test_loss, test_accuracy = model.evaluate(x_test, y_test, verbose=2)\n",
    "print(\"test_loss: {} \".format(test_loss))\n",
    "print(\"test_accuracy: {}\".format(test_accuracy))"
   ]
  },
  {
   "cell_type": "markdown",
   "id": "complimentary-military",
   "metadata": {},
   "source": [
    "## 5. 예측\n",
    "5-1 model.predict()를 사용하여 model이 입력값을 보고 실제로 추론한 확률분포를 출력"
   ]
  },
  {
   "cell_type": "code",
   "execution_count": 19,
   "id": "ahead-mongolia",
   "metadata": {},
   "outputs": [
    {
     "name": "stdout",
     "output_type": "stream",
     "text": [
      "model.predict() 결과 :  [1. 0. 0.]\n",
      "model이 추론한 가장 가능성이 높은 결과 :  0\n",
      "실제 데이터의 라벨 :  0\n"
     ]
    }
   ],
   "source": [
    "predicted_result = model.predict(x_test)  # model이 추론한 확률값. \n",
    "predicted_labels = np.argmax(predicted_result, axis=1)\n",
    "\n",
    "idx=0  \n",
    "print('model.predict() 결과 : ', predicted_result[idx])\n",
    "print('model이 추론한 가장 가능성이 높은 결과 : ', predicted_labels[idx])\n",
    "print('실제 데이터의 라벨 : ', y_test[idx])"
   ]
  },
  {
   "cell_type": "code",
   "execution_count": 20,
   "id": "tested-nepal",
   "metadata": {},
   "outputs": [
    {
     "name": "stdout",
     "output_type": "stream",
     "text": [
      "예측확률분포: [1. 0. 0.]\n",
      "라벨: 2, 예측결과: 0\n"
     ]
    },
    {
     "data": {
      "image/png": "[encoded data removed]",
      "text/plain": [
       "<Figure size 432x288 with 1 Axes>"
      ]
     },
     "metadata": {
      "needs_background": "light"
     },
     "output_type": "display_data"
    },
    {
     "name": "stdout",
     "output_type": "stream",
     "text": [
      "예측확률분포: [1. 0. 0.]\n",
      "라벨: 1, 예측결과: 0\n"
     ]
    },
    {
     "data": {
      "image/png": "[encoded data removed]",
      "text/plain": [
       "<Figure size 432x288 with 1 Axes>"
      ]
     },
     "metadata": {
      "needs_background": "light"
     },
     "output_type": "display_data"
    },
    {
     "name": "stdout",
     "output_type": "stream",
     "text": [
      "예측확률분포: [1. 0. 0.]\n",
      "라벨: 1, 예측결과: 0\n"
     ]
    },
    {
     "data": {
      "image/png": "[encoded data removed]",
      "text/plain": [
       "<Figure size 432x288 with 1 Axes>"
      ]
     },
     "metadata": {
      "needs_background": "light"
     },
     "output_type": "display_data"
    },
    {
     "name": "stdout",
     "output_type": "stream",
     "text": [
      "예측확률분포: [0. 1. 0.]\n",
      "라벨: 0, 예측결과: 1\n"
     ]
    },
    {
     "data": {
      "image/png": "[encoded data removed]",
      "text/plain": [
       "<Figure size 432x288 with 1 Axes>"
      ]
     },
     "metadata": {
      "needs_background": "light"
     },
     "output_type": "display_data"
    },
    {
     "name": "stdout",
     "output_type": "stream",
     "text": [
      "예측확률분포: [1. 0. 0.]\n",
      "라벨: 1, 예측결과: 0\n"
     ]
    },
    {
     "data": {
      "image/png": "[encoded data removed]",
      "text/plain": [
       "<Figure size 432x288 with 1 Axes>"
      ]
     },
     "metadata": {
      "needs_background": "light"
     },
     "output_type": "display_data"
    }
   ],
   "source": [
    "import random\n",
    "wrong_predict_list=[]\n",
    "for i, _ in enumerate(predicted_labels):\n",
    "    # i번째 test_labels과 y_test이 다른 경우만 모아 봅시다. \n",
    "    if predicted_labels[i] != y_test[i]:\n",
    "        wrong_predict_list.append(i)\n",
    "\n",
    "# wrong_predict_list에서 random한 5개 확인\n",
    "samples = random.choices(population=wrong_predict_list, k=5)\n",
    "\n",
    "for n in samples:\n",
    "    print(\"예측확률분포: \" + str(predicted_result[n]))\n",
    "    print(\"라벨: \" + str(y_test[n]) + \", 예측결과: \" + str(predicted_labels[n]))\n",
    "    plt.imshow(x_test[n], cmap=plt.cm.binary)\n",
    "    plt.show()"
   ]
  },
  {
   "cell_type": "markdown",
   "id": "abroad-catalyst",
   "metadata": {},
   "source": [
    "## 6. 프로젝트 정리\n",
    "\n",
    "### 6-1 프로젝트 목적\n",
    "가위바위보 분류기 만들기\n",
    "\n",
    "### 6-2 Train/Test 데이터 개수\n",
    "train_data : 총 10명의 3035개의 데이터                                                     \n",
    "test_data : 총 1명의 350개의 데이터\n",
    "\n",
    "### 6-3 과정\n",
    "- 데이터 준비\n",
    "- Sequential Model을 사용하여 딥러닝 네트워크 설계하기                                \n",
    "- train_data 를 사용해 딥러닝 네트워크 학습시키기                                  \n",
    "- test_data 로 성능 확인하기(test_accuracy,model.predict(),model.evaluate())              \n",
    "- 더 좋은 네트워크를 만들기 위해 하이퍼파라미터들 바꾸어 보기 \n",
    "\n",
    "### 6-4 결과\n",
    "- (train_data,test_data,channel1,channel2,dense)=(300,350,32,64,64) 일 때, 30%c초반대의 정확도가 나옴.\n",
    "\n",
    "- (train_data,test_data,channel1,channel2,dense)=(3035,350,128,256,64) 일 때, 가장 높게 나온 약 48% 가 나옴.\n",
    "\n",
    "데이터의 수를 10배 이상 늘렸음에도 불구하고 정확도는 15%밖에 오르지 않았다. 이를 통해 데이터 개수뿐만 아니라 데이터셋의 구성이 중요하다는 것을 알 수 있었다. 데이터의 다양성이 보장되어야 하고, 데이터의 개수가 많아야 좋은 딥러닝 모델을 학습시킬 수 있다.\n"
   ]
  },
  {
   "cell_type": "code",
   "execution_count": null,
   "id": "identical-liberty",
   "metadata": {},
   "outputs": [],
   "source": []
  }
 ],
 "metadata": {
  "kernelspec": {
   "display_name": "Python 3",
   "language": "python",
   "name": "python3"
  },
  "language_info": {
   "codemirror_mode": {
    "name": "ipython",
    "version": 3
   },
   "file_extension": ".py",
   "mimetype": "text/x-python",
   "name": "python",
   "nbconvert_exporter": "python",
   "pygments_lexer": "ipython3",
   "version": "3.7.9"
  }
 },
 "nbformat": 4,
 "nbformat_minor": 5
}
