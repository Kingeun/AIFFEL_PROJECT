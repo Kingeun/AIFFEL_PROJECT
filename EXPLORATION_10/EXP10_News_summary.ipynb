{
 "cells": [
  {
   "cell_type": "markdown",
   "id": "convinced-solid",
   "metadata": {},
   "source": [
    "# 뉴스 요약봇 만들기\n",
    "긴 문장을 짧게 요약해 주는 텍스트 요약기를 만들기\n",
    "\n",
    "## 1. 데이터 수집하기\n",
    "sunnysai12345/News_Summary                                                       "
   ]
  },
  {
   "cell_type": "code",
   "execution_count": 4,
   "id": "designed-benchmark",
   "metadata": {},
   "outputs": [
    {
     "name": "stdout",
     "output_type": "stream",
     "text": [
      "=3\n"
     ]
    },
    {
     "name": "stderr",
     "output_type": "stream",
     "text": [
      "[nltk_data] Downloading package stopwords to /aiffel/nltk_data...\n",
      "[nltk_data]   Package stopwords is already up-to-date!\n"
     ]
    }
   ],
   "source": [
    "#NLTK 패키지에서 불용어 사전을 다운로드하고, 데이터 전처리를 위한 나머지 패키지\n",
    "\n",
    "import nltk\n",
    "nltk.download('stopwords')\n",
    "\n",
    "import numpy as np\n",
    "import pandas as pd\n",
    "import os\n",
    "import re\n",
    "import matplotlib.pyplot as plt\n",
    "from nltk.corpus import stopwords\n",
    "from bs4 import BeautifulSoup \n",
    "from tensorflow.keras.preprocessing.text import Tokenizer \n",
    "from tensorflow.keras.preprocessing.sequence import pad_sequences\n",
    "import urllib.request\n",
    "\n",
    "print('=3')"
   ]
  },
  {
   "cell_type": "code",
   "execution_count": 3,
   "id": "animated-mercy",
   "metadata": {},
   "outputs": [],
   "source": [
    "urllib.request.urlretrieve(\"https://raw.githubusercontent.com/sunnysai12345/News_Summary/master/news_summary_more.csv\", filename=\"news_summary_more.csv\")\n",
    "data = pd.read_csv('news_summary_more.csv', encoding='iso-8859-1')"
   ]
  },
  {
   "cell_type": "code",
   "execution_count": 5,
   "id": "healthy-double",
   "metadata": {},
   "outputs": [
    {
     "data": {
      "text/html": [
       "<div>\n",
       "<style scoped>\n",
       "    .dataframe tbody tr th:only-of-type {\n",
       "        vertical-align: middle;\n",
       "    }\n",
       "\n",
       "    .dataframe tbody tr th {\n",
       "        vertical-align: top;\n",
       "    }\n",
       "\n",
       "    .dataframe thead th {\n",
       "        text-align: right;\n",
       "    }\n",
       "</style>\n",
       "<table border=\"1\" class=\"dataframe\">\n",
       "  <thead>\n",
       "    <tr style=\"text-align: right;\">\n",
       "      <th></th>\n",
       "      <th>headlines</th>\n",
       "      <th>text</th>\n",
       "    </tr>\n",
       "  </thead>\n",
       "  <tbody>\n",
       "    <tr>\n",
       "      <th>44351</th>\n",
       "      <td>Superhero film 'Black Panther' earns $1 billio...</td>\n",
       "      <td>The Chadwick Boseman starrer superhero film 'B...</td>\n",
       "    </tr>\n",
       "    <tr>\n",
       "      <th>11203</th>\n",
       "      <td>India will benefit from US waiver on Iran oil ...</td>\n",
       "      <td>Oil Minister Dharmendra Pradhan has said India...</td>\n",
       "    </tr>\n",
       "    <tr>\n",
       "      <th>47622</th>\n",
       "      <td>Congress calls $1.77bn scam-accused Nirav Modi...</td>\n",
       "      <td>The Congress on Thursday called jeweller Nirav...</td>\n",
       "    </tr>\n",
       "    <tr>\n",
       "      <th>44455</th>\n",
       "      <td>Waymo to test self-driving trucks carrying goo...</td>\n",
       "      <td>Google spinoff Waymo is set to launch a pilot ...</td>\n",
       "    </tr>\n",
       "    <tr>\n",
       "      <th>28624</th>\n",
       "      <td>Will BJP apologise for 4-yr undeclared emergen...</td>\n",
       "      <td>Slamming BJP for its comments on 1975 Emergenc...</td>\n",
       "    </tr>\n",
       "    <tr>\n",
       "      <th>63370</th>\n",
       "      <td>Indian students attacked in Italy, Swaraj moni...</td>\n",
       "      <td>Three Indian students were reportedly attacked...</td>\n",
       "    </tr>\n",
       "    <tr>\n",
       "      <th>81101</th>\n",
       "      <td>UK PM May suspends MP over 'n****r in the wood...</td>\n",
       "      <td>UK PM Theresa May has suspended Conservative M...</td>\n",
       "    </tr>\n",
       "    <tr>\n",
       "      <th>16589</th>\n",
       "      <td>Sushma to discuss Kartarpur Sahib with Pak cou...</td>\n",
       "      <td>Ministry of External Affairs said that ministe...</td>\n",
       "    </tr>\n",
       "    <tr>\n",
       "      <th>83277</th>\n",
       "      <td>Sachin was never dismissed or left unbeaten on...</td>\n",
       "      <td>Out of his 329 innings in 200 Tests, former In...</td>\n",
       "    </tr>\n",
       "    <tr>\n",
       "      <th>93669</th>\n",
       "      <td>Kareena's fans run #Poutlikebebo contest online</td>\n",
       "      <td>Actress Kareena Kapoor's fans have started a c...</td>\n",
       "    </tr>\n",
       "  </tbody>\n",
       "</table>\n",
       "</div>"
      ],
      "text/plain": [
       "                                               headlines  \\\n",
       "44351  Superhero film 'Black Panther' earns $1 billio...   \n",
       "11203  India will benefit from US waiver on Iran oil ...   \n",
       "47622  Congress calls $1.77bn scam-accused Nirav Modi...   \n",
       "44455  Waymo to test self-driving trucks carrying goo...   \n",
       "28624  Will BJP apologise for 4-yr undeclared emergen...   \n",
       "63370  Indian students attacked in Italy, Swaraj moni...   \n",
       "81101  UK PM May suspends MP over 'n****r in the wood...   \n",
       "16589  Sushma to discuss Kartarpur Sahib with Pak cou...   \n",
       "83277  Sachin was never dismissed or left unbeaten on...   \n",
       "93669    Kareena's fans run #Poutlikebebo contest online   \n",
       "\n",
       "                                                    text  \n",
       "44351  The Chadwick Boseman starrer superhero film 'B...  \n",
       "11203  Oil Minister Dharmendra Pradhan has said India...  \n",
       "47622  The Congress on Thursday called jeweller Nirav...  \n",
       "44455  Google spinoff Waymo is set to launch a pilot ...  \n",
       "28624  Slamming BJP for its comments on 1975 Emergenc...  \n",
       "63370  Three Indian students were reportedly attacked...  \n",
       "81101  UK PM Theresa May has suspended Conservative M...  \n",
       "16589  Ministry of External Affairs said that ministe...  \n",
       "83277  Out of his 329 innings in 200 Tests, former In...  \n",
       "93669  Actress Kareena Kapoor's fans have started a c...  "
      ]
     },
     "execution_count": 5,
     "metadata": {},
     "output_type": "execute_result"
    }
   ],
   "source": [
    "data.sample(10)\n",
    "#추상적 요약을 하는 경우에는 text를 본문, headlines를 이미 요약된 데이터로 삼아서 모델을 학습할 수 있어요. \n",
    "#추출적 요약을 하는 경우에는 오직 text열만을 사용"
   ]
  },
  {
   "cell_type": "markdown",
   "id": "accredited-analysis",
   "metadata": {},
   "source": [
    "## 2. 데이터 전처리 하기\n",
    "- 추상적 요약(Abstractive Summarization)\n",
    "원문으로부터 내용이 요약된 새로운 문장을 생성\n",
    "\n",
    "### 1) 데이터 정리하기\n",
    "빈칸으로 존재하는 null 데이터, 의미는 같지만 다른 식으로 작성된 글 같은 중복 항목과 같은 학습할 때 방해가 되는 데이터를 먼저 솎아낸다.\n",
    "- 중복 샘플과 NULL 값이 존재하는 샘플 제거\n",
    "- 텍스트 정규화와 불용어 제거"
   ]
  },
  {
   "cell_type": "code",
   "execution_count": 6,
   "id": "earned-jefferson",
   "metadata": {},
   "outputs": [
    {
     "name": "stdout",
     "output_type": "stream",
     "text": [
      "Text 열에서 중복을 배제한 유일한 샘플의 수 : 98360\n",
      "Headlines 열에서 중복을 배제한 유일한 샘플의 수 : 98280\n"
     ]
    }
   ],
   "source": [
    "#데이터의 중복 샘플 유무를 확인\n",
    "\n",
    "print('Text 열에서 중복을 배제한 유일한 샘플의 수 :', data['text'].nunique())\n",
    "print('Headlines 열에서 중복을 배제한 유일한 샘플의 수 :', data['headlines'].nunique())"
   ]
  },
  {
   "cell_type": "code",
   "execution_count": 7,
   "id": "amber-strand",
   "metadata": {},
   "outputs": [
    {
     "name": "stdout",
     "output_type": "stream",
     "text": [
      "전체 샘플수 : 98360\n"
     ]
    }
   ],
   "source": [
    "# inplace=True 를 설정하면 DataFrame 타입 값을 return 하지 않고 data 내부를 직접적으로 바꿉니다\n",
    "\n",
    "data.drop_duplicates(subset = ['text'], inplace=True)\n",
    "print('전체 샘플수 :', (len(data)))"
   ]
  },
  {
   "cell_type": "code",
   "execution_count": 8,
   "id": "growing-washer",
   "metadata": {},
   "outputs": [
    {
     "name": "stdout",
     "output_type": "stream",
     "text": [
      "headlines    0\n",
      "text         0\n",
      "dtype: int64\n"
     ]
    }
   ],
   "source": [
    "print(data.isnull().sum())"
   ]
  },
  {
   "cell_type": "code",
   "execution_count": 9,
   "id": "viral-switzerland",
   "metadata": {},
   "outputs": [
    {
     "name": "stdout",
     "output_type": "stream",
     "text": [
      "정규화 사전의 수:  120\n"
     ]
    }
   ],
   "source": [
    "contractions = {\"ain't\": \"is not\", \"aren't\": \"are not\",\"can't\": \"cannot\", \"'cause\": \"because\", \"could've\": \"could have\", \"couldn't\": \"could not\",\n",
    "                           \"didn't\": \"did not\",  \"doesn't\": \"does not\", \"don't\": \"do not\", \"hadn't\": \"had not\", \"hasn't\": \"has not\", \"haven't\": \"have not\",\n",
    "                           \"he'd\": \"he would\",\"he'll\": \"he will\", \"he's\": \"he is\", \"how'd\": \"how did\", \"how'd'y\": \"how do you\", \"how'll\": \"how will\", \"how's\": \"how is\",\n",
    "                           \"I'd\": \"I would\", \"I'd've\": \"I would have\", \"I'll\": \"I will\", \"I'll've\": \"I will have\",\"I'm\": \"I am\", \"I've\": \"I have\", \"i'd\": \"i would\",\n",
    "                           \"i'd've\": \"i would have\", \"i'll\": \"i will\",  \"i'll've\": \"i will have\",\"i'm\": \"i am\", \"i've\": \"i have\", \"isn't\": \"is not\", \"it'd\": \"it would\",\n",
    "                           \"it'd've\": \"it would have\", \"it'll\": \"it will\", \"it'll've\": \"it will have\",\"it's\": \"it is\", \"let's\": \"let us\", \"ma'am\": \"madam\",\n",
    "                           \"mayn't\": \"may not\", \"might've\": \"might have\",\"mightn't\": \"might not\",\"mightn't've\": \"might not have\", \"must've\": \"must have\",\n",
    "                           \"mustn't\": \"must not\", \"mustn't've\": \"must not have\", \"needn't\": \"need not\", \"needn't've\": \"need not have\",\"o'clock\": \"of the clock\",\n",
    "                           \"oughtn't\": \"ought not\", \"oughtn't've\": \"ought not have\", \"shan't\": \"shall not\", \"sha'n't\": \"shall not\", \"shan't've\": \"shall not have\",\n",
    "                           \"she'd\": \"she would\", \"she'd've\": \"she would have\", \"she'll\": \"she will\", \"she'll've\": \"she will have\", \"she's\": \"she is\",\n",
    "                           \"should've\": \"should have\", \"shouldn't\": \"should not\", \"shouldn't've\": \"should not have\", \"so've\": \"so have\",\"so's\": \"so as\",\n",
    "                           \"this's\": \"this is\",\"that'd\": \"that would\", \"that'd've\": \"that would have\", \"that's\": \"that is\", \"there'd\": \"there would\",\n",
    "                           \"there'd've\": \"there would have\", \"there's\": \"there is\", \"here's\": \"here is\",\"they'd\": \"they would\", \"they'd've\": \"they would have\",\n",
    "                           \"they'll\": \"they will\", \"they'll've\": \"they will have\", \"they're\": \"they are\", \"they've\": \"they have\", \"to've\": \"to have\",\n",
    "                           \"wasn't\": \"was not\", \"we'd\": \"we would\", \"we'd've\": \"we would have\", \"we'll\": \"we will\", \"we'll've\": \"we will have\", \"we're\": \"we are\",\n",
    "                           \"we've\": \"we have\", \"weren't\": \"were not\", \"what'll\": \"what will\", \"what'll've\": \"what will have\", \"what're\": \"what are\",\n",
    "                           \"what's\": \"what is\", \"what've\": \"what have\", \"when's\": \"when is\", \"when've\": \"when have\", \"where'd\": \"where did\", \"where's\": \"where is\",\n",
    "                           \"where've\": \"where have\", \"who'll\": \"who will\", \"who'll've\": \"who will have\", \"who's\": \"who is\", \"who've\": \"who have\",\n",
    "                           \"why's\": \"why is\", \"why've\": \"why have\", \"will've\": \"will have\", \"won't\": \"will not\", \"won't've\": \"will not have\",\n",
    "                           \"would've\": \"would have\", \"wouldn't\": \"would not\", \"wouldn't've\": \"would not have\", \"y'all\": \"you all\",\n",
    "                           \"y'all'd\": \"you all would\",\"y'all'd've\": \"you all would have\",\"y'all're\": \"you all are\",\"y'all've\": \"you all have\",\n",
    "                           \"you'd\": \"you would\", \"you'd've\": \"you would have\", \"you'll\": \"you will\", \"you'll've\": \"you will have\",\n",
    "                           \"you're\": \"you are\", \"you've\": \"you have\"}\n",
    "\n",
    "print(\"정규화 사전의 수: \", len(contractions))"
   ]
  },
  {
   "cell_type": "code",
   "execution_count": 10,
   "id": "convenient-shipping",
   "metadata": {},
   "outputs": [
    {
     "name": "stdout",
     "output_type": "stream",
     "text": [
      "불용어 개수 : 179\n",
      "['i', 'me', 'my', 'myself', 'we', 'our', 'ours', 'ourselves', 'you', \"you're\", \"you've\", \"you'll\", \"you'd\", 'your', 'yours', 'yourself', 'yourselves', 'he', 'him', 'his', 'himself', 'she', \"she's\", 'her', 'hers', 'herself', 'it', \"it's\", 'its', 'itself', 'they', 'them', 'their', 'theirs', 'themselves', 'what', 'which', 'who', 'whom', 'this', 'that', \"that'll\", 'these', 'those', 'am', 'is', 'are', 'was', 'were', 'be', 'been', 'being', 'have', 'has', 'had', 'having', 'do', 'does', 'did', 'doing', 'a', 'an', 'the', 'and', 'but', 'if', 'or', 'because', 'as', 'until', 'while', 'of', 'at', 'by', 'for', 'with', 'about', 'against', 'between', 'into', 'through', 'during', 'before', 'after', 'above', 'below', 'to', 'from', 'up', 'down', 'in', 'out', 'on', 'off', 'over', 'under', 'again', 'further', 'then', 'once', 'here', 'there', 'when', 'where', 'why', 'how', 'all', 'any', 'both', 'each', 'few', 'more', 'most', 'other', 'some', 'such', 'no', 'nor', 'not', 'only', 'own', 'same', 'so', 'than', 'too', 'very', 's', 't', 'can', 'will', 'just', 'don', \"don't\", 'should', \"should've\", 'now', 'd', 'll', 'm', 'o', 're', 've', 'y', 'ain', 'aren', \"aren't\", 'couldn', \"couldn't\", 'didn', \"didn't\", 'doesn', \"doesn't\", 'hadn', \"hadn't\", 'hasn', \"hasn't\", 'haven', \"haven't\", 'isn', \"isn't\", 'ma', 'mightn', \"mightn't\", 'mustn', \"mustn't\", 'needn', \"needn't\", 'shan', \"shan't\", 'shouldn', \"shouldn't\", 'wasn', \"wasn't\", 'weren', \"weren't\", 'won', \"won't\", 'wouldn', \"wouldn't\"]\n"
     ]
    }
   ],
   "source": [
    "#일반적으로 텍스트에는 자주 등장하지만 자연어 처리를 할 때 실질적으로 별 도움이 되지 않는 단어들이 존재해요. \n",
    "#이를 불용어(stopwords)라고 한다.\n",
    "print('불용어 개수 :', len(stopwords.words('english') ))\n",
    "print(stopwords.words('english'))"
   ]
  },
  {
   "cell_type": "code",
   "execution_count": 11,
   "id": "distant-mercury",
   "metadata": {},
   "outputs": [],
   "source": [
    "# 데이터 전처리 함수\n",
    "def preprocess_sentence(sentence, remove_stopwords=True):\n",
    "    sentence = sentence.lower() # 텍스트 소문자화\n",
    "    sentence = BeautifulSoup(sentence, \"lxml\").text # <br />, <a href = ...> 등의 html 태그 제거\n",
    "    sentence = re.sub(r'\\([^)]*\\)', '', sentence) # 괄호로 닫힌 문자열 (...) 제거 Ex) my husband (and myself!) for => my husband for\n",
    "    sentence = re.sub('\"','', sentence) # 쌍따옴표 \" 제거\n",
    "    sentence = ' '.join([contractions[t] if t in contractions else t for t in sentence.split(\" \")]) # 약어 정규화\n",
    "    sentence = re.sub(r\"'s\\b\",\"\", sentence) # 소유격 제거. Ex) roland's -> roland\n",
    "    sentence = re.sub(\"[^a-zA-Z]\", \" \", sentence) # 영어 외 문자(숫자, 특수문자 등) 공백으로 변환\n",
    "    sentence = re.sub('[m]{2,}', 'mm', sentence) # m이 3개 이상이면 2개로 변경. Ex) ummmmmmm yeah -> umm yeah\n",
    "    \n",
    "    # 불용어 제거 (Text)\n",
    "    if remove_stopwords:\n",
    "        tokens = ' '.join(word for word in sentence.split() if not word in stopwords.words('english') if len(word) > 1)\n",
    "    # 불용어 미제거 (Summary)\n",
    "    else:\n",
    "        tokens = ' '.join(word for word in sentence.split() if len(word) > 1)\n",
    "    return tokens"
   ]
  },
  {
   "cell_type": "code",
   "execution_count": 15,
   "id": "norman-cedar",
   "metadata": {},
   "outputs": [
    {
     "name": "stdout",
     "output_type": "stream",
     "text": [
      "179.09697914123535  seconds\n",
      "['saurav kant alumnus upgrad iiit pg program machine learning artificial intelligence sr systems engineer infosys almost years work experience program upgrad degree career support helped transition data scientist tech mahindra salary hike upgrad online power learning powered lakh careers'\n",
      " 'kunal shah credit card bill payment platform cred gave users chance win free food swiggy one year pranav kaushik delhi techie bagged reward spending cred coins users get one cred coin per rupee bill paid used avail rewards brands like ixigo bookmyshow ubereats cult fit'\n",
      " 'new zealand defeated india wickets fourth odi hamilton thursday win first match five match odi series india lost international match rohit sharma captaincy consecutive victories dating back march match witnessed india getting seventh lowest total odi cricket history'\n",
      " ...\n",
      " 'according reports new version science fiction film matrix development michael jordan reportedly play lead role film screenwriter zak penn talks write script film reports added actor keanu reeves starred original film followed two sequels'\n",
      " 'new music video shows rapper snoop dogg aiming toy gun clown character parodying us president donald trump video also shows tv airing news conference headline ronald klump wants deport doggs airing live clown house video remixed version song lavender'\n",
      " 'madhesi morcha alliance seven political parties withdrawn support pm pushpa kamal dahal led nepal government failed meet seven day ultimatum fulfil demands including endorsement revised constitution amendment bill morcha seats parliament despite withdrawal support immediate threat government']\n",
      "5.9305500984191895  seconds\n",
      "['upgrad learner switches to career in ml al with salary hike'\n",
      " 'delhi techie wins free food from swiggy for one year on cred'\n",
      " 'new zealand end rohit sharma led india match winning streak' ...\n",
      " 'the matrix film to get reboot reports'\n",
      " 'snoop dogg aims gun at clown dressed as trump in new video'\n",
      " 'madhesi morcha withdraws support to nepalese government']\n"
     ]
    }
   ],
   "source": [
    "##멀티프로세싱을 활용하여 별도의 프로세스를 생성하여 병렬처리하면 CPU수에 비례하여 획기적으로 소요 시간을 줄일 수 있습니다.\n",
    "\n",
    "import multiprocessing as mp   # 멀티 프로세싱으로 전처리 속도를 획기적으로 줄여봅시다\n",
    "from multiprocessing import Pool\n",
    "import numpy as np\n",
    "import time\n",
    "from functools import partial  # map을 할 때 함수에 여러 인자를 넣어줄 수 있도록 합니다\n",
    "\n",
    "start = time.time()\n",
    "\n",
    "# num_cores 만큼 쪼개진 데이터를 전처리하여 반환합니다\n",
    "def appendTexts(sentences, remove_stopwords):\n",
    "  texts = []\n",
    "  for s in sentences:\n",
    "    texts += preprocess_sentence(s, remove_stopwords),\n",
    "  return texts\n",
    "\n",
    "def preprocess_data(data, remove_stopwords=True):\n",
    "  start_time = time.time()\n",
    "  num_cores = mp.cpu_count()  # 컴퓨터의 코어 수를 구합니다\n",
    "\n",
    "  text_data_split = np.array_split(data, num_cores)  # 코어 수만큼 데이터를 배분하여 병렬적으로 처리할 수 있게 합니다\n",
    "  pool = Pool(num_cores)\n",
    "\n",
    "  processed_data = np.concatenate(pool.map(partial(appendTexts, remove_stopwords=remove_stopwords), text_data_split))  # 각자 작업한 데이터를 하나로 합쳐줍니다\n",
    "  pool.close()\n",
    "  pool.join()\n",
    "  print(time.time() - start_time, \" seconds\")\n",
    "  return processed_data\n",
    "\n",
    "clean_text = preprocess_data(data['text'])  # 클라우드 기준으로 3~4분 정도 소요 됩니다\n",
    "print(clean_text)\n",
    "\n",
    "clean_headlines = preprocess_data(data['headlines'], remove_stopwords=False) # 클라우드 기준 1분정도 소요됩니다.\n",
    "print(clean_headlines)"
   ]
  },
  {
   "cell_type": "code",
   "execution_count": 20,
   "id": "social-counter",
   "metadata": {},
   "outputs": [],
   "source": [
    "#쉽게 확인하기 위해 데이터들을 데이터프레임에 재저장할게요. 그리고 빈(empty) 값을 가진 샘플들이 있다면, 모두 Null 값을 가진 샘플로 대체해요.\n",
    "\n",
    "\n",
    "\n",
    "data['text'] = clean_text\n",
    "data['headlines'] = clean_headlines\n",
    "\n",
    "# 빈 값을 Null 값으로 변환\n",
    "data.replace('', np.nan, inplace=True)"
   ]
  },
  {
   "cell_type": "code",
   "execution_count": 21,
   "id": "excellent-wound",
   "metadata": {},
   "outputs": [
    {
     "data": {
      "text/plain": [
       "headlines    0\n",
       "text         0\n",
       "Text         0\n",
       "dtype: int64"
      ]
     },
     "execution_count": 21,
     "metadata": {},
     "output_type": "execute_result"
    }
   ],
   "source": [
    "#정제 과정에서 모든 단어가 제거되어 빈 샘플이 70개나 생겼다는 의미\n",
    "\n",
    "data.isnull().sum()\n"
   ]
  },
  {
   "cell_type": "code",
   "execution_count": 24,
   "id": "surface-frank",
   "metadata": {},
   "outputs": [
    {
     "data": {
      "text/html": [
       "<div>\n",
       "<style scoped>\n",
       "    .dataframe tbody tr th:only-of-type {\n",
       "        vertical-align: middle;\n",
       "    }\n",
       "\n",
       "    .dataframe tbody tr th {\n",
       "        vertical-align: top;\n",
       "    }\n",
       "\n",
       "    .dataframe thead th {\n",
       "        text-align: right;\n",
       "    }\n",
       "</style>\n",
       "<table border=\"1\" class=\"dataframe\">\n",
       "  <thead>\n",
       "    <tr style=\"text-align: right;\">\n",
       "      <th></th>\n",
       "      <th>headlines</th>\n",
       "      <th>text</th>\n",
       "    </tr>\n",
       "  </thead>\n",
       "  <tbody>\n",
       "    <tr>\n",
       "      <th>0</th>\n",
       "      <td>upgrad learner switches to career in ml al wit...</td>\n",
       "      <td>saurav kant alumnus upgrad iiit pg program mac...</td>\n",
       "    </tr>\n",
       "    <tr>\n",
       "      <th>1</th>\n",
       "      <td>delhi techie wins free food from swiggy for on...</td>\n",
       "      <td>kunal shah credit card bill payment platform c...</td>\n",
       "    </tr>\n",
       "    <tr>\n",
       "      <th>2</th>\n",
       "      <td>new zealand end rohit sharma led india match w...</td>\n",
       "      <td>new zealand defeated india wickets fourth odi ...</td>\n",
       "    </tr>\n",
       "    <tr>\n",
       "      <th>3</th>\n",
       "      <td>aegon life iterm insurance plan helps customer...</td>\n",
       "      <td>aegon life iterm insurance plan customers enjo...</td>\n",
       "    </tr>\n",
       "    <tr>\n",
       "      <th>4</th>\n",
       "      <td>have known hirani for yrs what if metoo claims...</td>\n",
       "      <td>speaking sexual harassment allegations rajkuma...</td>\n",
       "    </tr>\n",
       "  </tbody>\n",
       "</table>\n",
       "</div>"
      ],
      "text/plain": [
       "                                           headlines  \\\n",
       "0  upgrad learner switches to career in ml al wit...   \n",
       "1  delhi techie wins free food from swiggy for on...   \n",
       "2  new zealand end rohit sharma led india match w...   \n",
       "3  aegon life iterm insurance plan helps customer...   \n",
       "4  have known hirani for yrs what if metoo claims...   \n",
       "\n",
       "                                                text  \n",
       "0  saurav kant alumnus upgrad iiit pg program mac...  \n",
       "1  kunal shah credit card bill payment platform c...  \n",
       "2  new zealand defeated india wickets fourth odi ...  \n",
       "3  aegon life iterm insurance plan customers enjo...  \n",
       "4  speaking sexual harassment allegations rajkuma...  "
      ]
     },
     "execution_count": 24,
     "metadata": {},
     "output_type": "execute_result"
    }
   ],
   "source": [
    "data.head()"
   ]
  },
  {
   "cell_type": "code",
   "execution_count": 23,
   "id": "chief-component",
   "metadata": {},
   "outputs": [],
   "source": [
    "del data['Text']"
   ]
  },
  {
   "cell_type": "code",
   "execution_count": 25,
   "id": "solid-merchandise",
   "metadata": {},
   "outputs": [
    {
     "name": "stdout",
     "output_type": "stream",
     "text": [
      "전체 샘플수 : 98360\n"
     ]
    }
   ],
   "source": [
    "data.dropna(axis=0, inplace=True)\n",
    "print('전체 샘플수 :', (len(data)))"
   ]
  },
  {
   "cell_type": "markdown",
   "id": "formed-suggestion",
   "metadata": {},
   "source": [
    "### 2) 훈련데이터와 테스트데이터 나누기\n",
    "학습을 진행하기 위해서는 학습에 사용할 데이터의 크기를 결정하고, 문장의 시작과 끝을 표시\n",
    "- 샘플의 최대 길이 정하기                                                                \n",
    ": Text와 Summary의 최소, 최대, 평균 길이를 구하고 또한 길이 분포를 시각화해서 파악\n",
    "- 시작 토큰과 종료 토큰 추가하기"
   ]
  },
  {
   "cell_type": "code",
   "execution_count": 27,
   "id": "handy-complexity",
   "metadata": {},
   "outputs": [
    {
     "name": "stdout",
     "output_type": "stream",
     "text": [
      "텍스트의 최소 길이 : 1\n",
      "텍스트의 최대 길이 : 60\n",
      "텍스트의 평균 길이 : 35.09968483123221\n",
      "요약의 최소 길이 : 1\n",
      "요약의 최대 길이 : 16\n",
      "요약의 평균 길이 : 9.299532330215534\n"
     ]
    },
    {
     "data": {
      "image/png": "[encoded data removed]",
      "text/plain": [
       "<Figure size 432x288 with 2 Axes>"
      ]
     },
     "metadata": {
      "needs_background": "light"
     },
     "output_type": "display_data"
    },
    {
     "data": {
      "image/png": "[encoded data removed]",
      "text/plain": [
       "<Figure size 432x288 with 1 Axes>"
      ]
     },
     "metadata": {
      "needs_background": "light"
     },
     "output_type": "display_data"
    },
    {
     "data": {
      "image/png": "[encoded data removed]",
      "text/plain": [
       "<Figure size 432x288 with 1 Axes>"
      ]
     },
     "metadata": {
      "needs_background": "light"
     },
     "output_type": "display_data"
    }
   ],
   "source": [
    "#Text와 Summary의 최소, 최대, 평균 길이를 구하고 또한 길이 분포를 시각화\n",
    "# 길이 분포 출력\n",
    "import matplotlib.pyplot as plt\n",
    "\n",
    "text_len = [len(s.split()) for s in data['text']]\n",
    "headlines_len = [len(s.split()) for s in data['headlines']]\n",
    "\n",
    "print('텍스트의 최소 길이 : {}'.format(np.min(text_len)))\n",
    "print('텍스트의 최대 길이 : {}'.format(np.max(text_len)))\n",
    "print('텍스트의 평균 길이 : {}'.format(np.mean(text_len)))\n",
    "print('요약의 최소 길이 : {}'.format(np.min(headlines_len)))\n",
    "print('요약의 최대 길이 : {}'.format(np.max(headlines_len)))\n",
    "print('요약의 평균 길이 : {}'.format(np.mean(headlines_len)))\n",
    "\n",
    "plt.subplot(1,2,1)\n",
    "plt.boxplot(headlines_len)\n",
    "plt.title('Headlines')\n",
    "plt.subplot(1,2,2)\n",
    "plt.boxplot(text_len)\n",
    "plt.title('Text')\n",
    "plt.tight_layout()\n",
    "plt.show()\n",
    "\n",
    "plt.title('Headlines')\n",
    "plt.hist(headlines_len, bins = 40)\n",
    "plt.xlabel('length of samples')\n",
    "plt.ylabel('number of samples')\n",
    "plt.show()\n",
    "\n",
    "plt.title('Text')\n",
    "plt.hist(text_len, bins = 40)\n",
    "plt.xlabel('length of samples')\n",
    "plt.ylabel('number of samples')\n",
    "plt.show()"
   ]
  },
  {
   "cell_type": "code",
   "execution_count": 31,
   "id": "bottom-consumer",
   "metadata": {},
   "outputs": [],
   "source": [
    "text_max_len = 38\n",
    "headlines_max_len = 10"
   ]
  },
  {
   "cell_type": "code",
   "execution_count": 32,
   "id": "unique-environment",
   "metadata": {},
   "outputs": [],
   "source": [
    "def below_threshold_len(max_len, nested_list):\n",
    "  cnt = 0\n",
    "  for s in nested_list:\n",
    "    if(len(s.split()) <= max_len):\n",
    "        cnt = cnt + 1\n",
    "  print('전체 샘플 중 길이가 %s 이하인 샘플의 비율: %s'%(max_len, (cnt / len(nested_list))))"
   ]
  },
  {
   "cell_type": "code",
   "execution_count": 33,
   "id": "welcome-pitch",
   "metadata": {},
   "outputs": [
    {
     "name": "stdout",
     "output_type": "stream",
     "text": [
      "전체 샘플 중 길이가 38 이하인 샘플의 비율: 0.8163379422529483\n",
      "전체 샘플 중 길이가 10 이하인 샘플의 비율: 0.8162972753151687\n"
     ]
    }
   ],
   "source": [
    "below_threshold_len(text_max_len, data['text'])\n",
    "below_threshold_len(headlines_max_len,  data['headlines'])"
   ]
  },
  {
   "cell_type": "code",
   "execution_count": 34,
   "id": "false-pressing",
   "metadata": {},
   "outputs": [
    {
     "name": "stdout",
     "output_type": "stream",
     "text": [
      "전체 샘플수 : 65295\n"
     ]
    }
   ],
   "source": [
    "#정해진 길이에 맞춰 자르는 것이 아니라, 정해진 길이보다 길면 제외하는 방법사용\n",
    "data = data[data['text'].apply(lambda x: len(x.split()) <= text_max_len)]\n",
    "data = data[data['headlines'].apply(lambda x: len(x.split()) <= headlines_max_len)]\n",
    "print('전체 샘플수 :', (len(data)))"
   ]
  },
  {
   "cell_type": "code",
   "execution_count": 35,
   "id": "framed-contribution",
   "metadata": {},
   "outputs": [
    {
     "data": {
      "text/html": [
       "<div>\n",
       "<style scoped>\n",
       "    .dataframe tbody tr th:only-of-type {\n",
       "        vertical-align: middle;\n",
       "    }\n",
       "\n",
       "    .dataframe tbody tr th {\n",
       "        vertical-align: top;\n",
       "    }\n",
       "\n",
       "    .dataframe thead th {\n",
       "        text-align: right;\n",
       "    }\n",
       "</style>\n",
       "<table border=\"1\" class=\"dataframe\">\n",
       "  <thead>\n",
       "    <tr style=\"text-align: right;\">\n",
       "      <th></th>\n",
       "      <th>headlines</th>\n",
       "      <th>text</th>\n",
       "      <th>decoder_input</th>\n",
       "      <th>decoder_target</th>\n",
       "    </tr>\n",
       "  </thead>\n",
       "  <tbody>\n",
       "    <tr>\n",
       "      <th>2</th>\n",
       "      <td>new zealand end rohit sharma led india match w...</td>\n",
       "      <td>new zealand defeated india wickets fourth odi ...</td>\n",
       "      <td>sostoken new zealand end rohit sharma led indi...</td>\n",
       "      <td>new zealand end rohit sharma led india match w...</td>\n",
       "    </tr>\n",
       "    <tr>\n",
       "      <th>3</th>\n",
       "      <td>aegon life iterm insurance plan helps customer...</td>\n",
       "      <td>aegon life iterm insurance plan customers enjo...</td>\n",
       "      <td>sostoken aegon life iterm insurance plan helps...</td>\n",
       "      <td>aegon life iterm insurance plan helps customer...</td>\n",
       "    </tr>\n",
       "    <tr>\n",
       "      <th>5</th>\n",
       "      <td>rahat fateh ali khan denies getting notice for...</td>\n",
       "      <td>pakistani singer rahat fateh ali khan denied r...</td>\n",
       "      <td>sostoken rahat fateh ali khan denies getting n...</td>\n",
       "      <td>rahat fateh ali khan denies getting notice for...</td>\n",
       "    </tr>\n",
       "    <tr>\n",
       "      <th>9</th>\n",
       "      <td>cong wins ramgarh bypoll in rajasthan takes to...</td>\n",
       "      <td>congress candidate shafia zubair ramgarh assem...</td>\n",
       "      <td>sostoken cong wins ramgarh bypoll in rajasthan...</td>\n",
       "      <td>cong wins ramgarh bypoll in rajasthan takes to...</td>\n",
       "    </tr>\n",
       "    <tr>\n",
       "      <th>10</th>\n",
       "      <td>up cousins fed human excreta for friendship wi...</td>\n",
       "      <td>two minor cousins uttar pradesh gorakhpur alle...</td>\n",
       "      <td>sostoken up cousins fed human excreta for frie...</td>\n",
       "      <td>up cousins fed human excreta for friendship wi...</td>\n",
       "    </tr>\n",
       "  </tbody>\n",
       "</table>\n",
       "</div>"
      ],
      "text/plain": [
       "                                            headlines  \\\n",
       "2   new zealand end rohit sharma led india match w...   \n",
       "3   aegon life iterm insurance plan helps customer...   \n",
       "5   rahat fateh ali khan denies getting notice for...   \n",
       "9   cong wins ramgarh bypoll in rajasthan takes to...   \n",
       "10  up cousins fed human excreta for friendship wi...   \n",
       "\n",
       "                                                 text  \\\n",
       "2   new zealand defeated india wickets fourth odi ...   \n",
       "3   aegon life iterm insurance plan customers enjo...   \n",
       "5   pakistani singer rahat fateh ali khan denied r...   \n",
       "9   congress candidate shafia zubair ramgarh assem...   \n",
       "10  two minor cousins uttar pradesh gorakhpur alle...   \n",
       "\n",
       "                                        decoder_input  \\\n",
       "2   sostoken new zealand end rohit sharma led indi...   \n",
       "3   sostoken aegon life iterm insurance plan helps...   \n",
       "5   sostoken rahat fateh ali khan denies getting n...   \n",
       "9   sostoken cong wins ramgarh bypoll in rajasthan...   \n",
       "10  sostoken up cousins fed human excreta for frie...   \n",
       "\n",
       "                                       decoder_target  \n",
       "2   new zealand end rohit sharma led india match w...  \n",
       "3   aegon life iterm insurance plan helps customer...  \n",
       "5   rahat fateh ali khan denies getting notice for...  \n",
       "9   cong wins ramgarh bypoll in rajasthan takes to...  \n",
       "10  up cousins fed human excreta for friendship wi...  "
      ]
     },
     "execution_count": 35,
     "metadata": {},
     "output_type": "execute_result"
    }
   ],
   "source": [
    "# 요약 데이터에는 시작 토큰과 종료 토큰을 추가한다.\n",
    "data['decoder_input'] = data['headlines'].apply(lambda x : 'sostoken '+ x)\n",
    "data['decoder_target'] = data['headlines'].apply(lambda x : x + ' eostoken')\n",
    "data.head()"
   ]
  },
  {
   "cell_type": "code",
   "execution_count": 36,
   "id": "dated-distributor",
   "metadata": {},
   "outputs": [],
   "source": [
    "encoder_input = np.array(data['text']) # 인코더의 입력\n",
    "decoder_input = np.array(data['decoder_input']) # 디코더의 입력\n",
    "decoder_target = np.array(data['decoder_target']) # 디코더의 레이블"
   ]
  },
  {
   "cell_type": "code",
   "execution_count": 37,
   "id": "sharp-application",
   "metadata": {},
   "outputs": [
    {
     "name": "stdout",
     "output_type": "stream",
     "text": [
      "[52008 24143  5874 ...  8180 20311 63023]\n"
     ]
    }
   ],
   "source": [
    "indices = np.arange(encoder_input.shape[0])\n",
    "np.random.shuffle(indices)\n",
    "print(indices)"
   ]
  },
  {
   "cell_type": "code",
   "execution_count": 38,
   "id": "welsh-israeli",
   "metadata": {},
   "outputs": [],
   "source": [
    "encoder_input = encoder_input[indices]\n",
    "decoder_input = decoder_input[indices]\n",
    "decoder_target = decoder_target[indices]"
   ]
  },
  {
   "cell_type": "code",
   "execution_count": 39,
   "id": "boxed-porcelain",
   "metadata": {},
   "outputs": [
    {
     "name": "stdout",
     "output_type": "stream",
     "text": [
      "테스트 데이터의 수 : 13059\n"
     ]
    }
   ],
   "source": [
    "# 테스트 데이터의 크기\n",
    "#섞인 데이터를 8:2의 비율로 훈련 데이터와 테스트 데이터로 분리\n",
    "n_of_val = int(len(encoder_input)*0.2)\n",
    "print('테스트 데이터의 수 :', n_of_val)"
   ]
  },
  {
   "cell_type": "code",
   "execution_count": 40,
   "id": "handmade-seafood",
   "metadata": {},
   "outputs": [
    {
     "name": "stdout",
     "output_type": "stream",
     "text": [
      "훈련 데이터의 개수 : 52236\n",
      "훈련 레이블의 개수 : 52236\n",
      "테스트 데이터의 개수 : 13059\n",
      "테스트 레이블의 개수 : 13059\n"
     ]
    }
   ],
   "source": [
    "#훈련데이터와, 테스트데이터 분리\n",
    "encoder_input_train = encoder_input[:-n_of_val]\n",
    "decoder_input_train = decoder_input[:-n_of_val]\n",
    "decoder_target_train = decoder_target[:-n_of_val]\n",
    "\n",
    "encoder_input_test = encoder_input[-n_of_val:]\n",
    "decoder_input_test = decoder_input[-n_of_val:]\n",
    "decoder_target_test = decoder_target[-n_of_val:]\n",
    "\n",
    "print('훈련 데이터의 개수 :', len(encoder_input_train))\n",
    "print('훈련 레이블의 개수 :', len(decoder_input_train))\n",
    "print('테스트 데이터의 개수 :', len(encoder_input_test))\n",
    "print('테스트 레이블의 개수 :', len(decoder_input_test))"
   ]
  },
  {
   "cell_type": "markdown",
   "id": "macro-garbage",
   "metadata": {},
   "source": [
    "### 3) 정수 인코딩\n",
    "- 단어 집합(vocabulary) 만들기 및 정수 인코딩\n",
    "기계가 텍스트를 숫자로 처리하 수 있도록 훈련 데이터와 테스트 데이터의 단어들을 모두 정수로 바꾸어준다. 이를 위해서는 각 단어에 고유한 정수를 맵핑하는 작업이 필요하다. 이 과정을 단어 집합(vocabulary)을 만든다고 표현한다.\n",
    "\n",
    "- 패딩하기\n",
    "정해두었던 최대 길이로 패딩 해 준다. 최대 길이보다 짧은 데이터들은 뒤의 공간에 숫자 0을 넣어 최대 길이로 길이를 맞춰준다."
   ]
  },
  {
   "cell_type": "code",
   "execution_count": 41,
   "id": "unlimited-swedish",
   "metadata": {},
   "outputs": [],
   "source": [
    "#Keras의 토크나이저를 사용하면, 입력된 훈련 데이터로부터 단어 집합을 만들 수 있어요.\n",
    "src_tokenizer = Tokenizer() # 토크나이저 정의\n",
    "src_tokenizer.fit_on_texts(encoder_input_train) # 입력된 데이터로부터 단어 집합 생성"
   ]
  },
  {
   "cell_type": "code",
   "execution_count": 42,
   "id": "binary-queue",
   "metadata": {},
   "outputs": [
    {
     "name": "stdout",
     "output_type": "stream",
     "text": [
      "단어 집합(vocabulary)의 크기 : 57157\n",
      "등장 빈도가 6번 이하인 희귀 단어의 수: 39323\n",
      "단어 집합에서 희귀 단어를 제외시킬 경우의 단어 집합의 크기 17834\n",
      "단어 집합에서 희귀 단어의 비율: 68.79822243994612\n",
      "전체 등장 빈도에서 희귀 단어 등장 빈도 비율: 4.534231213566179\n"
     ]
    }
   ],
   "source": [
    "threshold = 7\n",
    "total_cnt = len(src_tokenizer.word_index) # 단어의 수\n",
    "rare_cnt = 0 # 등장 빈도수가 threshold보다 작은 단어의 개수를 카운트\n",
    "total_freq = 0 # 훈련 데이터의 전체 단어 빈도수 총 합\n",
    "rare_freq = 0 # 등장 빈도수가 threshold보다 작은 단어의 등장 빈도수의 총 합\n",
    "\n",
    "# 단어와 빈도수의 쌍(pair)을 key와 value로 받는다.\n",
    "for key, value in src_tokenizer.word_counts.items():\n",
    "    total_freq = total_freq + value\n",
    "\n",
    "    # 단어의 등장 빈도수가 threshold보다 작으면\n",
    "    if(value < threshold):\n",
    "        rare_cnt = rare_cnt + 1\n",
    "        rare_freq = rare_freq + value\n",
    "\n",
    "print('단어 집합(vocabulary)의 크기 :', total_cnt)\n",
    "print('등장 빈도가 %s번 이하인 희귀 단어의 수: %s'%(threshold - 1, rare_cnt))\n",
    "print('단어 집합에서 희귀 단어를 제외시킬 경우의 단어 집합의 크기 %s'%(total_cnt - rare_cnt))\n",
    "print(\"단어 집합에서 희귀 단어의 비율:\", (rare_cnt / total_cnt)*100)\n",
    "print(\"전체 등장 빈도에서 희귀 단어 등장 빈도 비율:\", (rare_freq / total_freq)*100)"
   ]
  },
  {
   "cell_type": "code",
   "execution_count": 44,
   "id": "preceding-conditions",
   "metadata": {},
   "outputs": [],
   "source": [
    "#text 데이터에 대해서도 수행\n",
    "src_vocab = 18000\n",
    "src_tokenizer = Tokenizer(num_words=src_vocab) # 단어 집합의 크기를 8,000으로 제한\n",
    "src_tokenizer.fit_on_texts(encoder_input_train) # 단어 집합 재생성."
   ]
  },
  {
   "cell_type": "code",
   "execution_count": 45,
   "id": "leading-progress",
   "metadata": {},
   "outputs": [
    {
     "name": "stdout",
     "output_type": "stream",
     "text": [
      "[[166, 670, 255, 44, 386, 534, 277, 709, 387, 101, 3021, 6415, 971, 542, 10674, 10675, 27, 166, 1104, 3201, 1083, 477, 164, 902, 670, 5, 2814, 1986, 310, 688, 109, 11554, 2493, 15587, 387], [7057, 5248, 11, 13, 1153, 839, 199, 3087, 153, 39, 1153, 3345, 129, 119, 3116, 869, 11102, 7058, 522, 2540, 1986, 5248, 12591, 8425, 83, 13182, 13873, 3981], [45, 11103, 14681, 456, 3280, 4100, 1299, 3370, 1586, 484, 2572, 16602, 9969, 1219, 1702, 3828, 9142, 992, 210, 287, 315, 6781, 12032, 125, 480, 1351, 5, 17835, 1219, 59, 47, 1007, 269, 143, 4056, 3703, 4411, 5249]]\n"
     ]
    }
   ],
   "source": [
    "# 텍스트 시퀀스를 정수 시퀀스로 변환\n",
    "encoder_input_train = src_tokenizer.texts_to_sequences(encoder_input_train) \n",
    "encoder_input_test = src_tokenizer.texts_to_sequences(encoder_input_test)\n",
    "\n",
    "# 잘 진행되었는지 샘플 출력\n",
    "print(encoder_input_train[:3])"
   ]
  },
  {
   "cell_type": "code",
   "execution_count": 46,
   "id": "expected-spank",
   "metadata": {},
   "outputs": [],
   "source": [
    "#headlines 데이터에 대해서 수행\n",
    "tar_tokenizer = Tokenizer()\n",
    "tar_tokenizer.fit_on_texts(decoder_input_train)"
   ]
  },
  {
   "cell_type": "code",
   "execution_count": 53,
   "id": "thirty-bangkok",
   "metadata": {},
   "outputs": [
    {
     "name": "stdout",
     "output_type": "stream",
     "text": [
      "단어 집합(vocabulary)의 크기 : 25931\n",
      "등장 빈도가 7번 이하인 희귀 단어의 수: 19007\n",
      "단어 집합에서 희귀 단어를 제외시킬 경우의 단어 집합의 크기 6924\n",
      "단어 집합에서 희귀 단어의 비율: 73.29836874783078\n",
      "전체 등장 빈도에서 희귀 단어 등장 빈도 비율: 8.367696121227238\n"
     ]
    }
   ],
   "source": [
    "threshold = 8\n",
    "total_cnt = len(tar_tokenizer.word_index) # 단어의 수\n",
    "rare_cnt = 0 # 등장 빈도수가 threshold보다 작은 단어의 개수를 카운트\n",
    "total_freq = 0 # 훈련 데이터의 전체 단어 빈도수 총 합\n",
    "rare_freq = 0 # 등장 빈도수가 threshold보다 작은 단어의 등장 빈도수의 총 합\n",
    "\n",
    "# 단어와 빈도수의 쌍(pair)을 key와 value로 받는다.\n",
    "for key, value in tar_tokenizer.word_counts.items():\n",
    "    total_freq = total_freq + value\n",
    "\n",
    "    # 단어의 등장 빈도수가 threshold보다 작으면\n",
    "    if(value < threshold):\n",
    "        rare_cnt = rare_cnt + 1\n",
    "        rare_freq = rare_freq + value\n",
    "\n",
    "print('단어 집합(vocabulary)의 크기 :', total_cnt)\n",
    "print('등장 빈도가 %s번 이하인 희귀 단어의 수: %s'%(threshold - 1, rare_cnt))\n",
    "print('단어 집합에서 희귀 단어를 제외시킬 경우의 단어 집합의 크기 %s'%(total_cnt - rare_cnt))\n",
    "print(\"단어 집합에서 희귀 단어의 비율:\", (rare_cnt / total_cnt)*100)\n",
    "print(\"전체 등장 빈도에서 희귀 단어 등장 빈도 비율:\", (rare_freq / total_freq)*100)"
   ]
  },
  {
   "cell_type": "code",
   "execution_count": 54,
   "id": "through-information",
   "metadata": {},
   "outputs": [
    {
     "name": "stdout",
     "output_type": "stream",
     "text": [
      "input\n",
      "input  [[1, 255, 6, 464, 49, 2254, 214, 917, 192, 4, 23], [1, 6926, 6, 39, 27, 1105, 4, 76, 1281, 5], [1, 175, 838, 1298, 3, 2255, 12, 3112, 2040], [1, 870, 112, 374, 1555, 1793, 4991, 174, 1233, 72], [1, 6927, 1171, 7, 306, 1344, 7, 1468, 1172]]\n",
      "target\n",
      "decoder  [[255, 6, 464, 49, 2254, 214, 917, 192, 4, 23, 2], [6926, 6, 39, 27, 1105, 4, 76, 1281, 5, 2], [175, 838, 1298, 3, 2255, 12, 3112, 2040, 2], [870, 112, 374, 1555, 1793, 4991, 174, 1233, 72, 2], [6927, 1171, 7, 306, 1344, 7, 1468, 1172, 2]]\n"
     ]
    }
   ],
   "source": [
    "tar_vocab = 7000\n",
    "tar_tokenizer = Tokenizer(num_words=tar_vocab) \n",
    "tar_tokenizer.fit_on_texts(decoder_input_train)\n",
    "tar_tokenizer.fit_on_texts(decoder_target_train)\n",
    "\n",
    "# 텍스트 시퀀스를 정수 시퀀스로 변환\n",
    "decoder_input_train = tar_tokenizer.texts_to_sequences(decoder_input_train) \n",
    "decoder_target_train = tar_tokenizer.texts_to_sequences(decoder_target_train)\n",
    "decoder_input_test = tar_tokenizer.texts_to_sequences(decoder_input_test)\n",
    "decoder_target_test = tar_tokenizer.texts_to_sequences(decoder_target_test)\n",
    "\n",
    "# 잘 변환되었는지 확인\n",
    "print('input')\n",
    "print('input ',decoder_input_train[:5])\n",
    "print('target')\n",
    "print('decoder ',decoder_target_train[:5])"
   ]
  },
  {
   "cell_type": "code",
   "execution_count": 55,
   "id": "intermediate-biography",
   "metadata": {},
   "outputs": [
    {
     "name": "stdout",
     "output_type": "stream",
     "text": [
      "삭제할 훈련 데이터의 개수 : 1\n",
      "삭제할 테스트 데이터의 개수 : 0\n",
      "훈련 데이터의 개수 : 52235\n",
      "훈련 레이블의 개수 : 52235\n",
      "테스트 데이터의 개수 : 13059\n",
      "테스트 레이블의 개수 : 13059\n"
     ]
    },
    {
     "name": "stderr",
     "output_type": "stream",
     "text": [
      "/opt/conda/lib/python3.7/site-packages/numpy/core/_asarray.py:83: VisibleDeprecationWarning: Creating an ndarray from ragged nested sequences (which is a list-or-tuple of lists-or-tuples-or ndarrays with different lengths or shapes) is deprecated. If you meant to do this, you must specify 'dtype=object' when creating the ndarray\n",
      "  return array(a, dtype, copy=False, order=order)\n"
     ]
    }
   ],
   "source": [
    "drop_train = [index for index, sentence in enumerate(decoder_input_train) if len(sentence) == 1]\n",
    "drop_test = [index for index, sentence in enumerate(decoder_input_test) if len(sentence) == 1]\n",
    "\n",
    "print('삭제할 훈련 데이터의 개수 :', len(drop_train))\n",
    "print('삭제할 테스트 데이터의 개수 :', len(drop_test))\n",
    "\n",
    "encoder_input_train = np.delete(encoder_input_train, drop_train, axis=0)\n",
    "decoder_input_train = np.delete(decoder_input_train, drop_train, axis=0)\n",
    "decoder_target_train = np.delete(decoder_target_train, drop_train, axis=0)\n",
    "\n",
    "encoder_input_test = np.delete(encoder_input_test, drop_test, axis=0)\n",
    "decoder_input_test = np.delete(decoder_input_test, drop_test, axis=0)\n",
    "decoder_target_test = np.delete(decoder_target_test, drop_test, axis=0)\n",
    "\n",
    "print('훈련 데이터의 개수 :', len(encoder_input_train))\n",
    "print('훈련 레이블의 개수 :', len(decoder_input_train))\n",
    "print('테스트 데이터의 개수 :', len(encoder_input_test))\n",
    "print('테스트 레이블의 개수 :', len(decoder_input_test))"
   ]
  },
  {
   "cell_type": "code",
   "execution_count": 56,
   "id": "aging-charity",
   "metadata": {},
   "outputs": [],
   "source": [
    "#패딩하기\n",
    "\n",
    "encoder_input_train = pad_sequences(encoder_input_train, maxlen=text_max_len, padding='post')\n",
    "encoder_input_test = pad_sequences(encoder_input_test, maxlen=text_max_len, padding='post')\n",
    "decoder_input_train = pad_sequences(decoder_input_train, maxlen=summary_max_len, padding='post')\n",
    "decoder_target_train = pad_sequences(decoder_target_train, maxlen=summary_max_len, padding='post')\n",
    "decoder_input_test = pad_sequences(decoder_input_test, maxlen=summary_max_len, padding='post')\n",
    "decoder_target_test = pad_sequences(decoder_target_test, maxlen=summary_max_len, padding='post')"
   ]
  },
  {
   "cell_type": "markdown",
   "id": "fallen-isaac",
   "metadata": {},
   "source": [
    "## 3. 모델 설계하기\n",
    "### 1) LSTM과 컨텍스트 벡터\n",
    "### 2) 어텐션 메커니즘을 통한 새로운 컨텍스트 벡터 사용"
   ]
  },
  {
   "cell_type": "code",
   "execution_count": 57,
   "id": "speaking-affair",
   "metadata": {},
   "outputs": [
    {
     "name": "stdout",
     "output_type": "stream",
     "text": [
      "WARNING:tensorflow:Layer lstm will not use cuDNN kernel since it doesn't meet the cuDNN kernel criteria. It will use generic GPU kernel as fallback when running on GPU\n",
      "WARNING:tensorflow:Layer lstm_1 will not use cuDNN kernel since it doesn't meet the cuDNN kernel criteria. It will use generic GPU kernel as fallback when running on GPU\n",
      "WARNING:tensorflow:Layer lstm_2 will not use cuDNN kernel since it doesn't meet the cuDNN kernel criteria. It will use generic GPU kernel as fallback when running on GPU\n"
     ]
    }
   ],
   "source": [
    "#LSTM 모델\n",
    "\n",
    "from tensorflow.keras.layers import Input, LSTM, Embedding, Dense, Concatenate\n",
    "from tensorflow.keras.models import Model\n",
    "from tensorflow.keras.callbacks import EarlyStopping, ModelCheckpoint\n",
    "\n",
    "\n",
    "# 인코더 설계 시작\n",
    "embedding_dim = 128\n",
    "hidden_size = 256\n",
    "\n",
    "# 인코더\n",
    "encoder_inputs = Input(shape=(text_max_len,))\n",
    "\n",
    "# 인코더의 임베딩 층\n",
    "enc_emb = Embedding(src_vocab, embedding_dim)(encoder_inputs)\n",
    "\n",
    "# 인코더의 LSTM 1\n",
    "encoder_lstm1 = LSTM(hidden_size, return_sequences=True, return_state=True ,dropout = 0.4, recurrent_dropout = 0.4)\n",
    "encoder_output1, state_h1, state_c1 = encoder_lstm1(enc_emb)\n",
    "\n",
    "# 인코더의 LSTM 2\n",
    "encoder_lstm2 = LSTM(hidden_size, return_sequences=True, return_state=True, dropout=0.4, recurrent_dropout=0.4)\n",
    "encoder_output2, state_h2, state_c2 = encoder_lstm2(encoder_output1)\n",
    "\n",
    "# 인코더의 LSTM 3\n",
    "encoder_lstm3 = LSTM(hidden_size, return_state=True, return_sequences=True, dropout=0.4, recurrent_dropout=0.4)\n",
    "encoder_outputs, state_h, state_c= encoder_lstm3(encoder_output2)"
   ]
  },
  {
   "cell_type": "code",
   "execution_count": 58,
   "id": "noble-envelope",
   "metadata": {},
   "outputs": [
    {
     "name": "stdout",
     "output_type": "stream",
     "text": [
      "WARNING:tensorflow:Layer lstm_3 will not use cuDNN kernel since it doesn't meet the cuDNN kernel criteria. It will use generic GPU kernel as fallback when running on GPU\n"
     ]
    }
   ],
   "source": [
    "# 디코더 설계\n",
    "decoder_inputs = Input(shape=(None,))\n",
    "\n",
    "# 디코더의 임베딩 층\n",
    "dec_emb_layer = Embedding(tar_vocab, embedding_dim)\n",
    "dec_emb = dec_emb_layer(decoder_inputs)\n",
    "\n",
    "# 디코더의 LSTM\n",
    "decoder_lstm = LSTM(hidden_size, return_sequences=True, return_state=True, dropout=0.4, recurrent_dropout=0.2)\n",
    "decoder_outputs, _, _ = decoder_lstm(dec_emb, initial_state=[state_h, state_c])"
   ]
  },
  {
   "cell_type": "code",
   "execution_count": 59,
   "id": "egyptian-relations",
   "metadata": {},
   "outputs": [
    {
     "name": "stdout",
     "output_type": "stream",
     "text": [
      "Model: \"model\"\n",
      "__________________________________________________________________________________________________\n",
      "Layer (type)                    Output Shape         Param #     Connected to                     \n",
      "==================================================================================================\n",
      "input_1 (InputLayer)            [(None, 38)]         0                                            \n",
      "__________________________________________________________________________________________________\n",
      "embedding (Embedding)           (None, 38, 128)      2304000     input_1[0][0]                    \n",
      "__________________________________________________________________________________________________\n",
      "lstm (LSTM)                     [(None, 38, 256), (N 394240      embedding[0][0]                  \n",
      "__________________________________________________________________________________________________\n",
      "input_2 (InputLayer)            [(None, None)]       0                                            \n",
      "__________________________________________________________________________________________________\n",
      "lstm_1 (LSTM)                   [(None, 38, 256), (N 525312      lstm[0][0]                       \n",
      "__________________________________________________________________________________________________\n",
      "embedding_1 (Embedding)         (None, None, 128)    896000      input_2[0][0]                    \n",
      "__________________________________________________________________________________________________\n",
      "lstm_2 (LSTM)                   [(None, 38, 256), (N 525312      lstm_1[0][0]                     \n",
      "__________________________________________________________________________________________________\n",
      "lstm_3 (LSTM)                   [(None, None, 256),  394240      embedding_1[0][0]                \n",
      "                                                                 lstm_2[0][1]                     \n",
      "                                                                 lstm_2[0][2]                     \n",
      "__________________________________________________________________________________________________\n",
      "dense (Dense)                   (None, None, 7000)   1799000     lstm_3[0][0]                     \n",
      "==================================================================================================\n",
      "Total params: 6,838,104\n",
      "Trainable params: 6,838,104\n",
      "Non-trainable params: 0\n",
      "__________________________________________________________________________________________________\n"
     ]
    }
   ],
   "source": [
    "# 디코더의 출력층\n",
    "decoder_softmax_layer = Dense(tar_vocab, activation='softmax')\n",
    "decoder_softmax_outputs = decoder_softmax_layer(decoder_outputs) \n",
    "\n",
    "# 모델 정의\n",
    "model = Model([encoder_inputs, decoder_inputs], decoder_softmax_outputs)\n",
    "model.summary()"
   ]
  },
  {
   "cell_type": "markdown",
   "id": "fatal-proportion",
   "metadata": {},
   "source": [
    "#### 어텐션 메커니즘\n",
    "- 이미 구현된 어텐션 함수를 가져와서 디코더의 출력층에 어떤 방식으로 결합하는지 보기\n",
    "- 어텐션 메커니즘을 사용한 seq2seq를 사용"
   ]
  },
  {
   "cell_type": "code",
   "execution_count": 60,
   "id": "close-bishop",
   "metadata": {},
   "outputs": [],
   "source": [
    "#어텐션 함수\n",
    "urllib.request.urlretrieve(\"https://raw.githubusercontent.com/thushv89/attention_keras/master/src/layers/attention.py\", filename=\"attention.py\")\n",
    "from attention import AttentionLayer"
   ]
  },
  {
   "cell_type": "code",
   "execution_count": 61,
   "id": "intermediate-wallpaper",
   "metadata": {},
   "outputs": [
    {
     "name": "stdout",
     "output_type": "stream",
     "text": [
      "Model: \"model_1\"\n",
      "__________________________________________________________________________________________________\n",
      "Layer (type)                    Output Shape         Param #     Connected to                     \n",
      "==================================================================================================\n",
      "input_1 (InputLayer)            [(None, 38)]         0                                            \n",
      "__________________________________________________________________________________________________\n",
      "embedding (Embedding)           (None, 38, 128)      2304000     input_1[0][0]                    \n",
      "__________________________________________________________________________________________________\n",
      "lstm (LSTM)                     [(None, 38, 256), (N 394240      embedding[0][0]                  \n",
      "__________________________________________________________________________________________________\n",
      "input_2 (InputLayer)            [(None, None)]       0                                            \n",
      "__________________________________________________________________________________________________\n",
      "lstm_1 (LSTM)                   [(None, 38, 256), (N 525312      lstm[0][0]                       \n",
      "__________________________________________________________________________________________________\n",
      "embedding_1 (Embedding)         (None, None, 128)    896000      input_2[0][0]                    \n",
      "__________________________________________________________________________________________________\n",
      "lstm_2 (LSTM)                   [(None, 38, 256), (N 525312      lstm_1[0][0]                     \n",
      "__________________________________________________________________________________________________\n",
      "lstm_3 (LSTM)                   [(None, None, 256),  394240      embedding_1[0][0]                \n",
      "                                                                 lstm_2[0][1]                     \n",
      "                                                                 lstm_2[0][2]                     \n",
      "__________________________________________________________________________________________________\n",
      "attention_layer (AttentionLayer ((None, None, 256),  131328      lstm_2[0][0]                     \n",
      "                                                                 lstm_3[0][0]                     \n",
      "__________________________________________________________________________________________________\n",
      "concat_layer (Concatenate)      (None, None, 512)    0           lstm_3[0][0]                     \n",
      "                                                                 attention_layer[0][0]            \n",
      "__________________________________________________________________________________________________\n",
      "dense_1 (Dense)                 (None, None, 7000)   3591000     concat_layer[0][0]               \n",
      "==================================================================================================\n",
      "Total params: 8,761,432\n",
      "Trainable params: 8,761,432\n",
      "Non-trainable params: 0\n",
      "__________________________________________________________________________________________________\n"
     ]
    }
   ],
   "source": [
    "# 어텐션 층(어텐션 함수)\n",
    "attn_layer = AttentionLayer(name='attention_layer')\n",
    "# 인코더와 디코더의 모든 time step의 hidden state를 어텐션 층에 전달하고 결과를 리턴\n",
    "attn_out, attn_states = attn_layer([encoder_outputs, decoder_outputs])\n",
    "\n",
    "# 어텐션의 결과와 디코더의 hidden state들을 연결\n",
    "decoder_concat_input = Concatenate(axis=-1, name='concat_layer')([decoder_outputs, attn_out])\n",
    "\n",
    "# 디코더의 출력층\n",
    "decoder_softmax_layer = Dense(tar_vocab, activation='softmax')\n",
    "decoder_softmax_outputs = decoder_softmax_layer(decoder_concat_input)\n",
    "\n",
    "# 모델 정의\n",
    "model = Model([encoder_inputs, decoder_inputs], decoder_softmax_outputs)\n",
    "model.summary()"
   ]
  },
  {
   "cell_type": "code",
   "execution_count": 62,
   "id": "incorrect-formation",
   "metadata": {},
   "outputs": [
    {
     "name": "stdout",
     "output_type": "stream",
     "text": [
      "Epoch 1/50\n",
      "205/205 [==============================] - 130s 583ms/step - loss: 6.4457 - val_loss: 5.7275\n",
      "Epoch 2/50\n",
      "205/205 [==============================] - 119s 578ms/step - loss: 5.6628 - val_loss: 5.4842\n",
      "Epoch 3/50\n",
      "205/205 [==============================] - 119s 583ms/step - loss: 5.3470 - val_loss: 5.2524\n",
      "Epoch 4/50\n",
      "205/205 [==============================] - 118s 577ms/step - loss: 5.0625 - val_loss: 4.9555\n",
      "Epoch 5/50\n",
      "205/205 [==============================] - 119s 581ms/step - loss: 4.8153 - val_loss: 4.8354\n",
      "Epoch 6/50\n",
      "205/205 [==============================] - 119s 581ms/step - loss: 4.6090 - val_loss: 4.6741\n",
      "Epoch 7/50\n",
      "205/205 [==============================] - 120s 585ms/step - loss: 4.4246 - val_loss: 4.5991\n",
      "Epoch 8/50\n",
      "205/205 [==============================] - 120s 584ms/step - loss: 4.2806 - val_loss: 4.4946\n",
      "Epoch 9/50\n",
      "205/205 [==============================] - 119s 582ms/step - loss: 4.1300 - val_loss: 4.4251\n",
      "Epoch 10/50\n",
      "205/205 [==============================] - 119s 582ms/step - loss: 4.0063 - val_loss: 4.3360\n",
      "Epoch 11/50\n",
      "205/205 [==============================] - 120s 585ms/step - loss: 3.8891 - val_loss: 4.3030\n",
      "Epoch 12/50\n",
      "205/205 [==============================] - 119s 582ms/step - loss: 3.7841 - val_loss: 4.2591\n",
      "Epoch 13/50\n",
      "205/205 [==============================] - 119s 582ms/step - loss: 3.6872 - val_loss: 4.2157\n",
      "Epoch 14/50\n",
      "205/205 [==============================] - 120s 587ms/step - loss: 3.5929 - val_loss: 4.1602\n",
      "Epoch 15/50\n",
      "205/205 [==============================] - 119s 582ms/step - loss: 3.5117 - val_loss: 4.1607\n",
      "Epoch 16/50\n",
      "205/205 [==============================] - 120s 588ms/step - loss: 3.4270 - val_loss: 4.1461\n",
      "Epoch 17/50\n",
      "205/205 [==============================] - 119s 581ms/step - loss: 3.3560 - val_loss: 4.1150\n",
      "Epoch 18/50\n",
      "205/205 [==============================] - 120s 585ms/step - loss: 3.2781 - val_loss: 4.0912\n",
      "Epoch 19/50\n",
      "205/205 [==============================] - 120s 584ms/step - loss: 3.2180 - val_loss: 4.0977\n",
      "Epoch 20/50\n",
      "205/205 [==============================] - 121s 589ms/step - loss: 3.1549 - val_loss: 4.0655\n",
      "Epoch 21/50\n",
      "205/205 [==============================] - 120s 585ms/step - loss: 3.0912 - val_loss: 4.0529\n",
      "Epoch 22/50\n",
      "205/205 [==============================] - 120s 584ms/step - loss: 3.0362 - val_loss: 4.0615\n",
      "Epoch 23/50\n",
      "205/205 [==============================] - 121s 591ms/step - loss: 2.9752 - val_loss: 4.0573\n",
      "Epoch 00023: early stopping\n"
     ]
    }
   ],
   "source": [
    "model.compile(optimizer='rmsprop', loss='sparse_categorical_crossentropy')\n",
    "es = EarlyStopping(monitor='val_loss', patience=2, verbose=1)\n",
    "history = model.fit(x=[encoder_input_train, decoder_input_train], y=decoder_target_train, \\\n",
    "          validation_data=([encoder_input_test, decoder_input_test], decoder_target_test), \\\n",
    "          batch_size=256, callbacks=[es], epochs=50)"
   ]
  },
  {
   "cell_type": "code",
   "execution_count": 63,
   "id": "interstate-liquid",
   "metadata": {},
   "outputs": [
    {
     "data": {
      "image/png": "[encoded data removed]",
      "text/plain": [
       "<Figure size 432x288 with 1 Axes>"
      ]
     },
     "metadata": {
      "needs_background": "light"
     },
     "output_type": "display_data"
    }
   ],
   "source": [
    "#훈련 데이터의 손실과 검증 데이터의 손실이 줄어드는 과정을 시각화\n",
    "plt.plot(history.history['loss'], label='train')\n",
    "plt.plot(history.history['val_loss'], label='test')\n",
    "plt.legend()\n",
    "plt.show()"
   ]
  },
  {
   "cell_type": "code",
   "execution_count": 64,
   "id": "handmade-shelter",
   "metadata": {},
   "outputs": [],
   "source": [
    "##테스트 단계에서는 정수 인덱스 행렬로 존재하던 텍스트 데이터를 실제 데이터로 복원해야 하므로, 필요한 3개의 사전을 아래와 같이 미리 준비\n",
    "\n",
    "src_index_to_word = src_tokenizer.index_word # 원문 단어 집합에서 정수 -> 단어를 얻음\n",
    "tar_word_to_index = tar_tokenizer.word_index # 요약 단어 집합에서 단어 -> 정수를 얻음\n",
    "tar_index_to_word = tar_tokenizer.index_word # 요약 단어 집합에서 정수 -> 단어를 얻음"
   ]
  },
  {
   "cell_type": "code",
   "execution_count": 65,
   "id": "usual-thickness",
   "metadata": {},
   "outputs": [],
   "source": [
    "# 인코더 설계\n",
    "encoder_model = Model(inputs=encoder_inputs, outputs=[encoder_outputs, state_h, state_c])\n",
    "\n",
    "# 이전 시점의 상태들을 저장하는 텐서\n",
    "decoder_state_input_h = Input(shape=(hidden_size,))\n",
    "decoder_state_input_c = Input(shape=(hidden_size,))\n",
    "\n",
    "dec_emb2 = dec_emb_layer(decoder_inputs)\n",
    "\n",
    "# 문장의 다음 단어를 예측하기 위해서 초기 상태(initial_state)를 이전 시점의 상태로 사용. 이는 뒤의 함수 decode_sequence()에 구현\n",
    "# 훈련 과정에서와 달리 LSTM의 리턴하는 은닉 상태와 셀 상태인 state_h와 state_c를 버리지 않음.\n",
    "decoder_outputs2, state_h2, state_c2 = decoder_lstm(dec_emb2, initial_state=[decoder_state_input_h, decoder_state_input_c])"
   ]
  },
  {
   "cell_type": "code",
   "execution_count": 66,
   "id": "super-accent",
   "metadata": {},
   "outputs": [],
   "source": [
    "# 어텐션 함수\n",
    "decoder_hidden_state_input = Input(shape=(text_max_len, hidden_size))\n",
    "attn_out_inf, attn_states_inf = attn_layer([decoder_hidden_state_input, decoder_outputs2])\n",
    "decoder_inf_concat = Concatenate(axis=-1, name='concat')([decoder_outputs2, attn_out_inf])\n",
    "\n",
    "# 디코더의 출력층\n",
    "decoder_outputs2 = decoder_softmax_layer(decoder_inf_concat) \n",
    "\n",
    "# 최종 디코더 모델\n",
    "decoder_model = Model(\n",
    "    [decoder_inputs] + [decoder_hidden_state_input,decoder_state_input_h, decoder_state_input_c],\n",
    "    [decoder_outputs2] + [state_h2, state_c2])"
   ]
  },
  {
   "cell_type": "code",
   "execution_count": 67,
   "id": "outer-cabin",
   "metadata": {},
   "outputs": [],
   "source": [
    "def decode_sequence(input_seq):\n",
    "    # 입력으로부터 인코더의 상태를 얻음\n",
    "    e_out, e_h, e_c = encoder_model.predict(input_seq)\n",
    "\n",
    "     # <SOS>에 해당하는 토큰 생성\n",
    "    target_seq = np.zeros((1,1))\n",
    "    target_seq[0, 0] = tar_word_to_index['sostoken']\n",
    "\n",
    "    stop_condition = False\n",
    "    decoded_sentence = ''\n",
    "    while not stop_condition: # stop_condition이 True가 될 때까지 루프 반복\n",
    "\n",
    "        output_tokens, h, c = decoder_model.predict([target_seq] + [e_out, e_h, e_c])\n",
    "        sampled_token_index = np.argmax(output_tokens[0, -1, :])\n",
    "        sampled_token = tar_index_to_word[sampled_token_index]\n",
    "\n",
    "        if (sampled_token!='eostoken'):\n",
    "            decoded_sentence += ' '+sampled_token\n",
    "\n",
    "        #  <eos>에 도달하거나 최대 길이를 넘으면 중단.\n",
    "        if (sampled_token == 'eostoken'  or len(decoded_sentence.split()) >= (summary_max_len-1)):\n",
    "            stop_condition = True\n",
    "\n",
    "        # 길이가 1인 타겟 시퀀스를 업데이트\n",
    "        target_seq = np.zeros((1,1))\n",
    "        target_seq[0, 0] = sampled_token_index\n",
    "\n",
    "        # 상태를 업데이트 합니다.\n",
    "        e_h, e_c = h, c\n",
    "\n",
    "    return decoded_sentence"
   ]
  },
  {
   "cell_type": "markdown",
   "id": "hourly-costs",
   "metadata": {},
   "source": [
    "## 4. 모델 테스트하기\n"
   ]
  },
  {
   "cell_type": "code",
   "execution_count": 68,
   "id": "valid-portal",
   "metadata": {},
   "outputs": [],
   "source": [
    "# 원문의 정수 시퀀스를 텍스트 시퀀스로 변환\n",
    "def seq2text(input_seq):\n",
    "    temp=''\n",
    "    for i in input_seq:\n",
    "        if (i!=0):\n",
    "            temp = temp + src_index_to_word[i]+' '\n",
    "    return temp\n",
    "\n",
    "# 요약문의 정수 시퀀스를 텍스트 시퀀스로 변환\n",
    "def seq2summary(input_seq):\n",
    "    temp=''\n",
    "    for i in input_seq:\n",
    "        if ((i!=0 and i!=tar_word_to_index['sostoken']) and i!=tar_word_to_index['eostoken']):\n",
    "            temp = temp + tar_index_to_word[i] + ' '\n",
    "    return temp"
   ]
  },
  {
   "cell_type": "code",
   "execution_count": 69,
   "id": "functional-medicaid",
   "metadata": {},
   "outputs": [
    {
     "name": "stdout",
     "output_type": "stream",
     "text": [
      "원문 : nasa voyager spacecraft first ever man made object leave solar system reach interstellar space still data back earth years launch travelling kmph spacecraft detect fix problems also first discover lightning planet earth \n",
      "실제 요약 : man made object in space still working after yrs \n",
      "예측 요약 :  man st man to moon moon for moon\n",
      "\n",
      "\n",
      "원문 : south africa slammed runs five balls pink odi india record highest strike rate international innings surpassed windies dwayne smith scored strike rate bangladesh innings helped sa beat india stay alive series \n",
      "실제 요약 : player posts strike rate of most for balls innings \n",
      "예측 요약 :  what are the highest ever total total in\n",
      "\n",
      "\n",
      "원문 : farming dairy products small significant effect shape human skulls according us based study researchers studied skulls skull bones two dozen populations model change skull shape size humans moved chewing raw meat agriculture based foods even cheese \n",
      "실제 요약 : farming cheese chewing changed human skull shape study \n",
      "예측 요약 :  scientists create new of\n",
      "\n",
      "\n",
      "원문 : decline number indians seeking jobs us report released job search website indeed revealed number fallen indians looking jobs uk number indians settled uk looking jobs back india increased \n",
      "실제 요약 : decline in number of indians seeking work in us report \n",
      "예측 요약 :  indians report on us top visas report\n",
      "\n",
      "\n",
      "원문 : european union agreed begin second round brexit negotiations significant progress made first phase second phase deal transition period eu future trade relations britain uk reached deal eu exit terms bloc first phase \n",
      "실제 요약 : european union backs second phase of brexit talks \n",
      "예측 요약 :  eu to bring new european european steel in brexit\n",
      "\n",
      "\n",
      "원문 : french first lady macron aides filed legal complaint identity fraud used name seek vip treatments like best tables luxury hotels however one ever went hotels claim services investigation underway since clear attempt damage reputation per aide \n",
      "실제 요약 : identity thieves use french first lady name to seek \n",
      "예측 요약 :  canadian prez apologises for selling fake news\n",
      "\n",
      "\n",
      "원문 : several videos going viral social media show mob shouting throwing stones hurling abuses policemen uttar pradesh bulandshahr sho killed monday resident shot police attackers heard shouting following inspector seen lying ground \n",
      "실제 요약 : mob before killing up policeman \n",
      "예측 요약 :  doctor who attacked by policeman attacked by terrorists\n",
      "\n",
      "\n",
      "원문 : despite march avoid shut british antarctic station forced suspend operations second straight winter following concerns floating possible iceberg separation station discovered antarctic ozone hole sits metre thick ice shelf irregular intervals \n",
      "실제 요약 : antarctic ice crack shuts research station for second winter \n",
      "예측 요약 :  tourists in london to be auctioned\n",
      "\n",
      "\n",
      "원문 : year old german national stabbed robbed two men near gate delhi friday around pm returning chandni chowk rickshaw victim spotted bleeding locals rushed nearby hospital external affairs minister sushma swaraj ordered probe matter \n",
      "실제 요약 : german national stabbed and robbed by two men in delhi \n",
      "예측 요약 :  man who attacked with delhi police station\n",
      "\n",
      "\n",
      "원문 : arsenal midfielder mesut zil claimed instagram account hacked picture ex girlfriend posted account picture showed zil holding caption know messed always love zil later posted clarification twitter alongside picture current girlfriend \n",
      "실제 요약 : footballer claims account hack after post for ex girlfriend \n",
      "예측 요약 :  sharapova shares picture of lionel footballer\n",
      "\n",
      "\n",
      "원문 : around muslim demonstrators marched spanish city barcelona monday condemn terrorism comes spain hit twin terror attacks claimed lives people injured others last week also victims terrorism religion barcelona terrorism read demonstrators placards \n",
      "실제 요약 : muslims march against terrorism in barcelona \n",
      "예측 요약 :  uk mosque game of terror attack in us\n",
      "\n",
      "\n",
      "원문 : us monday opened first permanent military base israel middle desert base host us troops systems identify intercept various aerial threats message says israel better prepared message says israel improving response threats israeli officials said \n",
      "실제 요약 : us opens first permanent military base in israel \n",
      "예측 요약 :  us military military opens after isis in syria\n",
      "\n",
      "\n",
      "원문 : website called displays available single emoji domains list listed heart eyes emoji domain name lakh however chrome opera cannot display emoji address bar currently website lists domains top level domain \n",
      "실제 요약 : name with heart eyes emoji on sale for lakh \n",
      "예측 요약 :  oneplus named most expensive champion\n",
      "\n",
      "\n",
      "원문 : referring anti sikh riots congress president rahul gandhi said anybody regardless comes harmed members minority community punished added legal system make sure justice done allow justice system work \n",
      "실제 요약 : riot must be punished of identity rahul \n",
      "예측 요약 :  rss must be hindu hindu rahul gandhi\n",
      "\n",
      "\n",
      "원문 : investment bank credit suisse reaching minority shareholders investors snapdeal get board commerce platform sale rival flipkart comes wipro chairman azim premji family office investor snapdeal objected million payout proposed snapdeal co founders part snapdeal flipkart merger \n",
      "실제 요약 : credit snapdeal investors on flipkart sale \n",
      "예측 요약 :  snapdeal merger on flipkart merger talks\n",
      "\n",
      "\n",
      "원문 : rajasthan governor kalyan singh wrongly diagnosed swine flu went medical check government hospital diagnosis rushed delhi apollo hospital tested negative fresh tests conducted swine flu singh ordered high level probe faulty diagnosis government hospital \n",
      "실제 요약 : raj guv wrongly diagnosed with swine flu at govt hospital \n",
      "예측 요약 :  ec orders of hospital hospital in hospital hospital\n",
      "\n",
      "\n",
      "원문 : least people killed others injured thursday suicide attack news agency office neighbouring shia cultural centre afghanistan capital kabul officials said responsibility attack claimed yet least people killed attack shia mosque kabul october \n",
      "실제 요약 : killed injured in suicide attack in afghanistan \n",
      "예측 요약 :  killed injured in suicide attack in afghanistan\n",
      "\n",
      "\n",
      "원문 : year old army jawan booked allegedly raped impregnated minor girl andhra pradesh visakhapatnam promising marry jawan family reportedly refused accept victim proposal marriage offered money terminate pregnancy accused jawan hailed visakhapatnam posted kolkata currently absconding \n",
      "실제 요약 : army jawan booked for raping minor in andhra \n",
      "예측 요약 :  army jawan arrested for raping girl in bihar\n",
      "\n",
      "\n",
      "원문 : remaining closed four months due floods killed animals national park assam reopened tourists today assam forest minister rani said allowing tourists visit certain areas till repairs completed notably several roads used jeep yet repaired \n",
      "실제 요약 : reopens partially to tourists after flood damage \n",
      "예측 요약 :  jawans killed in assam floods in tn\n",
      "\n",
      "\n",
      "원문 : annual us report human trafficking placed india tier rating arguing fully meet minimum standards elimination trafficking acknowledging efforts claimed overall victim identification protection remained inadequate report said india source destination transit country forced labour sex trafficking \n",
      "실제 요약 : india lacks minimum standards to end human trafficking us \n",
      "예측 요약 :  us judge blocks us rights rights to stop\n",
      "\n",
      "\n",
      "원문 : brazil president michel temer ordered army federal police clear roads blocked truck drivers protesting rising fuel prices led rise prices food products markets ran supplies government agreed scrap fuel taxes reduce fuel prices month \n",
      "실제 요약 : brazil sends in army as protesting truck drivers block roads \n",
      "예측 요약 :  france to pay for food victims to protest\n",
      "\n",
      "\n",
      "원문 : old picture actress aishwarya rai bachchan commercial shot years ago shared online bollywood makeup artist mickey contractor one time favourites aishwarya wrote alongside photo mickey done aishwarya makeup several films including bollywood debut aur ho gaya \n",
      "실제 요약 : picture of aishwarya from old photoshoot shared online \n",
      "예측 요약 :  sonam kapoor shares picture of her son\n",
      "\n",
      "\n",
      "원문 : reacting reports priyanka chopra getting engaged rumoured boyfriend nick jonas actress kangana ranaut said upset tell kangana said priyanka close friend priyanka recently cited engagement reason quitting salman khan starrer bharat per film co producer nikhil \n",
      "실제 요약 : am upset priyanka did not tell me about engagement kangana \n",
      "예측 요약 :  priyanka nick to play priyanka in priyanka nick jonas\n",
      "\n",
      "\n",
      "원문 : according mumbai police actress chaudhary killed allegedly owed local drug dealer police arrested two people connection death said killed fit rage worked kangana ranaut starrer several balaji production tv shows \n",
      "실제 요약 : actress killed by drug dealers over payment police \n",
      "예측 요약 :  man who killed in delhi for suicide\n",
      "\n",
      "\n",
      "원문 : centre committed providing special package andhra pradesh waiting state mechanism receiving funds finance minister arun jaitley said special package equivalent special category state agreed upon state suggested changing mechanism receiving funds january added \n",
      "실제 요약 : govt waiting for andhra to reply on special package jaitley \n",
      "예측 요약 :  govt ministers to return of india deputy cm\n",
      "\n",
      "\n",
      "원문 : per reports singer beyonc planning give birth twins home turning hollywood mansion million private maternity ward mansion said medical equipment including incubators entire professional neonatal wing neighbour singer quoted saying privacy safety \n",
      "실제 요약 : beyonc to give birth at home instead of hospital reports \n",
      "예측 요약 :  kendall jenner sells for lakh\n",
      "\n",
      "\n",
      "원문 : kapil sharma wife ginni chatrath host second wedding reception december marriott mumbai couple got married december jalandhar hosted first wedding reception amritsar attended daler mehndi wedding attended kapil friends colleagues including krushna abhishek bharti singh \n",
      "실제 요약 : kapil to host their wedding reception on december \n",
      "예측 요약 :  kapil sharma wedding wedding at wedding reception\n",
      "\n",
      "\n",
      "원문 : unicef requested powerful graphics cards help mine cryptocurrency ethereum raise money syrian children organisation game program let participants install mining software website mined ethereum sent directly unicef account fund far raised total \n",
      "실제 요약 : unicef requests to mine ethereum for syrian children \n",
      "예측 요약 :  japan exchange bans crypto mining products\n",
      "\n",
      "\n",
      "원문 : two prisoners escaped maximum security jail colombian capital getting guard drunk convincing let go purchase alcohol authorities said guard reportedly alcohol refused undergo breath test meanwhile police currently looking prisoners \n",
      "실제 요약 : inmates get guard drunk and escape prison in colombia \n",
      "예측 요약 :  inmates escape from prison for stealing\n",
      "\n",
      "\n",
      "원문 : bengaluru traffic police tweeting posters like park wrong guest wrong tweets bengaluru city police traffic police said helmet head keep away hospital bed gonna drink drive crash party \n",
      "실제 요약 : park it wrong be our guest tweets bengaluru traffic police \n",
      "예측 요약 :  luru police station traffic police station\n",
      "\n",
      "\n",
      "원문 : release date arjun rampal starrer daddy biopic gangster turned politician arun gawli postponed july september gawli daughter geeta asked shift release arun currently prison expected released parole september co written rampal film directed \n",
      "실제 요약 : release shifted to with arun parole \n",
      "예측 요약 :  release date of shahid rampal starrer released\n",
      "\n",
      "\n",
      "원문 : woman travelling gujarat uttar pradesh via train gangraped allegedly people known met train victim journey later found unknown place raped later dumped near regional transport office unnao \n",
      "실제 요약 : woman gangraped after off during train journey to up \n",
      "예측 요약 :  woman gangraped by woman in kolkata\n",
      "\n",
      "\n",
      "원문 : nasa would sending first ever autonomous mars would travel agency mars rover describing mission challenges project manager said altitude record helicopter flight earth feet atmosphere mars earth hence mars surface would already earth equivalent feet altitude \n",
      "실제 요약 : nasa to fly st robot helicopter on mars in \n",
      "예측 요약 :  nasa mars mission to become st ever mars mission\n",
      "\n",
      "\n",
      "원문 : american baseball side new york fielder todd fooled umpire giving decision side favour showed fan replica ball claim catch dived stands take catch later lost ball instead took similar looking ball glove claim catch \n",
      "실제 요약 : baseball player replica ball to umpire about catch \n",
      "예측 요약 :  footballer who do not catch to referee\n",
      "\n",
      "\n",
      "원문 : world number one singles tennis player halep awarded honorary doctorate homeland romania proud honoured receive title doctor west university halep tweeted halep first grand slam beating final french open earlier year \n",
      "실제 요약 : world number one tennis player given honorary \n",
      "예측 요약 :  tennis player wins tennis title after years\n",
      "\n",
      "\n",
      "원문 : arsenal player trolled twitter om tattoo script back users claiming om users reacted tweets like got incorrect letters last letters mean dead body need fix getting bjp ticket \n",
      "실제 요약 : arsenal footballer trolled for wrong shiva tattoo \n",
      "예측 요약 :  malaika users troll for user trolled for her\n",
      "\n",
      "\n",
      "원문 : new drone footage showcasing lego house set open month hometown lego namely denmark released square metre lego house includes three restaurants four play areas lego store gallery displaying history lego building constructed resemble blocks \n",
      "실제 요약 : video of square metre lego house released \n",
      "예측 요약 :  mcdonald house found in mcdonald house in mcdonald\n",
      "\n",
      "\n",
      "원문 : former women doubles world number one sania mirza crashed french open partner slumped first round loss wednesday fourth seeded indo pair lost pair match spanned hours minutes \n",
      "실제 요약 : sania mirza out of french open after first round defeat \n",
      "예측 요약 :  world longest champ wins title\n",
      "\n",
      "\n",
      "원문 : follow answers questions asked data scandal testimony facebook claimed ceo mark zuckerberg aware british firm cambridge analytica may deleted users data march facebook earlier claimed analytica assured users data deleted analytica accused illegally harvesting data million users \n",
      "실제 요약 : mark did not know british firm data until fb \n",
      "예측 요약 :  zuckerberg zuckerberg zuckerberg quits zuckerberg data scandal\n",
      "\n",
      "\n",
      "원문 : many small big museums across india display hindutva based artefacts paintings heritage importance reserves basis new delhi national museum first country organise hindutva exhibition last week calendar taken ministry culture said \n",
      "실제 요약 : across india to show themed \n",
      "예측 요약 :  new york to get its first female\n",
      "\n",
      "\n",
      "원문 : actress richa chadha turned director yet titled short film starring boyfriend ali fazal project satirical comedy set commodities expensive world become beyond repair always wanted explore glad friends trusted came board said richa \n",
      "실제 요약 : richa turns director for boyfriend ali fazal short film \n",
      "예측 요약 :  sushant completes wood film on the film day\n",
      "\n",
      "\n",
      "원문 : indian origin man sentenced ten weeks prison molesting woman inside bus singapore incident took place may accused krishnan drunken state grabbed arm victim per reports citing personal problems drinking alcohol krishnan pleaded guilty charges molestation \n",
      "실제 요약 : indian origin man jailed for molesting woman in singapore \n",
      "예측 요약 :  indian origin man jailed for assaulting woman in\n",
      "\n",
      "\n",
      "원문 : indian railways added million passengers april november growth compared previous years reserved long distance category passenger categories taken together long distance reserved suburban local trains railways added million passengers year additional income crore \n",
      "실제 요약 : railways adds million passengers in months \n",
      "예측 요약 :  railways to spend crore to passenger in india\n",
      "\n",
      "\n",
      "원문 : least nine pilgrims travelling uttarakhand temple killed injured speeding truck rammed friday five injured reported critical condition treated nearby hospitals meanwhile police launched search operation truck driver fled spot \n",
      "실제 요약 : pilgrims going to khand temple die in accident \n",
      "예측 요약 :  injured as bus collides with truck in maharashtra\n",
      "\n",
      "\n",
      "원문 : archaeologists discovered remains swiss villagers dating back period around bc graves remnants houses uncovered site leading archaeologists believe village researchers hope array remains shed light poorly known period first farmers arrived switzerland italy \n",
      "실제 요약 : human remains found at site of year old swiss village \n",
      "예측 요약 :  year old discovered in\n",
      "\n",
      "\n",
      "원문 : us state secretary rex tillerson reportedly said way reset us russia relations clean relations time low however would take time lot hard work put us better relationship russia tillerson added \n",
      "실제 요약 : cannot start on clean with russia us state secy \n",
      "예측 요약 :  us will not be russia us warns us\n",
      "\n",
      "\n",
      "원문 : bengaluru garbage contractors called strike pending service tax tuesday bruhat bengaluru mahanagara palike said would bear tax arrears contractors alleged bbmp paid service tax amounting crore april june bbmp maintained disposal contracts exempted tax \n",
      "실제 요약 : luru garbage contractors call off strike over service tax \n",
      "예측 요약 :  mumbai civic body to get tax tax evasion\n",
      "\n",
      "\n",
      "원문 : telugu desam party mp reddy allegedly created ruckus visakhapatnam airport denied boarding pass arrived late reddy allegedly abused indigo flight staff threw printer vandalised airport property notably earlier caught camera misbehaving airport staff missing flight \n",
      "실제 요약 : mp denied boarding pass for late creates \n",
      "예측 요약 :  mp mp mp gets married to apologise for woman\n",
      "\n",
      "\n",
      "원문 : almost lakh lakh students enrolled classes delhi government schools received money supposed get writing material uniform government said payments delayed many students aadhaar bank accounts students linked two \n",
      "실제 요약 : delhi school kids do not have uniform writing material \n",
      "예측 요약 :  lakh students in delhi university fined lakh\n",
      "\n",
      "\n",
      "원문 : aviation regulator dgca issued advisory stating airlines make flight announcements local language extent announcements local language would addition ones made hindi english according advisory regulator also said pilots make flight announcements important monuments sites en route flight \n",
      "실제 요약 : airlines asked to make in flight announcement in local language \n",
      "예측 요약 :  indigo to get indigo passenger for indigo\n",
      "\n",
      "\n"
     ]
    }
   ],
   "source": [
    "for i in range(50, 100):\n",
    "    print(\"원문 :\", seq2text(encoder_input_test[i]))\n",
    "    print(\"실제 요약 :\", seq2summary(decoder_input_test[i]))\n",
    "    print(\"예측 요약 :\", decode_sequence(encoder_input_test[i].reshape(1, text_max_len)))\n",
    "    print(\"\\n\")"
   ]
  },
  {
   "cell_type": "markdown",
   "id": "fuzzy-journey",
   "metadata": {},
   "source": [
    "## 5. 추출적(Extractive Summarization) 요약 해보기\n",
    "첫 번째 방식인 추출적 요약은 단어 그대로 원문에서 문장들을 추출해서 요약하는 방식"
   ]
  },
  {
   "cell_type": "code",
   "execution_count": 70,
   "id": "enormous-rhythm",
   "metadata": {},
   "outputs": [],
   "source": [
    "import requests\n",
    "from summa.summarizer import summarize"
   ]
  },
  {
   "cell_type": "code",
   "execution_count": 71,
   "id": "revolutionary-secret",
   "metadata": {},
   "outputs": [],
   "source": [
    "#매트릭스 시놉시스 다운\n",
    "text = requests.get('http://rare-technologies.com/the_matrix_synopsis.txt').text"
   ]
  },
  {
   "cell_type": "code",
   "execution_count": 72,
   "id": "equivalent-citation",
   "metadata": {},
   "outputs": [
    {
     "name": "stdout",
     "output_type": "stream",
     "text": [
      "The screen is filled with green, cascading code which gives way to the title, The Matrix.\r\n",
      "\r\n",
      "A phone rings and text appears on the screen: \"Call trans opt: received. 2-19-98 13:24:18 REC: Log>\" As a conversation takes place between Trinity (Carrie-Anne Moss) and Cypher (Joe Pantoliano), two free humans, a table of random green numbers are being scanned and individual numbers selected, creating a series of digits not unlike an ordinary phone number, as if a code is being deciphered or a call is being traced.\r\n",
      "\r\n",
      "Trinity discusses some unknown person. Cypher taunts Trinity, suggesting she enjoys watching him. Trinity counters that \"Morpheus (Laurence Fishburne) says he may be 'the One',\" just as the sound of a number being selected alerts Trinity that someone may be tracing their call. She ends the call.\r\n",
      "\r\n",
      "Armed policemen move down a darkened, decrepit hallway in the Heart O' the City Hotel, their flashlight beam bouncing just ahead of them. They come to room 303, kick down the door and find a woman dressed in black, facing away from them. It's Trinity. She brings her hands up from the laptop she's working on at their command.\r\n",
      "\r\n",
      "Outside the hotel a car drives up and three agents appear in neatly pressed black suits. They are Agent Smith (Hugo Weaving), Agent Brown (Paul Goddard), and Agent Jones (Robert Taylor). Agent Smith and the presiding police lieutenant argue. Agent Smith admonishes the policeman that they were given specific orders to contact the agents first, for their\n"
     ]
    }
   ],
   "source": [
    "print(text[:1500])"
   ]
  },
  {
   "cell_type": "code",
   "execution_count": 73,
   "id": "australian-region",
   "metadata": {},
   "outputs": [
    {
     "name": "stdout",
     "output_type": "stream",
     "text": [
      "Summary:\n",
      "Morpheus, Trinity, Neo, Apoc, Switch, Mouse and Cypher are jacked into the Matrix.\n",
      "Trinity brings the helicopter down to the floor that Morpheus is on and Neo opens fire on the three Agents.\n"
     ]
    }
   ],
   "source": [
    "#summarize 사용\n",
    "print('Summary:')\n",
    "print(summarize(text, ratio=0.005))"
   ]
  },
  {
   "cell_type": "code",
   "execution_count": 74,
   "id": "compound-photographer",
   "metadata": {},
   "outputs": [
    {
     "name": "stdout",
     "output_type": "stream",
     "text": [
      "Summary:\n",
      "['Morpheus, Trinity, Neo, Apoc, Switch, Mouse and Cypher are jacked into the Matrix.', 'Trinity brings the helicopter down to the floor that Morpheus is on and Neo opens fire on the three Agents.']\n"
     ]
    }
   ],
   "source": [
    "print('Summary:')\n",
    "print(summarize(text, ratio=0.005, split=True))"
   ]
  },
  {
   "cell_type": "code",
   "execution_count": 75,
   "id": "rental-scale",
   "metadata": {},
   "outputs": [
    {
     "name": "stdout",
     "output_type": "stream",
     "text": [
      "Summary:\n",
      "Trinity takes Neo to Morpheus.\n",
      "Morpheus, Trinity, Neo, Apoc, Switch, Mouse and Cypher are jacked into the Matrix.\n",
      "Trinity brings the helicopter down to the floor that Morpheus is on and Neo opens fire on the three Agents.\n"
     ]
    }
   ],
   "source": [
    "print('Summary:')\n",
    "print(summarize(text, words=50))"
   ]
  },
  {
   "cell_type": "code",
   "execution_count": null,
   "id": "criminal-parade",
   "metadata": {},
   "outputs": [],
   "source": []
  }
 ],
 "metadata": {
  "kernelspec": {
   "display_name": "Python 3",
   "language": "python",
   "name": "python3"
  },
  "language_info": {
   "codemirror_mode": {
    "name": "ipython",
    "version": 3
   },
   "file_extension": ".py",
   "mimetype": "text/x-python",
   "name": "python",
   "nbconvert_exporter": "python",
   "pygments_lexer": "ipython3",
   "version": "3.7.9"
  }
 },
 "nbformat": 4,
 "nbformat_minor": 5
}
