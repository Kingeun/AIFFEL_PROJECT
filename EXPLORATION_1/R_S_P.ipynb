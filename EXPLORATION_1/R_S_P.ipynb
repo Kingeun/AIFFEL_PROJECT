{
 "cells": [
  {
   "cell_type": "markdown",
   "id": "applicable-academy",
   "metadata": {},
   "source": [
    "# EXPLORATION1\n",
    "## 인공지능과 가위바위보 하기\n",
    "### 가위바위보 분류기를 만들자"
   ]
  },
  {
   "cell_type": "code",
   "execution_count": 259,
   "id": "identical-toyota",
   "metadata": {},
   "outputs": [],
   "source": [
    "import tensorflow as tf\n",
    "from tensorflow import keras\n",
    "import numpy as np\n",
    "import matplotlib.pyplot as plt\n",
    "from PIL import Image\n",
    "import os, glob"
   ]
  },
  {
   "cell_type": "markdown",
   "id": "beneficial-government",
   "metadata": {},
   "source": [
    "## 1. 데이터 준비하기\n",
    "1-1 데이터 불러오기                                                                  \n",
    "1-2 데이터 Resize하기                                                                  \n",
    "1-3 클래스 라벨링 하기(가위:0/바위:1/보:2)"
   ]
  },
  {
   "cell_type": "code",
   "execution_count": 260,
   "id": "south-connecticut",
   "metadata": {},
   "outputs": [],
   "source": [
    "def resize_images(img_path):\n",
    "    images=glob.glob(img_path + \"/*.jpg\")  \n",
    "    \n",
    "    print(len(images), \" images to be resized.\")\n",
    "\n",
    "    target_size=(28,28)\n",
    "    for img in images:\n",
    "        old_img=Image.open(img)\n",
    "        new_img=old_img.resize(target_size,Image.ANTIALIAS)\n",
    "        new_img.save(img, \"JPEG\")\n",
    "    \n",
    "    print(len(images), \" images resized.\")"
   ]
  },
  {
   "cell_type": "code",
   "execution_count": 261,
   "id": "acoustic-building",
   "metadata": {},
   "outputs": [
    {
     "name": "stdout",
     "output_type": "stream",
     "text": [
      "1229  images to be resized.\n",
      "1229  images resized.\n",
      "가위 이미지 resize 완료!\n"
     ]
    }
   ],
   "source": [
    "image_dir_path = os.getenv(\"HOME\") + \"/aiffel/AIFFEL_PROJECT/EXPLORATION_1/rock_scissor_paper/train/train_scissor\"\n",
    "resize_images(image_dir_path)\n",
    "\n",
    "print(\"가위 이미지 resize 완료!\")"
   ]
  },
  {
   "cell_type": "code",
   "execution_count": 262,
   "id": "amateur-introduction",
   "metadata": {},
   "outputs": [
    {
     "name": "stdout",
     "output_type": "stream",
     "text": [
      "1213  images to be resized.\n",
      "1213  images resized.\n",
      "바위 이미지 resize 완료!\n"
     ]
    }
   ],
   "source": [
    "image_dir_path = os.getenv(\"HOME\") + \"/aiffel/AIFFEL_PROJECT/EXPLORATION_1/rock_scissor_paper/train/train_rock\"\n",
    "resize_images(image_dir_path)\n",
    "\n",
    "print(\"바위 이미지 resize 완료!\")"
   ]
  },
  {
   "cell_type": "code",
   "execution_count": 263,
   "id": "natural-guarantee",
   "metadata": {},
   "outputs": [
    {
     "name": "stdout",
     "output_type": "stream",
     "text": [
      "1224  images to be resized.\n",
      "1224  images resized.\n",
      "보 이미지 resize 완료!\n"
     ]
    }
   ],
   "source": [
    "image_dir_path = os.getenv(\"HOME\") + \"/aiffel/AIFFEL_PROJECT/EXPLORATION_1/rock_scissor_paper/train/train_paper\"\n",
    "resize_images(image_dir_path)\n",
    "\n",
    "print(\"보 이미지 resize 완료!\")"
   ]
  },
  {
   "cell_type": "code",
   "execution_count": 264,
   "id": "legendary-alberta",
   "metadata": {},
   "outputs": [
    {
     "name": "stdout",
     "output_type": "stream",
     "text": [
      "train_data 의 이미지 개수는 3666 입니다.\n",
      "x_train shape: (3666, 28, 28, 3)\n",
      "y_train shape: (3666,)\n"
     ]
    }
   ],
   "source": [
    "def load_data(img_path, number_of_data=3666): \n",
    "    # 가위바위보 이미지 개수 총합에 주의하세요.\n",
    "    # 가위 : 0, 바위 : 1, 보 : 2\n",
    "    img_size=28\n",
    "    color=3\n",
    "    #이미지 데이터와 라벨(가위 : 0, 바위 : 1, 보 : 2) 데이터를 담을 행렬(matrix) 영역을 생성합니다.\n",
    "    imgs=np.zeros(number_of_data*img_size*img_size*color,dtype=np.int32).reshape(number_of_data,img_size,img_size,color)\n",
    "    labels=np.zeros(number_of_data,dtype=np.int32)\n",
    "\n",
    "    idx=0\n",
    "    for file in glob.iglob(img_path+'/train_scissor/*.jpg'):\n",
    "        img = np.array(Image.open(file),dtype=np.int32)\n",
    "        imgs[idx,:,:,:]=img    # 데이터 영역에 이미지 행렬을 복사\n",
    "        labels[idx]=0   # 가위 : 0\n",
    "        idx=idx+1\n",
    "\n",
    "    for file in glob.iglob(img_path+'/train_rock/*.jpg'):\n",
    "        img = np.array(Image.open(file),dtype=np.int32)\n",
    "        imgs[idx,:,:,:]=img    # 데이터 영역에 이미지 행렬을 복사\n",
    "        labels[idx]=1   # 바위 : 1\n",
    "        idx=idx+1  \n",
    "    \n",
    "    for file in glob.iglob(img_path+'/train_paper/*.jpg'):\n",
    "        img = np.array(Image.open(file),dtype=np.int32)\n",
    "        imgs[idx,:,:,:]=img    # 데이터 영역에 이미지 행렬을 복사\n",
    "        labels[idx]=2   # 보 : 2\n",
    "        idx=idx+1\n",
    "        \n",
    "    print(\"train_data 의 이미지 개수는\", idx,\"입니다.\")\n",
    "    return imgs, labels\n",
    "\n",
    "image_dir_path = os.getenv(\"HOME\") + \"/aiffel/AIFFEL_PROJECT/EXPLORATION_1/rock_scissor_paper/train\"\n",
    "(x_train, y_train)=load_data(image_dir_path)\n",
    "x_train_norm = x_train/255.0   # 입력은 0~1 사이의 값으로 정규화\n",
    "\n",
    "print(\"x_train shape: {}\".format(x_train.shape))\n",
    "print(\"y_train shape: {}\".format(y_train.shape))"
   ]
  },
  {
   "cell_type": "code",
   "execution_count": 265,
   "id": "endangered-deficit",
   "metadata": {},
   "outputs": [
    {
     "name": "stdout",
     "output_type": "stream",
     "text": [
      "라벨:  0\n"
     ]
    },
    {
     "data": {
      "image/png": "[encoded data removed]",
      "text/plain": [
       "<Figure size 432x288 with 1 Axes>"
      ]
     },
     "metadata": {
      "needs_background": "light"
     },
     "output_type": "display_data"
    }
   ],
   "source": [
    "plt.imshow(x_train[0])\n",
    "print('라벨: ', y_train[0])"
   ]
  },
  {
   "cell_type": "code",
   "execution_count": 266,
   "id": "improving-gospel",
   "metadata": {},
   "outputs": [
    {
     "name": "stdout",
     "output_type": "stream",
     "text": [
      "(3666, 28, 28, 3)\n"
     ]
    }
   ],
   "source": [
    "print(x_train_norm.shape)"
   ]
  },
  {
   "cell_type": "code",
   "execution_count": 267,
   "id": "smoking-volunteer",
   "metadata": {},
   "outputs": [
    {
     "name": "stdout",
     "output_type": "stream",
     "text": [
      "(3666, 28, 28, 3)\n"
     ]
    }
   ],
   "source": [
    "x_train_reshaped=x_train_norm.reshape(-1,28, 28, 3)\n",
    "print(x_train_reshaped.shape)"
   ]
  },
  {
   "cell_type": "markdown",
   "id": "perfect-trade",
   "metadata": {},
   "source": [
    "## 2. 딥러닝 네트워크 설계하기\n",
    "2-1 Sequential Model을 사용하여 model 만들기                                      \n",
    "2-2 model.summary() 메소드를 이용하여 딥러닝 네트워크 모델 확인"
   ]
  },
  {
   "cell_type": "code",
   "execution_count": 268,
   "id": "boxed-restaurant",
   "metadata": {},
   "outputs": [
    {
     "name": "stdout",
     "output_type": "stream",
     "text": [
      "Model에 추가된 Layer 개수:  7\n",
      "Model: \"sequential_11\"\n",
      "_________________________________________________________________\n",
      "Layer (type)                 Output Shape              Param #   \n",
      "=================================================================\n",
      "conv2d_21 (Conv2D)           (None, 26, 26, 40)        1120      \n",
      "_________________________________________________________________\n",
      "max_pooling2d_21 (MaxPooling (None, 13, 13, 40)        0         \n",
      "_________________________________________________________________\n",
      "conv2d_22 (Conv2D)           (None, 11, 11, 80)        28880     \n",
      "_________________________________________________________________\n",
      "max_pooling2d_22 (MaxPooling (None, 5, 5, 80)          0         \n",
      "_________________________________________________________________\n",
      "flatten_10 (Flatten)         (None, 2000)              0         \n",
      "_________________________________________________________________\n",
      "dense_20 (Dense)             (None, 64)                128064    \n",
      "_________________________________________________________________\n",
      "dense_21 (Dense)             (None, 3)                 195       \n",
      "=================================================================\n",
      "Total params: 158,259\n",
      "Trainable params: 158,259\n",
      "Non-trainable params: 0\n",
      "_________________________________________________________________\n"
     ]
    }
   ],
   "source": [
    "n_channel_1=40\n",
    "n_channel_2=80\n",
    "n_dense=64\n",
    "n_train_epoch=3\n",
    "\n",
    "model=keras.models.Sequential()\n",
    "model.add(keras.layers.Conv2D(n_channel_1, (3,3), activation='relu', input_shape=(28,28,3)))\n",
    "model.add(keras.layers.MaxPool2D(2,2))\n",
    "model.add(keras.layers.Conv2D(n_channel_2, (3,3), activation='relu'))\n",
    "model.add(keras.layers.MaxPooling2D((2,2)))\n",
    "model.add(keras.layers.Flatten())\n",
    "model.add(keras.layers.Dense(n_dense, activation='relu'))\n",
    "model.add(keras.layers.Dense(n_train_epoch, activation='softmax'))\n",
    "print('Model에 추가된 Layer 개수: ', len(model.layers))\n",
    "model.summary()\n"
   ]
  },
  {
   "cell_type": "markdown",
   "id": "romantic-marathon",
   "metadata": {},
   "source": [
    "## 3. 딥러닝 네트워크 학습시키기\n",
    "3-1 model.compile()과 model.fit()을 사용                                         \n",
    "3-2 accuracy 확인"
   ]
  },
  {
   "cell_type": "code",
   "execution_count": 269,
   "id": "sophisticated-suggestion",
   "metadata": {},
   "outputs": [
    {
     "name": "stdout",
     "output_type": "stream",
     "text": [
      "Epoch 1/30\n",
      "115/115 [==============================] - 1s 5ms/step - loss: 1.0736 - accuracy: 0.4187\n",
      "Epoch 2/30\n",
      "115/115 [==============================] - 1s 5ms/step - loss: 0.6971 - accuracy: 0.6537\n",
      "Epoch 3/30\n",
      "115/115 [==============================] - 1s 4ms/step - loss: 0.5385 - accuracy: 0.7807\n",
      "Epoch 4/30\n",
      "115/115 [==============================] - 1s 4ms/step - loss: 0.4592 - accuracy: 0.8082\n",
      "Epoch 5/30\n",
      "115/115 [==============================] - 0s 4ms/step - loss: 0.3659 - accuracy: 0.8491\n",
      "Epoch 6/30\n",
      "115/115 [==============================] - 0s 4ms/step - loss: 0.3131 - accuracy: 0.8830\n",
      "Epoch 7/30\n",
      "115/115 [==============================] - 0s 4ms/step - loss: 0.2615 - accuracy: 0.9095\n",
      "Epoch 8/30\n",
      "115/115 [==============================] - 0s 4ms/step - loss: 0.2219 - accuracy: 0.9197\n",
      "Epoch 9/30\n",
      "115/115 [==============================] - 0s 4ms/step - loss: 0.2110 - accuracy: 0.9153\n",
      "Epoch 10/30\n",
      "115/115 [==============================] - 0s 4ms/step - loss: 0.1853 - accuracy: 0.9278\n",
      "Epoch 11/30\n",
      "115/115 [==============================] - 0s 4ms/step - loss: 0.1653 - accuracy: 0.9358\n",
      "Epoch 12/30\n",
      "115/115 [==============================] - 0s 4ms/step - loss: 0.1407 - accuracy: 0.9500\n",
      "Epoch 13/30\n",
      "115/115 [==============================] - 0s 4ms/step - loss: 0.1268 - accuracy: 0.9552\n",
      "Epoch 14/30\n",
      "115/115 [==============================] - 0s 4ms/step - loss: 0.1068 - accuracy: 0.9659\n",
      "Epoch 15/30\n",
      "115/115 [==============================] - 0s 4ms/step - loss: 0.1127 - accuracy: 0.9581\n",
      "Epoch 16/30\n",
      "115/115 [==============================] - 0s 4ms/step - loss: 0.1035 - accuracy: 0.9601\n",
      "Epoch 17/30\n",
      "115/115 [==============================] - 0s 4ms/step - loss: 0.0995 - accuracy: 0.9629\n",
      "Epoch 18/30\n",
      "115/115 [==============================] - 0s 4ms/step - loss: 0.0800 - accuracy: 0.9748\n",
      "Epoch 19/30\n",
      "115/115 [==============================] - 0s 4ms/step - loss: 0.0818 - accuracy: 0.9744\n",
      "Epoch 20/30\n",
      "115/115 [==============================] - 0s 4ms/step - loss: 0.0666 - accuracy: 0.9806\n",
      "Epoch 21/30\n",
      "115/115 [==============================] - 0s 4ms/step - loss: 0.0596 - accuracy: 0.9826\n",
      "Epoch 22/30\n",
      "115/115 [==============================] - 0s 4ms/step - loss: 0.0491 - accuracy: 0.9844\n",
      "Epoch 23/30\n",
      "115/115 [==============================] - 0s 4ms/step - loss: 0.0520 - accuracy: 0.9849\n",
      "Epoch 24/30\n",
      "115/115 [==============================] - 0s 4ms/step - loss: 0.0392 - accuracy: 0.9861\n",
      "Epoch 25/30\n",
      "115/115 [==============================] - 0s 4ms/step - loss: 0.0372 - accuracy: 0.9907\n",
      "Epoch 26/30\n",
      "115/115 [==============================] - 0s 4ms/step - loss: 0.0513 - accuracy: 0.9817\n",
      "Epoch 27/30\n",
      "115/115 [==============================] - 0s 4ms/step - loss: 0.0413 - accuracy: 0.9861\n",
      "Epoch 28/30\n",
      "115/115 [==============================] - 0s 4ms/step - loss: 0.0316 - accuracy: 0.9907\n",
      "Epoch 29/30\n",
      "115/115 [==============================] - 0s 4ms/step - loss: 0.0220 - accuracy: 0.9939\n",
      "Epoch 30/30\n",
      "115/115 [==============================] - 0s 4ms/step - loss: 0.0247 - accuracy: 0.9944\n"
     ]
    },
    {
     "data": {
      "text/plain": [
       "<tensorflow.python.keras.callbacks.History at 0x7f78dc0c2410>"
      ]
     },
     "execution_count": 269,
     "metadata": {},
     "output_type": "execute_result"
    }
   ],
   "source": [
    "##딥러닝 네트워크 학습시키기\n",
    "model.compile(optimizer='adam',\n",
    "             loss='sparse_categorical_crossentropy',\n",
    "             metrics=['accuracy'])\n",
    "\n",
    "model.fit(x_train_reshaped, y_train, epochs=30)"
   ]
  },
  {
   "cell_type": "markdown",
   "id": "protected-buddy",
   "metadata": {},
   "source": [
    "## 4. 테스트 데이터로 성능 확인하기\n",
    "4-1 x_test 데이터 만들기                                                                  \n",
    "4-2 model.evaluate() 로 accuracy 확인"
   ]
  },
  {
   "cell_type": "code",
   "execution_count": 270,
   "id": "turkish-welsh",
   "metadata": {},
   "outputs": [
    {
     "name": "stdout",
     "output_type": "stream",
     "text": [
      "111  images to be resized.\n",
      "111  images resized.\n",
      "가위 이미지 resize 완료!\n"
     ]
    }
   ],
   "source": [
    "test_img_path = os.getenv(\"HOME\") + \"/aiffel/AIFFEL_PROJECT/EXPLORATION_1/rock_scissor_paper/test/scissor\"\n",
    "resize_images(test_img_path)\n",
    "\n",
    "print(\"가위 이미지 resize 완료!\")"
   ]
  },
  {
   "cell_type": "code",
   "execution_count": 271,
   "id": "victorian-contest",
   "metadata": {},
   "outputs": [
    {
     "name": "stdout",
     "output_type": "stream",
     "text": [
      "122  images to be resized.\n",
      "122  images resized.\n",
      "바위 이미지 resize 완료!\n"
     ]
    }
   ],
   "source": [
    "test_img_path = os.getenv(\"HOME\") + \"/aiffel/AIFFEL_PROJECT/EXPLORATION_1/rock_scissor_paper/test/rock\"\n",
    "resize_images(test_img_path)\n",
    "\n",
    "print(\"바위 이미지 resize 완료!\")"
   ]
  },
  {
   "cell_type": "code",
   "execution_count": 272,
   "id": "composed-carolina",
   "metadata": {},
   "outputs": [
    {
     "name": "stdout",
     "output_type": "stream",
     "text": [
      "117  images to be resized.\n",
      "117  images resized.\n",
      "보 이미지 resize 완료!\n"
     ]
    }
   ],
   "source": [
    "test_img_path = os.getenv(\"HOME\") + \"/aiffel/AIFFEL_PROJECT/EXPLORATION_1/rock_scissor_paper/test/paper\"\n",
    "resize_images(test_img_path)\n",
    "\n",
    "print(\"보 이미지 resize 완료!\")"
   ]
  },
  {
   "cell_type": "code",
   "execution_count": 273,
   "id": "changed-button",
   "metadata": {},
   "outputs": [
    {
     "name": "stdout",
     "output_type": "stream",
     "text": [
      "test_data 의 이미지 개수는 350 입니다.\n",
      "x_test shape: (350, 28, 28, 3)\n",
      "y_test shape: (350,)\n"
     ]
    }
   ],
   "source": [
    "def load_data(test_img_path, number_of_data=350): \n",
    "    # 가위바위보 이미지 개수 총합에 주의하세요.\n",
    "    # 가위 : 0, 바위 : 1, 보 : 2\n",
    "    img_size=28\n",
    "    color=3\n",
    "    #이미지 데이터와 라벨(가위 : 0, 바위 : 1, 보 : 2) 데이터를 담을 행렬(matrix) 영역을 생성합니다.\n",
    "    imgs=np.zeros(number_of_data*img_size*img_size*color,dtype=np.int32).reshape(number_of_data,img_size,img_size,color)\n",
    "    labels=np.zeros(number_of_data,dtype=np.int32)\n",
    "\n",
    "    idx=0\n",
    "    for file in glob.iglob(test_img_path+'/scissor/*.jpg'):\n",
    "        img = np.array(Image.open(file),dtype=np.int32)\n",
    "        imgs[idx,:,:,:]=img    # 데이터 영역에 이미지 행렬을 복사\n",
    "        labels[idx]=0   # 가위 : 0\n",
    "        idx=idx+1\n",
    "\n",
    "    for file in glob.iglob(test_img_path+'/rock/*.jpg'):\n",
    "        img = np.array(Image.open(file),dtype=np.int32)\n",
    "        imgs[idx,:,:,:]=img    # 데이터 영역에 이미지 행렬을 복사\n",
    "        labels[idx]=1   # 바위 : 1\n",
    "        idx=idx+1  \n",
    "    \n",
    "    for file in glob.iglob(test_img_path+'/paper/*.jpg'):\n",
    "        img = np.array(Image.open(file),dtype=np.int32)\n",
    "        imgs[idx,:,:,:]=img    # 데이터 영역에 이미지 행렬을 복사\n",
    "        labels[idx]=2   # 보 : 2\n",
    "        idx=idx+1\n",
    "        \n",
    "    print(\"test_data 의 이미지 개수는\", idx,\"입니다.\")\n",
    "    return imgs, labels\n",
    "\n",
    "test_img_path = os.getenv(\"HOME\") + \"/aiffel/AIFFEL_PROJECT/EXPLORATION_1/rock_scissor_paper/test\"\n",
    "(x_test, y_test)=load_data(test_img_path,350)\n",
    "x_test_norm = x_test/255 # 입력은 0~1 사이의 값으로 정규화\n",
    "\n",
    "print(\"x_test shape: {}\".format(x_test.shape))\n",
    "print(\"y_test shape: {}\".format(y_test.shape))"
   ]
  },
  {
   "cell_type": "code",
   "execution_count": 274,
   "id": "blond-discretion",
   "metadata": {},
   "outputs": [
    {
     "name": "stdout",
     "output_type": "stream",
     "text": [
      "11/11 - 0s - loss: 5308.2891 - accuracy: 0.3486\n",
      "test_loss: 5308.2890625 \n",
      "test_accuracy: 0.34857141971588135\n"
     ]
    }
   ],
   "source": [
    "test_loss, test_accuracy = model.evaluate(x_test, y_test, verbose=2)\n",
    "print(\"test_loss: {} \".format(test_loss))\n",
    "print(\"test_accuracy: {}\".format(test_accuracy))"
   ]
  },
  {
   "cell_type": "markdown",
   "id": "representative-mayor",
   "metadata": {},
   "source": [
    "## 5. 예측\n",
    "5-1 model.predict()를 사용하여 model이 입력값을 보고 실제로 추론한 확률분포를 출력"
   ]
  },
  {
   "cell_type": "code",
   "execution_count": 275,
   "id": "demographic-consortium",
   "metadata": {},
   "outputs": [
    {
     "name": "stdout",
     "output_type": "stream",
     "text": [
      "model.predict() 결과 :  [0. 1. 0.]\n",
      "model이 추론한 가장 가능성이 높은 결과 :  1\n",
      "실제 데이터의 라벨 :  0\n"
     ]
    }
   ],
   "source": [
    "predicted_result = model.predict(x_test)  # model이 추론한 확률값. \n",
    "predicted_labels = np.argmax(predicted_result, axis=1)\n",
    "\n",
    "idx=0  \n",
    "print('model.predict() 결과 : ', predicted_result[idx])\n",
    "print('model이 추론한 가장 가능성이 높은 결과 : ', predicted_labels[idx])\n",
    "print('실제 데이터의 라벨 : ', y_test[idx])"
   ]
  },
  {
   "cell_type": "code",
   "execution_count": 276,
   "id": "equal-multimedia",
   "metadata": {},
   "outputs": [
    {
     "name": "stdout",
     "output_type": "stream",
     "text": [
      "예측확률분포: [0. 1. 0.]\n",
      "라벨: 2, 예측결과: 1\n"
     ]
    },
    {
     "data": {
      "image/png": "[encoded data removed]",
      "text/plain": [
       "<Figure size 432x288 with 1 Axes>"
      ]
     },
     "metadata": {
      "needs_background": "light"
     },
     "output_type": "display_data"
    },
    {
     "name": "stdout",
     "output_type": "stream",
     "text": [
      "예측확률분포: [0. 1. 0.]\n",
      "라벨: 0, 예측결과: 1\n"
     ]
    },
    {
     "data": {
      "image/png": "[encoded data removed]",
      "text/plain": [
       "<Figure size 432x288 with 1 Axes>"
      ]
     },
     "metadata": {
      "needs_background": "light"
     },
     "output_type": "display_data"
    },
    {
     "name": "stdout",
     "output_type": "stream",
     "text": [
      "예측확률분포: [0. 1. 0.]\n",
      "라벨: 0, 예측결과: 1\n"
     ]
    },
    {
     "data": {
      "image/png": "[encoded data removed]",
      "text/plain": [
       "<Figure size 432x288 with 1 Axes>"
      ]
     },
     "metadata": {
      "needs_background": "light"
     },
     "output_type": "display_data"
    },
    {
     "name": "stdout",
     "output_type": "stream",
     "text": [
      "예측확률분포: [0. 1. 0.]\n",
      "라벨: 2, 예측결과: 1\n"
     ]
    },
    {
     "data": {
      "image/png": "[encoded data removed]",
      "text/plain": [
       "<Figure size 432x288 with 1 Axes>"
      ]
     },
     "metadata": {
      "needs_background": "light"
     },
     "output_type": "display_data"
    },
    {
     "name": "stdout",
     "output_type": "stream",
     "text": [
      "예측확률분포: [0. 1. 0.]\n",
      "라벨: 0, 예측결과: 1\n"
     ]
    },
    {
     "data": {
      "image/png": "[encoded data removed]",
      "text/plain": [
       "<Figure size 432x288 with 1 Axes>"
      ]
     },
     "metadata": {
      "needs_background": "light"
     },
     "output_type": "display_data"
    }
   ],
   "source": [
    "import random\n",
    "wrong_predict_list=[]\n",
    "for i, _ in enumerate(predicted_labels):\n",
    "    # i번째 test_labels과 y_test이 다른 경우만 모아 봅시다. \n",
    "    if predicted_labels[i] != y_test[i]:\n",
    "        wrong_predict_list.append(i)\n",
    "\n",
    "# wrong_predict_list에서 random한 5개 확인\n",
    "samples = random.choices(population=wrong_predict_list, k=5)\n",
    "\n",
    "for n in samples:\n",
    "    print(\"예측확률분포: \" + str(predicted_result[n]))\n",
    "    print(\"라벨: \" + str(y_test[n]) + \", 예측결과: \" + str(predicted_labels[n]))\n",
    "    plt.imshow(x_test[n], cmap=plt.cm.binary)\n",
    "    plt.show()"
   ]
  },
  {
   "cell_type": "code",
   "execution_count": null,
   "id": "established-pantyhose",
   "metadata": {},
   "outputs": [],
   "source": []
  }
 ],
 "metadata": {
  "kernelspec": {
   "display_name": "Python 3",
   "language": "python",
   "name": "python3"
  },
  "language_info": {
   "codemirror_mode": {
    "name": "ipython",
    "version": 3
   },
   "file_extension": ".py",
   "mimetype": "text/x-python",
   "name": "python",
   "nbconvert_exporter": "python",
   "pygments_lexer": "ipython3",
   "version": "3.7.9"
  }
 },
 "nbformat": 4,
 "nbformat_minor": 5
}
