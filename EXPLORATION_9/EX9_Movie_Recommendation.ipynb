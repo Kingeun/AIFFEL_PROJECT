{
 "cells": [
  {
   "cell_type": "markdown",
   "id": "occupied-jonathan",
   "metadata": {},
   "source": [
    "# Movielens 영화 추천\n",
    "- MF 모델 학습 방법으로 내가 좋아할 만한 영화 추천 시스템 제작하기\n",
    "- 데이터셋 : Movielens 데이터\n",
    "\n",
    "## 순서\n",
    "\n",
    "1. 데이터 준비와 전처리\n",
    "2. 분석\n",
    "- ratings에 있는 유니크한 영화 개수\n",
    "- rating 에 있는 유니크한 사용자 수\n",
    "- 가장 인기 있는 영화 30개(인기순)\n",
    "\n",
    "3. 선호하는 영화 rating에 추가하기\n",
    "4. CSR matrix 만들기\n",
    "5. als_model = AlternatingLeastSquares 모델을 직접 구성하여 훈련\n",
    "6. 선호하는 영화들 중 하나와 그 외의 영화 하나를 골라 훈련된 모델이 예측한 나의 선호도 파악하기\n",
    "7. 가장 좋아하는 영화와 비슷한 영화 추천받기\n",
    "8. 가장 좋아할 만한 영화들 추천받기\n",
    "\n",
    "### 1) 데이터 준비와 전처리\n",
    "- Movielens 데이터는 rating.dat 안에 이미 인덱싱까지 완료된 사용자-영화-평점 데이터가 깔끔하게 정리"
   ]
  },
  {
   "cell_type": "code",
   "execution_count": 53,
   "id": "executive-measurement",
   "metadata": {},
   "outputs": [
    {
     "data": {
      "text/html": [
       "<div>\n",
       "<style scoped>\n",
       "    .dataframe tbody tr th:only-of-type {\n",
       "        vertical-align: middle;\n",
       "    }\n",
       "\n",
       "    .dataframe tbody tr th {\n",
       "        vertical-align: top;\n",
       "    }\n",
       "\n",
       "    .dataframe thead th {\n",
       "        text-align: right;\n",
       "    }\n",
       "</style>\n",
       "<table border=\"1\" class=\"dataframe\">\n",
       "  <thead>\n",
       "    <tr style=\"text-align: right;\">\n",
       "      <th></th>\n",
       "      <th>user_id</th>\n",
       "      <th>movie_id</th>\n",
       "      <th>rating</th>\n",
       "      <th>timestamp</th>\n",
       "    </tr>\n",
       "  </thead>\n",
       "  <tbody>\n",
       "    <tr>\n",
       "      <th>0</th>\n",
       "      <td>1</td>\n",
       "      <td>1193</td>\n",
       "      <td>5</td>\n",
       "      <td>978300760</td>\n",
       "    </tr>\n",
       "    <tr>\n",
       "      <th>1</th>\n",
       "      <td>1</td>\n",
       "      <td>661</td>\n",
       "      <td>3</td>\n",
       "      <td>978302109</td>\n",
       "    </tr>\n",
       "    <tr>\n",
       "      <th>2</th>\n",
       "      <td>1</td>\n",
       "      <td>914</td>\n",
       "      <td>3</td>\n",
       "      <td>978301968</td>\n",
       "    </tr>\n",
       "    <tr>\n",
       "      <th>3</th>\n",
       "      <td>1</td>\n",
       "      <td>3408</td>\n",
       "      <td>4</td>\n",
       "      <td>978300275</td>\n",
       "    </tr>\n",
       "    <tr>\n",
       "      <th>4</th>\n",
       "      <td>1</td>\n",
       "      <td>2355</td>\n",
       "      <td>5</td>\n",
       "      <td>978824291</td>\n",
       "    </tr>\n",
       "  </tbody>\n",
       "</table>\n",
       "</div>"
      ],
      "text/plain": [
       "   user_id  movie_id  rating  timestamp\n",
       "0        1      1193       5  978300760\n",
       "1        1       661       3  978302109\n",
       "2        1       914       3  978301968\n",
       "3        1      3408       4  978300275\n",
       "4        1      2355       5  978824291"
      ]
     },
     "execution_count": 53,
     "metadata": {},
     "output_type": "execute_result"
    }
   ],
   "source": [
    "import pandas as pd\n",
    "import os\n",
    "from scipy.sparse import csr_matrix\n",
    "from implicit.als import AlternatingLeastSquares\n",
    "\n",
    "rating_file_path=os.getenv('HOME') + '/aiffel/AIFFEL_PROJECT/EXPLORATION_9/recommendata_iu/data/ml-1m/ratings.dat'\n",
    "ratings_cols = ['user_id', 'movie_id', 'rating', 'timestamp']\n",
    "ratings = pd.read_csv(rating_file_path, sep='::', names=ratings_cols, engine='python', encoding = \"ISO-8859-1\")\n",
    "orginal_data_size = len(ratings)\n",
    "ratings.head()"
   ]
  },
  {
   "cell_type": "markdown",
   "id": "permanent-treatment",
   "metadata": {},
   "source": [
    "### 2) 분석\n",
    "- rating 가 3점 이상인 것들만 남기고 나머지는 제외한다\n",
    "- ratings에 있는 유니크한 영화 개수\n",
    "- rating에 있는 유니크한 사용자 수\n",
    "- 가장 인기 많은 영화 장르&영화 \n",
    "- 유저별 평점 통계\n",
    "- 가장 인기 있는 영화 30개(인기순)"
   ]
  },
  {
   "cell_type": "code",
   "execution_count": 54,
   "id": "fleet-replication",
   "metadata": {},
   "outputs": [
    {
     "name": "stdout",
     "output_type": "stream",
     "text": [
      "orginal_data_size: 1000209, filtered_data_size: 836478\n",
      "Ratio of Remaining Data is 83.63%\n"
     ]
    }
   ],
   "source": [
    "# 3점 이상만 남깁니다.\n",
    "ratings = ratings[ratings['rating']>=3]\n",
    "filtered_data_size = len(ratings)\n",
    "\n",
    "print(f'orginal_data_size: {orginal_data_size}, filtered_data_size: {filtered_data_size}')\n",
    "print(f'Ratio of Remaining Data is {filtered_data_size / orginal_data_size:.2%}')"
   ]
  },
  {
   "cell_type": "code",
   "execution_count": 55,
   "id": "green-canada",
   "metadata": {},
   "outputs": [],
   "source": [
    "# rating 컬럼의 이름을 count로 바꿉니다.\n",
    "ratings.rename(columns={'rating':'count'}, inplace=True)"
   ]
  },
  {
   "cell_type": "code",
   "execution_count": 56,
   "id": "apparent-immunology",
   "metadata": {},
   "outputs": [
    {
     "data": {
      "text/plain": [
       "0          5\n",
       "1          3\n",
       "2          3\n",
       "3          4\n",
       "4          5\n",
       "          ..\n",
       "1000203    3\n",
       "1000205    5\n",
       "1000206    5\n",
       "1000207    4\n",
       "1000208    4\n",
       "Name: count, Length: 836478, dtype: int64"
      ]
     },
     "execution_count": 56,
     "metadata": {},
     "output_type": "execute_result"
    }
   ],
   "source": [
    "ratings['count']"
   ]
  },
  {
   "cell_type": "code",
   "execution_count": 57,
   "id": "secure-onion",
   "metadata": {},
   "outputs": [
    {
     "data": {
      "text/html": [
       "<div>\n",
       "<style scoped>\n",
       "    .dataframe tbody tr th:only-of-type {\n",
       "        vertical-align: middle;\n",
       "    }\n",
       "\n",
       "    .dataframe tbody tr th {\n",
       "        vertical-align: top;\n",
       "    }\n",
       "\n",
       "    .dataframe thead th {\n",
       "        text-align: right;\n",
       "    }\n",
       "</style>\n",
       "<table border=\"1\" class=\"dataframe\">\n",
       "  <thead>\n",
       "    <tr style=\"text-align: right;\">\n",
       "      <th></th>\n",
       "      <th>movie_id</th>\n",
       "      <th>title</th>\n",
       "      <th>genre</th>\n",
       "    </tr>\n",
       "  </thead>\n",
       "  <tbody>\n",
       "    <tr>\n",
       "      <th>0</th>\n",
       "      <td>1</td>\n",
       "      <td>Toy Story (1995)</td>\n",
       "      <td>Animation|Children's|Comedy</td>\n",
       "    </tr>\n",
       "    <tr>\n",
       "      <th>1</th>\n",
       "      <td>2</td>\n",
       "      <td>Jumanji (1995)</td>\n",
       "      <td>Adventure|Children's|Fantasy</td>\n",
       "    </tr>\n",
       "    <tr>\n",
       "      <th>2</th>\n",
       "      <td>3</td>\n",
       "      <td>Grumpier Old Men (1995)</td>\n",
       "      <td>Comedy|Romance</td>\n",
       "    </tr>\n",
       "    <tr>\n",
       "      <th>3</th>\n",
       "      <td>4</td>\n",
       "      <td>Waiting to Exhale (1995)</td>\n",
       "      <td>Comedy|Drama</td>\n",
       "    </tr>\n",
       "    <tr>\n",
       "      <th>4</th>\n",
       "      <td>5</td>\n",
       "      <td>Father of the Bride Part II (1995)</td>\n",
       "      <td>Comedy</td>\n",
       "    </tr>\n",
       "  </tbody>\n",
       "</table>\n",
       "</div>"
      ],
      "text/plain": [
       "   movie_id                               title                         genre\n",
       "0         1                    Toy Story (1995)   Animation|Children's|Comedy\n",
       "1         2                      Jumanji (1995)  Adventure|Children's|Fantasy\n",
       "2         3             Grumpier Old Men (1995)                Comedy|Romance\n",
       "3         4            Waiting to Exhale (1995)                  Comedy|Drama\n",
       "4         5  Father of the Bride Part II (1995)                        Comedy"
      ]
     },
     "execution_count": 57,
     "metadata": {},
     "output_type": "execute_result"
    }
   ],
   "source": [
    "# 영화 제목을 보기 위해 메타 데이터를 읽어옵니다.\n",
    "movie_file_path=os.getenv('HOME') + '/aiffel/AIFFEL_PROJECT/EXPLORATION_9/recommendata_iu/data/ml-1m/movies.dat'\n",
    "cols = ['movie_id', 'title', 'genre'] \n",
    "movies = pd.read_csv(movie_file_path, sep='::', names=cols, engine='python', encoding='ISO-8859-1')\n",
    "movies.head()"
   ]
  },
  {
   "cell_type": "code",
   "execution_count": 58,
   "id": "partial-suspension",
   "metadata": {},
   "outputs": [
    {
     "data": {
      "text/html": [
       "<div>\n",
       "<style scoped>\n",
       "    .dataframe tbody tr th:only-of-type {\n",
       "        vertical-align: middle;\n",
       "    }\n",
       "\n",
       "    .dataframe tbody tr th {\n",
       "        vertical-align: top;\n",
       "    }\n",
       "\n",
       "    .dataframe thead th {\n",
       "        text-align: right;\n",
       "    }\n",
       "</style>\n",
       "<table border=\"1\" class=\"dataframe\">\n",
       "  <thead>\n",
       "    <tr style=\"text-align: right;\">\n",
       "      <th></th>\n",
       "      <th>movie_id</th>\n",
       "      <th>title</th>\n",
       "      <th>genre</th>\n",
       "    </tr>\n",
       "  </thead>\n",
       "  <tbody>\n",
       "    <tr>\n",
       "      <th>0</th>\n",
       "      <td>1</td>\n",
       "      <td>Toy Story (1995)</td>\n",
       "      <td>Animation|Children's|Comedy</td>\n",
       "    </tr>\n",
       "    <tr>\n",
       "      <th>1</th>\n",
       "      <td>2</td>\n",
       "      <td>Jumanji (1995)</td>\n",
       "      <td>Adventure|Children's|Fantasy</td>\n",
       "    </tr>\n",
       "    <tr>\n",
       "      <th>2</th>\n",
       "      <td>3</td>\n",
       "      <td>Grumpier Old Men (1995)</td>\n",
       "      <td>Comedy|Romance</td>\n",
       "    </tr>\n",
       "    <tr>\n",
       "      <th>3</th>\n",
       "      <td>4</td>\n",
       "      <td>Waiting to Exhale (1995)</td>\n",
       "      <td>Comedy|Drama</td>\n",
       "    </tr>\n",
       "    <tr>\n",
       "      <th>4</th>\n",
       "      <td>5</td>\n",
       "      <td>Father of the Bride Part II (1995)</td>\n",
       "      <td>Comedy</td>\n",
       "    </tr>\n",
       "  </tbody>\n",
       "</table>\n",
       "</div>"
      ],
      "text/plain": [
       "   movie_id                               title                         genre\n",
       "0         1                    Toy Story (1995)   Animation|Children's|Comedy\n",
       "1         2                      Jumanji (1995)  Adventure|Children's|Fantasy\n",
       "2         3             Grumpier Old Men (1995)                Comedy|Romance\n",
       "3         4            Waiting to Exhale (1995)                  Comedy|Drama\n",
       "4         5  Father of the Bride Part II (1995)                        Comedy"
      ]
     },
     "execution_count": 58,
     "metadata": {},
     "output_type": "execute_result"
    }
   ],
   "source": [
    "movies.head()"
   ]
  },
  {
   "cell_type": "code",
   "execution_count": 60,
   "id": "dramatic-minister",
   "metadata": {},
   "outputs": [],
   "source": [
    "pd.set_option('display.max_rows', 3883) ##전체 movie 행 다 나오게"
   ]
  },
  {
   "cell_type": "code",
   "execution_count": 62,
   "id": "powered-skill",
   "metadata": {
    "scrolled": false
   },
   "outputs": [
    {
     "data": {
      "text/html": [
       "<div>\n",
       "<style scoped>\n",
       "    .dataframe tbody tr th:only-of-type {\n",
       "        vertical-align: middle;\n",
       "    }\n",
       "\n",
       "    .dataframe tbody tr th {\n",
       "        vertical-align: top;\n",
       "    }\n",
       "\n",
       "    .dataframe thead th {\n",
       "        text-align: right;\n",
       "    }\n",
       "</style>\n",
       "<table border=\"1\" class=\"dataframe\">\n",
       "  <thead>\n",
       "    <tr style=\"text-align: right;\">\n",
       "      <th></th>\n",
       "      <th>movie_id</th>\n",
       "      <th>title</th>\n",
       "      <th>genre</th>\n",
       "    </tr>\n",
       "  </thead>\n",
       "  <tbody>\n",
       "    <tr>\n",
       "      <th>0</th>\n",
       "      <td>1</td>\n",
       "      <td>Toy Story (1995)</td>\n",
       "      <td>Animation|Children's|Comedy</td>\n",
       "    </tr>\n",
       "    <tr>\n",
       "      <th>1</th>\n",
       "      <td>2</td>\n",
       "      <td>Jumanji (1995)</td>\n",
       "      <td>Adventure|Children's|Fantasy</td>\n",
       "    </tr>\n",
       "    <tr>\n",
       "      <th>2</th>\n",
       "      <td>3</td>\n",
       "      <td>Grumpier Old Men (1995)</td>\n",
       "      <td>Comedy|Romance</td>\n",
       "    </tr>\n",
       "    <tr>\n",
       "      <th>3</th>\n",
       "      <td>4</td>\n",
       "      <td>Waiting to Exhale (1995)</td>\n",
       "      <td>Comedy|Drama</td>\n",
       "    </tr>\n",
       "    <tr>\n",
       "      <th>4</th>\n",
       "      <td>5</td>\n",
       "      <td>Father of the Bride Part II (1995)</td>\n",
       "      <td>Comedy</td>\n",
       "    </tr>\n",
       "  </tbody>\n",
       "</table>\n",
       "</div>"
      ],
      "text/plain": [
       "   movie_id                               title                         genre\n",
       "0         1                    Toy Story (1995)   Animation|Children's|Comedy\n",
       "1         2                      Jumanji (1995)  Adventure|Children's|Fantasy\n",
       "2         3             Grumpier Old Men (1995)                Comedy|Romance\n",
       "3         4            Waiting to Exhale (1995)                  Comedy|Drama\n",
       "4         5  Father of the Bride Part II (1995)                        Comedy"
      ]
     },
     "execution_count": 62,
     "metadata": {},
     "output_type": "execute_result"
    }
   ],
   "source": [
    "movies.head()"
   ]
  },
  {
   "cell_type": "code",
   "execution_count": 9,
   "id": "chronic-harvard",
   "metadata": {},
   "outputs": [
    {
     "data": {
      "text/plain": [
       "6039"
      ]
     },
     "execution_count": 9,
     "metadata": {},
     "output_type": "execute_result"
    }
   ],
   "source": [
    "#user_id에 포함된 유니크한 데이터의 개수\n",
    "ratings['user_id'].nunique()"
   ]
  },
  {
   "cell_type": "code",
   "execution_count": 10,
   "id": "satisfactory-portfolio",
   "metadata": {},
   "outputs": [
    {
     "data": {
      "text/plain": [
       "3628"
      ]
     },
     "execution_count": 10,
     "metadata": {},
     "output_type": "execute_result"
    }
   ],
   "source": [
    "#movie_id에 포함된 유니크한 데이터의 개수\n",
    "ratings['movie_id'].nunique()"
   ]
  },
  {
   "cell_type": "code",
   "execution_count": 11,
   "id": "close-convergence",
   "metadata": {},
   "outputs": [
    {
     "data": {
      "text/html": [
       "<div>\n",
       "<style scoped>\n",
       "    .dataframe tbody tr th:only-of-type {\n",
       "        vertical-align: middle;\n",
       "    }\n",
       "\n",
       "    .dataframe tbody tr th {\n",
       "        vertical-align: top;\n",
       "    }\n",
       "\n",
       "    .dataframe thead th {\n",
       "        text-align: right;\n",
       "    }\n",
       "</style>\n",
       "<table border=\"1\" class=\"dataframe\">\n",
       "  <thead>\n",
       "    <tr style=\"text-align: right;\">\n",
       "      <th></th>\n",
       "      <th>user_id</th>\n",
       "      <th>movie_id</th>\n",
       "      <th>count</th>\n",
       "      <th>timestamp</th>\n",
       "      <th>title</th>\n",
       "      <th>genre</th>\n",
       "    </tr>\n",
       "  </thead>\n",
       "  <tbody>\n",
       "    <tr>\n",
       "      <th>0</th>\n",
       "      <td>1</td>\n",
       "      <td>1193</td>\n",
       "      <td>5</td>\n",
       "      <td>978300760</td>\n",
       "      <td>One Flew Over the Cuckoo's Nest (1975)</td>\n",
       "      <td>Drama</td>\n",
       "    </tr>\n",
       "    <tr>\n",
       "      <th>1</th>\n",
       "      <td>1</td>\n",
       "      <td>661</td>\n",
       "      <td>3</td>\n",
       "      <td>978302109</td>\n",
       "      <td>James and the Giant Peach (1996)</td>\n",
       "      <td>Animation|Children's|Musical</td>\n",
       "    </tr>\n",
       "    <tr>\n",
       "      <th>2</th>\n",
       "      <td>1</td>\n",
       "      <td>914</td>\n",
       "      <td>3</td>\n",
       "      <td>978301968</td>\n",
       "      <td>My Fair Lady (1964)</td>\n",
       "      <td>Musical|Romance</td>\n",
       "    </tr>\n",
       "    <tr>\n",
       "      <th>3</th>\n",
       "      <td>1</td>\n",
       "      <td>3408</td>\n",
       "      <td>4</td>\n",
       "      <td>978300275</td>\n",
       "      <td>Erin Brockovich (2000)</td>\n",
       "      <td>Drama</td>\n",
       "    </tr>\n",
       "    <tr>\n",
       "      <th>4</th>\n",
       "      <td>1</td>\n",
       "      <td>2355</td>\n",
       "      <td>5</td>\n",
       "      <td>978824291</td>\n",
       "      <td>Bug's Life, A (1998)</td>\n",
       "      <td>Animation|Children's|Comedy</td>\n",
       "    </tr>\n",
       "  </tbody>\n",
       "</table>\n",
       "</div>"
      ],
      "text/plain": [
       "   user_id  movie_id  count  timestamp  \\\n",
       "0        1      1193      5  978300760   \n",
       "1        1       661      3  978302109   \n",
       "2        1       914      3  978301968   \n",
       "3        1      3408      4  978300275   \n",
       "4        1      2355      5  978824291   \n",
       "\n",
       "                                    title                         genre  \n",
       "0  One Flew Over the Cuckoo's Nest (1975)                         Drama  \n",
       "1        James and the Giant Peach (1996)  Animation|Children's|Musical  \n",
       "2                     My Fair Lady (1964)               Musical|Romance  \n",
       "3                  Erin Brockovich (2000)                         Drama  \n",
       "4                    Bug's Life, A (1998)   Animation|Children's|Comedy  "
      ]
     },
     "execution_count": 11,
     "metadata": {},
     "output_type": "execute_result"
    }
   ],
   "source": [
    "data=pd.merge(ratings,movies,how='left',on='movie_id')\n",
    "data.head()"
   ]
  },
  {
   "cell_type": "code",
   "execution_count": 12,
   "id": "excessive-gamma",
   "metadata": {},
   "outputs": [
    {
     "data": {
      "text/plain": [
       "genre\n",
       "Drama                               99388\n",
       "Comedy                              94264\n",
       "Comedy|Drama                        36871\n",
       "Comedy|Romance                      35888\n",
       "Drama|Romance                       24835\n",
       "Action|Thriller                     22675\n",
       "Drama|Thriller                      16133\n",
       "Horror                              15260\n",
       "Thriller                            14925\n",
       "Action|Adventure|Sci-Fi             14277\n",
       "Drama|War                           13766\n",
       "Action|Sci-Fi|Thriller              11657\n",
       "Action|Drama|War                    11316\n",
       "Crime|Drama                         10960\n",
       "Action|Sci-Fi                       10594\n",
       "Action                               9930\n",
       "Comedy|Drama|Romance                 9804\n",
       "Action|Adventure                     8744\n",
       "Action|Drama                         8611\n",
       "Comedy|Sci-Fi                        7797\n",
       "Comedy|Horror                        7523\n",
       "Animation|Children's                 7461\n",
       "Animation|Children's|Musical         7237\n",
       "Animation|Children's|Comedy          7141\n",
       "Crime|Thriller                       6713\n",
       "Action|Crime|Drama                   6325\n",
       "Action|Adventure|Sci-Fi|Thriller     6274\n",
       "Children's|Comedy                    6203\n",
       "Horror|Thriller                      6149\n",
       "Drama|Romance|War                    6056\n",
       "Name: user_id, dtype: int64"
      ]
     },
     "execution_count": 12,
     "metadata": {},
     "output_type": "execute_result"
    }
   ],
   "source": [
    "#인기 많은 영화장르\n",
    "#Drama 가 가장 인기 많다\n",
    "genre_count=data.groupby('genre')['user_id'].count()\n",
    "genre_count.sort_values(ascending=False).head(30)"
   ]
  },
  {
   "cell_type": "code",
   "execution_count": 13,
   "id": "recognized-forestry",
   "metadata": {},
   "outputs": [
    {
     "data": {
      "text/plain": [
       "title\n",
       "American Beauty (1999)                                   3211\n",
       "Star Wars: Episode IV - A New Hope (1977)                2910\n",
       "Star Wars: Episode V - The Empire Strikes Back (1980)    2885\n",
       "Star Wars: Episode VI - Return of the Jedi (1983)        2716\n",
       "Saving Private Ryan (1998)                               2561\n",
       "Terminator 2: Judgment Day (1991)                        2509\n",
       "Silence of the Lambs, The (1991)                         2498\n",
       "Raiders of the Lost Ark (1981)                           2473\n",
       "Back to the Future (1985)                                2460\n",
       "Matrix, The (1999)                                       2434\n",
       "Jurassic Park (1993)                                     2413\n",
       "Sixth Sense, The (1999)                                  2385\n",
       "Fargo (1996)                                             2371\n",
       "Braveheart (1995)                                        2314\n",
       "Men in Black (1997)                                      2297\n",
       "Schindler's List (1993)                                  2257\n",
       "Princess Bride, The (1987)                               2252\n",
       "Shakespeare in Love (1998)                               2213\n",
       "L.A. Confidential (1997)                                 2210\n",
       "Shawshank Redemption, The (1994)                         2194\n",
       "Godfather, The (1972)                                    2167\n",
       "Groundhog Day (1993)                                     2121\n",
       "E.T. the Extra-Terrestrial (1982)                        2102\n",
       "Being John Malkovich (1999)                              2066\n",
       "Ghostbusters (1984)                                      2051\n",
       "Pulp Fiction (1994)                                      2030\n",
       "Forrest Gump (1994)                                      2022\n",
       "Terminator, The (1984)                                   2019\n",
       "Toy Story (1995)                                         2000\n",
       "Fugitive, The (1993)                                     1941\n",
       "Name: user_id, dtype: int64"
      ]
     },
     "execution_count": 13,
     "metadata": {},
     "output_type": "execute_result"
    }
   ],
   "source": [
    "#가장 많이 본 영화 순위\n",
    "user_count=data.groupby('title')['user_id'].count()\n",
    "user_count.sort_values(ascending=False).head(30)"
   ]
  },
  {
   "cell_type": "code",
   "execution_count": 14,
   "id": "packed-biotechnology",
   "metadata": {},
   "outputs": [
    {
     "data": {
      "text/plain": [
       "count\n",
       "5    3053.832208\n",
       "4    3027.922042\n",
       "3    3022.120947\n",
       "Name: user_id, dtype: float64"
      ]
     },
     "execution_count": 14,
     "metadata": {},
     "output_type": "execute_result"
    }
   ],
   "source": [
    "#유저별 평점 통계\n",
    "count_mean=data.groupby('count')['user_id'].mean()\n",
    "count_mean.sort_values(ascending=False).head(30)"
   ]
  },
  {
   "cell_type": "code",
   "execution_count": 15,
   "id": "broadband-found",
   "metadata": {},
   "outputs": [
    {
     "data": {
      "text/html": [
       "<div>\n",
       "<style scoped>\n",
       "    .dataframe tbody tr th:only-of-type {\n",
       "        vertical-align: middle;\n",
       "    }\n",
       "\n",
       "    .dataframe tbody tr th {\n",
       "        vertical-align: top;\n",
       "    }\n",
       "\n",
       "    .dataframe thead th {\n",
       "        text-align: right;\n",
       "    }\n",
       "</style>\n",
       "<table border=\"1\" class=\"dataframe\">\n",
       "  <thead>\n",
       "    <tr style=\"text-align: right;\">\n",
       "      <th></th>\n",
       "      <th>user_id</th>\n",
       "      <th>title</th>\n",
       "      <th>count</th>\n",
       "    </tr>\n",
       "  </thead>\n",
       "  <tbody>\n",
       "    <tr>\n",
       "      <th>0</th>\n",
       "      <td>1</td>\n",
       "      <td>One Flew Over the Cuckoo's Nest (1975)</td>\n",
       "      <td>5</td>\n",
       "    </tr>\n",
       "    <tr>\n",
       "      <th>1</th>\n",
       "      <td>1</td>\n",
       "      <td>James and the Giant Peach (1996)</td>\n",
       "      <td>3</td>\n",
       "    </tr>\n",
       "    <tr>\n",
       "      <th>2</th>\n",
       "      <td>1</td>\n",
       "      <td>My Fair Lady (1964)</td>\n",
       "      <td>3</td>\n",
       "    </tr>\n",
       "    <tr>\n",
       "      <th>3</th>\n",
       "      <td>1</td>\n",
       "      <td>Erin Brockovich (2000)</td>\n",
       "      <td>4</td>\n",
       "    </tr>\n",
       "    <tr>\n",
       "      <th>4</th>\n",
       "      <td>1</td>\n",
       "      <td>Bug's Life, A (1998)</td>\n",
       "      <td>5</td>\n",
       "    </tr>\n",
       "    <tr>\n",
       "      <th>5</th>\n",
       "      <td>1</td>\n",
       "      <td>Princess Bride, The (1987)</td>\n",
       "      <td>3</td>\n",
       "    </tr>\n",
       "    <tr>\n",
       "      <th>6</th>\n",
       "      <td>1</td>\n",
       "      <td>Ben-Hur (1959)</td>\n",
       "      <td>5</td>\n",
       "    </tr>\n",
       "    <tr>\n",
       "      <th>7</th>\n",
       "      <td>1</td>\n",
       "      <td>Christmas Story, A (1983)</td>\n",
       "      <td>5</td>\n",
       "    </tr>\n",
       "    <tr>\n",
       "      <th>8</th>\n",
       "      <td>1</td>\n",
       "      <td>Snow White and the Seven Dwarfs (1937)</td>\n",
       "      <td>4</td>\n",
       "    </tr>\n",
       "    <tr>\n",
       "      <th>9</th>\n",
       "      <td>1</td>\n",
       "      <td>Wizard of Oz, The (1939)</td>\n",
       "      <td>4</td>\n",
       "    </tr>\n",
       "  </tbody>\n",
       "</table>\n",
       "</div>"
      ],
      "text/plain": [
       "   user_id                                   title  count\n",
       "0        1  One Flew Over the Cuckoo's Nest (1975)      5\n",
       "1        1        James and the Giant Peach (1996)      3\n",
       "2        1                     My Fair Lady (1964)      3\n",
       "3        1                  Erin Brockovich (2000)      4\n",
       "4        1                    Bug's Life, A (1998)      5\n",
       "5        1              Princess Bride, The (1987)      3\n",
       "6        1                          Ben-Hur (1959)      5\n",
       "7        1               Christmas Story, A (1983)      5\n",
       "8        1  Snow White and the Seven Dwarfs (1937)      4\n",
       "9        1                Wizard of Oz, The (1939)      4"
      ]
     },
     "execution_count": 15,
     "metadata": {},
     "output_type": "execute_result"
    }
   ],
   "source": [
    "using_cols=['user_id','title','count']\n",
    "data=data[using_cols]\n",
    "data.head(10)"
   ]
  },
  {
   "cell_type": "markdown",
   "id": "regulation-faith",
   "metadata": {},
   "source": [
    "### 3) 선호하는 영화 rating에 추가하기\n",
    "아는 영화가 정말 몇 개 없어서 처음엔 내가 좋아하는지에 상관없이 아는 이름의 영화들만 넣었다가 제대로 된 분석 결과가 나오지 않아서 비슷한 장르의 영화 10개를 넣었다.\n",
    "my_favorite=\n",
    "['American President, The (1995)','Toy Story(1995)','It Takes Two (1995)','Waiting for Guffman (1996)','That Old Feeling (1997)','Home Alone 3 (1997)','Little City (1998)','Black Cauldron, The (1985)','Antz (1998)','History of the World: Part I (1981)']"
   ]
  },
  {
   "cell_type": "code",
   "execution_count": 16,
   "id": "plastic-gilbert",
   "metadata": {},
   "outputs": [],
   "source": [
    "#my_favorite=['Toy Story(1995)','Forrest Gump(1994)','Endless Summer 2, The(1994)','Home Alone(1990)','Terminator 2:Judgment Day(1991)','One Fine Day(1996)','Two Family House(2000)']\n",
    "\n",
    "#my_rating=pd.DataFrame({'user_id':['ke']*7,'title':my_favorite,'count':[5]*7})\n",
    "\n",
    "#if not data.isin({'user_id':['ke']})['user_id'].any():\n",
    "#    data=data.append(my_rating)\n",
    "    \n",
    "#data.tail(10)"
   ]
  },
  {
   "cell_type": "code",
   "execution_count": 17,
   "id": "thirty-wrestling",
   "metadata": {},
   "outputs": [
    {
     "data": {
      "text/html": [
       "<div>\n",
       "<style scoped>\n",
       "    .dataframe tbody tr th:only-of-type {\n",
       "        vertical-align: middle;\n",
       "    }\n",
       "\n",
       "    .dataframe tbody tr th {\n",
       "        vertical-align: top;\n",
       "    }\n",
       "\n",
       "    .dataframe thead th {\n",
       "        text-align: right;\n",
       "    }\n",
       "</style>\n",
       "<table border=\"1\" class=\"dataframe\">\n",
       "  <thead>\n",
       "    <tr style=\"text-align: right;\">\n",
       "      <th></th>\n",
       "      <th>user_id</th>\n",
       "      <th>title</th>\n",
       "      <th>count</th>\n",
       "    </tr>\n",
       "  </thead>\n",
       "  <tbody>\n",
       "    <tr>\n",
       "      <th>0</th>\n",
       "      <td>ke</td>\n",
       "      <td>American President, The (1995)</td>\n",
       "      <td>5</td>\n",
       "    </tr>\n",
       "    <tr>\n",
       "      <th>1</th>\n",
       "      <td>ke</td>\n",
       "      <td>Toy Story(1995)</td>\n",
       "      <td>5</td>\n",
       "    </tr>\n",
       "    <tr>\n",
       "      <th>2</th>\n",
       "      <td>ke</td>\n",
       "      <td>It Takes Two (1995)</td>\n",
       "      <td>5</td>\n",
       "    </tr>\n",
       "    <tr>\n",
       "      <th>3</th>\n",
       "      <td>ke</td>\n",
       "      <td>Waiting for Guffman (1996)</td>\n",
       "      <td>5</td>\n",
       "    </tr>\n",
       "    <tr>\n",
       "      <th>4</th>\n",
       "      <td>ke</td>\n",
       "      <td>That Old Feeling (1997)</td>\n",
       "      <td>5</td>\n",
       "    </tr>\n",
       "    <tr>\n",
       "      <th>5</th>\n",
       "      <td>ke</td>\n",
       "      <td>Home Alone 3 (1997)</td>\n",
       "      <td>5</td>\n",
       "    </tr>\n",
       "    <tr>\n",
       "      <th>6</th>\n",
       "      <td>ke</td>\n",
       "      <td>Little City (1998)</td>\n",
       "      <td>5</td>\n",
       "    </tr>\n",
       "    <tr>\n",
       "      <th>7</th>\n",
       "      <td>ke</td>\n",
       "      <td>Black Cauldron, The (1985)</td>\n",
       "      <td>5</td>\n",
       "    </tr>\n",
       "    <tr>\n",
       "      <th>8</th>\n",
       "      <td>ke</td>\n",
       "      <td>Antz (1998)</td>\n",
       "      <td>5</td>\n",
       "    </tr>\n",
       "    <tr>\n",
       "      <th>9</th>\n",
       "      <td>ke</td>\n",
       "      <td>History of the World: Part I (1981)</td>\n",
       "      <td>5</td>\n",
       "    </tr>\n",
       "  </tbody>\n",
       "</table>\n",
       "</div>"
      ],
      "text/plain": [
       "  user_id                                title  count\n",
       "0      ke       American President, The (1995)      5\n",
       "1      ke                      Toy Story(1995)      5\n",
       "2      ke                  It Takes Two (1995)      5\n",
       "3      ke           Waiting for Guffman (1996)      5\n",
       "4      ke              That Old Feeling (1997)      5\n",
       "5      ke                  Home Alone 3 (1997)      5\n",
       "6      ke                   Little City (1998)      5\n",
       "7      ke           Black Cauldron, The (1985)      5\n",
       "8      ke                          Antz (1998)      5\n",
       "9      ke  History of the World: Part I (1981)      5"
      ]
     },
     "execution_count": 17,
     "metadata": {},
     "output_type": "execute_result"
    }
   ],
   "source": [
    "my_favorite=['American President, The (1995)','Toy Story(1995)','It Takes Two (1995)','Waiting for Guffman (1996)','That Old Feeling (1997)','Home Alone 3 (1997)','Little City (1998)','Black Cauldron, The (1985)','Antz (1998)','History of the World: Part I (1981)']\n",
    "\n",
    "my_rating=pd.DataFrame({'user_id':['ke']*10,'title':my_favorite,'count':[5]*10})\n",
    "\n",
    "if not data.isin({'user_id':['ke']})['user_id'].any():\n",
    "    data=data.append(my_rating)\n",
    "    \n",
    "data.tail(10)"
   ]
  },
  {
   "cell_type": "code",
   "execution_count": 18,
   "id": "automated-stress",
   "metadata": {},
   "outputs": [],
   "source": [
    "#고유한 유저와 고유한 영화 title 확인\n",
    "user_unique = data['user_id'].unique()\n",
    "title_unique = data['title'].unique()\n",
    "\n",
    "# 유저, 영화title indexing 하는 코드 idx는 index의 약자입니다.\n",
    "user_to_idx = {v:k for k,v in enumerate(user_unique)}\n",
    "title_to_idx = {v:k for k,v in enumerate(title_unique)}"
   ]
  },
  {
   "cell_type": "code",
   "execution_count": 19,
   "id": "necessary-venture",
   "metadata": {},
   "outputs": [
    {
     "name": "stdout",
     "output_type": "stream",
     "text": [
      "6039\n",
      "3628\n"
     ]
    }
   ],
   "source": [
    "print(user_to_idx['ke'])    \n",
    "print(title_to_idx['Toy Story(1995)'])"
   ]
  },
  {
   "cell_type": "code",
   "execution_count": 20,
   "id": "environmental-resistance",
   "metadata": {},
   "outputs": [
    {
     "name": "stdout",
     "output_type": "stream",
     "text": [
      "user_id column indexing OK!!\n",
      "title column indexing OK!!\n"
     ]
    },
    {
     "data": {
      "text/html": [
       "<div>\n",
       "<style scoped>\n",
       "    .dataframe tbody tr th:only-of-type {\n",
       "        vertical-align: middle;\n",
       "    }\n",
       "\n",
       "    .dataframe tbody tr th {\n",
       "        vertical-align: top;\n",
       "    }\n",
       "\n",
       "    .dataframe thead th {\n",
       "        text-align: right;\n",
       "    }\n",
       "</style>\n",
       "<table border=\"1\" class=\"dataframe\">\n",
       "  <thead>\n",
       "    <tr style=\"text-align: right;\">\n",
       "      <th></th>\n",
       "      <th>user_id</th>\n",
       "      <th>title</th>\n",
       "      <th>count</th>\n",
       "    </tr>\n",
       "  </thead>\n",
       "  <tbody>\n",
       "    <tr>\n",
       "      <th>0</th>\n",
       "      <td>0</td>\n",
       "      <td>0</td>\n",
       "      <td>5</td>\n",
       "    </tr>\n",
       "    <tr>\n",
       "      <th>1</th>\n",
       "      <td>0</td>\n",
       "      <td>1</td>\n",
       "      <td>3</td>\n",
       "    </tr>\n",
       "    <tr>\n",
       "      <th>2</th>\n",
       "      <td>0</td>\n",
       "      <td>2</td>\n",
       "      <td>3</td>\n",
       "    </tr>\n",
       "    <tr>\n",
       "      <th>3</th>\n",
       "      <td>0</td>\n",
       "      <td>3</td>\n",
       "      <td>4</td>\n",
       "    </tr>\n",
       "    <tr>\n",
       "      <th>4</th>\n",
       "      <td>0</td>\n",
       "      <td>4</td>\n",
       "      <td>5</td>\n",
       "    </tr>\n",
       "    <tr>\n",
       "      <th>...</th>\n",
       "      <td>...</td>\n",
       "      <td>...</td>\n",
       "      <td>...</td>\n",
       "    </tr>\n",
       "    <tr>\n",
       "      <th>5</th>\n",
       "      <td>6039</td>\n",
       "      <td>1994</td>\n",
       "      <td>5</td>\n",
       "    </tr>\n",
       "    <tr>\n",
       "      <th>6</th>\n",
       "      <td>6039</td>\n",
       "      <td>3100</td>\n",
       "      <td>5</td>\n",
       "    </tr>\n",
       "    <tr>\n",
       "      <th>7</th>\n",
       "      <td>6039</td>\n",
       "      <td>705</td>\n",
       "      <td>5</td>\n",
       "    </tr>\n",
       "    <tr>\n",
       "      <th>8</th>\n",
       "      <td>6039</td>\n",
       "      <td>30</td>\n",
       "      <td>5</td>\n",
       "    </tr>\n",
       "    <tr>\n",
       "      <th>9</th>\n",
       "      <td>6039</td>\n",
       "      <td>1150</td>\n",
       "      <td>5</td>\n",
       "    </tr>\n",
       "  </tbody>\n",
       "</table>\n",
       "<p>836488 rows × 3 columns</p>\n",
       "</div>"
      ],
      "text/plain": [
       "    user_id  title  count\n",
       "0         0      0      5\n",
       "1         0      1      3\n",
       "2         0      2      3\n",
       "3         0      3      4\n",
       "4         0      4      5\n",
       "..      ...    ...    ...\n",
       "5      6039   1994      5\n",
       "6      6039   3100      5\n",
       "7      6039    705      5\n",
       "8      6039     30      5\n",
       "9      6039   1150      5\n",
       "\n",
       "[836488 rows x 3 columns]"
      ]
     },
     "execution_count": 20,
     "metadata": {},
     "output_type": "execute_result"
    }
   ],
   "source": [
    "# indexing을 통해 데이터 컬럼 내 값을 바꾸는 코드\n",
    "# dictionary 자료형의 get 함수는 https://wikidocs.net/16 을 참고하세요.\n",
    "\n",
    "# user_to_idx.get을 통해 user_id 컬럼의 모든 값을 인덱싱한 Series를 구해 봅시다. \n",
    "# 혹시 정상적으로 인덱싱되지 않은 row가 있다면 인덱스가 NaN이 될 테니 dropna()로 제거합니다. \n",
    "temp_user_data = data['user_id'].map(user_to_idx.get).dropna()\n",
    "if len(temp_user_data) == len(data):   # 모든 row가 정상적으로 인덱싱되었다면\n",
    "    print('user_id column indexing OK!!')\n",
    "    data['user_id'] = temp_user_data   # data['user_id']을 인덱싱된 Series로 교체해 줍니다. \n",
    "else:\n",
    "    print('user_id column indexing Fail!!')\n",
    "\n",
    "# title_to_idx을 통해 title 컬럼도 동일한 방식으로 인덱싱해 줍니다. \n",
    "temp_title_data = data['title'].map(title_to_idx.get).dropna()\n",
    "if len(temp_title_data) == len(data):\n",
    "    print('title column indexing OK!!')\n",
    "    data['title'] = temp_title_data\n",
    "else:\n",
    "    print('title column indexing Fail!!')\n",
    "\n",
    "data\n",
    "\n",
    "##data의 user_id와 artist 컬럼 내 값들이 모두 정수 인덱스 값으로 잘 변경되었나요? 이것으로 훈련을 위한 전처리가 완료"
   ]
  },
  {
   "cell_type": "markdown",
   "id": "split-fields",
   "metadata": {},
   "source": [
    "### 4)CSR matrix 만들기"
   ]
  },
  {
   "cell_type": "code",
   "execution_count": 21,
   "id": "younger-swing",
   "metadata": {},
   "outputs": [
    {
     "data": {
      "text/plain": [
       "<6040x3629 sparse matrix of type '<class 'numpy.longlong'>'\n",
       "\twith 836488 stored elements in Compressed Sparse Row format>"
      ]
     },
     "execution_count": 21,
     "metadata": {},
     "output_type": "execute_result"
    }
   ],
   "source": [
    "#CSR(Compressed Sparse Row) Matrix\n",
    "\n",
    "num_user = data['user_id'].nunique()\n",
    "num_title = data['title'].nunique()\n",
    "\n",
    "csr_data = csr_matrix((data['count'], (data.user_id, data.title)), shape= (num_user, num_title))\n",
    "csr_data"
   ]
  },
  {
   "cell_type": "markdown",
   "id": "willing-bahrain",
   "metadata": {},
   "source": [
    "### 5) MF 모델 학습하기\n",
    "- implicit 패키지에 구현된 als(AlternatingLeastSquares) 모델사용\n",
    "- Matrix Factorization 에서 쪼개진 두 Feature Matrix를 한꺼번에 훈련하는 것은 잘 수렴하지 않기 때문에, 한쪽을 고정시키고 다른 쪽을 학습하는 방식을 번갈아 수행하는 AlternatingLeastSquares 방식사용"
   ]
  },
  {
   "cell_type": "code",
   "execution_count": 22,
   "id": "retired-finland",
   "metadata": {},
   "outputs": [],
   "source": [
    "# MF모델 학습하기\n",
    "# implicit 라이브러리에서 권장하고 있는 부분입니다. 학습 내용과는 무관합니다.\n",
    "os.environ['OPENBLAS_NUM_THREADS']='1'\n",
    "os.environ['KMP_DUPLICATE_LIB_OK']='True'\n",
    "os.environ['MKL_NUM_THREADS']='1'"
   ]
  },
  {
   "cell_type": "code",
   "execution_count": 23,
   "id": "pretty-microwave",
   "metadata": {},
   "outputs": [],
   "source": [
    "# Implicit AlternatingLeastSquares 모델의 선언\n",
    "als_model = AlternatingLeastSquares(factors=300, regularization=0.01, use_gpu=False, iterations=20, dtype=np.float32)"
   ]
  },
  {
   "cell_type": "code",
   "execution_count": 24,
   "id": "authorized-palmer",
   "metadata": {},
   "outputs": [
    {
     "data": {
      "text/plain": [
       "<3629x6040 sparse matrix of type '<class 'numpy.longlong'>'\n",
       "\twith 836488 stored elements in Compressed Sparse Column format>"
      ]
     },
     "execution_count": 24,
     "metadata": {},
     "output_type": "execute_result"
    }
   ],
   "source": [
    "# als 모델은 input으로 (item X user 꼴의 matrix를 받기 때문에 Transpose해줍니다.)\n",
    "csr_data_transpose = csr_data.T\n",
    "csr_data_transpose"
   ]
  },
  {
   "cell_type": "code",
   "execution_count": 25,
   "id": "vocational-booking",
   "metadata": {},
   "outputs": [
    {
     "data": {
      "application/vnd.jupyter.widget-view+json": {
       "model_id": "28689a055e994ca39b950d0692fe0401",
       "version_major": 2,
       "version_minor": 0
      },
      "text/plain": [
       "  0%|          | 0/20 [00:00<?, ?it/s]"
      ]
     },
     "metadata": {},
     "output_type": "display_data"
    }
   ],
   "source": [
    "# 모델 훈련\n",
    "als_model.fit(csr_data_transpose)"
   ]
  },
  {
   "cell_type": "markdown",
   "id": "charming-mauritius",
   "metadata": {},
   "source": [
    "### 6) 내가 선호하는 10가지 영화 중 하나와 그 외의 영화 하나를 골라 훈련된 모델이 예측한 나의 선호도 파악"
   ]
  },
  {
   "cell_type": "code",
   "execution_count": 26,
   "id": "changed-corner",
   "metadata": {},
   "outputs": [
    {
     "name": "stdout",
     "output_type": "stream",
     "text": [
      "슝=3\n"
     ]
    }
   ],
   "source": [
    "ke, toy_story = user_to_idx['ke'], title_to_idx['Toy Story(1995)']\n",
    "ke_vector, toy_story_vector = als_model.user_factors[ke], als_model.item_factors[toy_story]\n",
    "\n",
    "print('슝=3')"
   ]
  },
  {
   "cell_type": "code",
   "execution_count": 27,
   "id": "cathedral-great",
   "metadata": {},
   "outputs": [
    {
     "data": {
      "text/plain": [
       "array([-0.02206397, -0.02334103,  0.27001694,  0.0925822 , -0.33954006,\n",
       "        0.20651211, -0.6401163 , -0.50496584, -0.04825611, -0.0861173 ,\n",
       "       -0.3552618 ,  0.12447911,  0.17712845, -0.57023793, -0.02771022,\n",
       "       -0.13146433, -0.83761084, -0.95509785,  0.26809758, -0.3174297 ,\n",
       "       -0.39219967, -0.06554808,  0.1272477 , -0.19149442,  0.02526887,\n",
       "        0.13990046, -0.29935485, -0.64620024, -0.5549406 , -0.18663912,\n",
       "        0.39751446,  0.06571957, -0.16169353,  0.61289346,  0.05081168,\n",
       "       -0.1324445 ,  0.14852974,  1.0547314 , -0.05598395,  0.71414155,\n",
       "       -0.3245267 , -0.02096114, -0.22217928,  0.06299257, -0.8278732 ,\n",
       "        0.30677813, -0.6353469 , -0.22022305,  0.05886415,  0.08498915,\n",
       "       -1.3270755 , -0.26682985,  0.44363216,  0.39424565, -0.7380852 ,\n",
       "        0.2741036 , -0.3045379 , -0.73535466,  0.19142304,  0.5751743 ,\n",
       "        0.22165142, -0.24251603,  0.9919971 ,  0.373638  , -0.0602391 ,\n",
       "        0.2541054 ,  0.06883937, -0.55617386,  0.659905  , -0.6696102 ,\n",
       "       -0.01917995,  0.31946105, -0.54533124,  0.6643996 ,  0.5162042 ,\n",
       "       -0.30237582, -0.205198  ,  0.8697856 ,  0.16874492, -0.15439492,\n",
       "       -0.3571734 ,  0.32365784, -0.04970253, -0.5067576 , -0.01741516,\n",
       "       -0.03371593, -0.6589579 ,  0.28556412,  0.01968851,  0.21421053,\n",
       "        1.1004622 ,  1.0835686 , -0.23987006,  0.44585502,  0.07779659,\n",
       "       -0.6987549 ,  0.50422245,  1.14995   ,  0.28705204, -0.06672326,\n",
       "       -0.6666098 ,  0.13517869,  0.04449904, -0.3347523 ,  0.349218  ,\n",
       "        0.09316096,  0.30572557, -0.39374688,  0.6303211 ,  0.8268264 ,\n",
       "        0.7463552 ,  0.09614165,  0.02876417,  0.49611118,  0.5670157 ,\n",
       "       -0.15989177,  0.5810297 , -0.7420074 , -0.5132099 , -0.71874326,\n",
       "       -0.27531838, -0.67052567,  0.37347263, -0.30313575,  0.23017083,\n",
       "       -0.20164953, -0.5246185 ,  0.12756123,  0.13577743, -0.31024277,\n",
       "        0.30459568, -0.46211618,  0.16659243, -0.18752474,  0.3400287 ,\n",
       "        0.6975267 ,  0.20650016, -0.56223077,  0.03786109, -0.21344227,\n",
       "       -0.10592693, -0.8475871 , -0.6975855 , -0.21198128, -0.4881382 ,\n",
       "        0.62346333, -0.03001018,  0.14227934,  0.08800347,  0.19659513,\n",
       "        0.00267798, -0.3232627 , -0.33555025,  0.01201555, -0.1580724 ,\n",
       "       -0.07418675, -0.09496175,  0.21533173,  0.45368236, -0.16370364,\n",
       "       -0.08831716, -0.21037847,  0.5733339 , -0.43353605, -0.25259092,\n",
       "        0.5925372 ,  0.07654104, -0.0760635 , -0.07934242,  0.2522595 ,\n",
       "       -0.05319088,  0.26662904, -0.07596167,  0.3706247 , -0.21265385,\n",
       "       -0.19346523, -0.37014756, -0.11358175, -0.03773129,  0.20545745,\n",
       "       -0.06853787,  0.0043447 ,  0.9960101 ,  0.25786012,  0.5919907 ,\n",
       "       -0.31479526,  0.783014  , -0.09914131,  0.30090955, -0.27561572,\n",
       "        0.21801184, -0.7664106 , -0.10962321, -0.2789567 , -0.09338359,\n",
       "       -0.30816054,  0.1813796 , -0.15717909,  0.28301767,  0.6219183 ,\n",
       "        0.2594192 ,  0.15148756,  0.28859183,  0.45416468, -0.27448186,\n",
       "        0.03467349, -0.23946324,  0.00195841,  0.3305253 , -0.21899211,\n",
       "        0.48948222, -0.29189593,  0.19518363, -0.61966896, -0.5147698 ,\n",
       "       -0.7027304 , -0.46987566, -0.10208532, -0.11691655,  0.30218923,\n",
       "        0.10272019,  0.22969241,  0.18709615, -0.0190669 ,  0.42369357,\n",
       "       -0.5736589 , -0.7787947 , -0.32577744,  0.17689975,  0.26821187,\n",
       "        0.69887996, -0.56855625, -0.01524485, -0.29495177,  0.17166267,\n",
       "       -0.08028962, -0.03530671,  0.17260727, -0.1724059 ,  0.07247713,\n",
       "       -0.16809468, -0.0326161 , -0.25917363, -0.11895074,  0.5691204 ,\n",
       "        0.19045973, -0.35876498,  0.16392738,  0.05464365,  0.38150573,\n",
       "       -0.21422423, -0.49391112, -0.0748773 ,  0.04079299,  0.63890666,\n",
       "        0.3380665 ,  0.08157325, -0.2251734 ,  0.35251194,  0.42839316,\n",
       "        0.02979358, -0.8962435 ,  0.12681775, -0.2321969 , -0.2708304 ,\n",
       "        0.17034782, -0.2876349 ,  0.05416743,  0.31235215, -0.29536727,\n",
       "        0.60904586,  0.42229998, -0.01133391,  0.3664546 ,  0.57328343,\n",
       "        0.15302399,  0.51861304, -0.44743568,  0.6787908 ,  0.14216362,\n",
       "       -1.0944414 , -0.05417328,  0.10757222, -0.13230017, -0.13227051,\n",
       "       -0.5759268 ,  0.33214438, -0.23222284, -0.30457306, -0.05952864,\n",
       "        0.03976342,  0.7633886 ,  1.1112286 ,  0.14868121,  0.03983534,\n",
       "        0.08582424,  0.00629995, -0.08788352,  0.41117477,  0.06417371],\n",
       "      dtype=float32)"
      ]
     },
     "execution_count": 27,
     "metadata": {},
     "output_type": "execute_result"
    }
   ],
   "source": [
    "ke_vector"
   ]
  },
  {
   "cell_type": "code",
   "execution_count": 28,
   "id": "ideal-penalty",
   "metadata": {},
   "outputs": [
    {
     "data": {
      "text/plain": [
       "array([0.00477476, 0.0036201 , 0.00462833, 0.00423283, 0.00277234,\n",
       "       0.00628978, 0.00447856, 0.00453483, 0.00343015, 0.00262596,\n",
       "       0.00395963, 0.00306063, 0.00557763, 0.00513011, 0.00425887,\n",
       "       0.00443588, 0.00387027, 0.00411158, 0.00402219, 0.00032554,\n",
       "       0.0043886 , 0.00523394, 0.00515893, 0.00523219, 0.0056746 ,\n",
       "       0.00319004, 0.00489524, 0.00162897, 0.00431174, 0.00516246,\n",
       "       0.00416158, 0.00284168, 0.00494609, 0.00201733, 0.00501003,\n",
       "       0.00459663, 0.00626691, 0.00359746, 0.0053317 , 0.00458011,\n",
       "       0.00620969, 0.00168711, 0.00173378, 0.00551802, 0.00153121,\n",
       "       0.00250983, 0.00259634, 0.00323709, 0.0055408 , 0.00405329,\n",
       "       0.00480792, 0.00509419, 0.00420627, 0.00510163, 0.00416527,\n",
       "       0.00676294, 0.00388766, 0.00387023, 0.00384057, 0.0037539 ,\n",
       "       0.00449002, 0.00413727, 0.0047662 , 0.00600197, 0.00607098,\n",
       "       0.00397153, 0.00430957, 0.00251514, 0.00639546, 0.00364186,\n",
       "       0.00421117, 0.00423831, 0.00535733, 0.00466492, 0.00438552,\n",
       "       0.00531307, 0.00441806, 0.00605913, 0.00458044, 0.00238105,\n",
       "       0.00448289, 0.00388164, 0.00321617, 0.00399025, 0.00376922,\n",
       "       0.00562433, 0.00421241, 0.00601286, 0.00596034, 0.00457834,\n",
       "       0.00575256, 0.00491465, 0.00397225, 0.00458495, 0.00377241,\n",
       "       0.00379236, 0.00548035, 0.00370391, 0.00443163, 0.00395324,\n",
       "       0.00474669, 0.00423788, 0.00332828, 0.00593861, 0.00276421,\n",
       "       0.0013222 , 0.00251054, 0.00448572, 0.0037013 , 0.0038897 ,\n",
       "       0.00699479, 0.00469321, 0.0040999 , 0.00481433, 0.00269902,\n",
       "       0.00338066, 0.00329742, 0.00363292, 0.00289031, 0.00282173,\n",
       "       0.00305383, 0.00204928, 0.0026384 , 0.00316642, 0.00520184,\n",
       "       0.00586085, 0.00135215, 0.0051692 , 0.00457513, 0.00691116,\n",
       "       0.00498748, 0.00380872, 0.00689243, 0.00478881, 0.00425776,\n",
       "       0.00656355, 0.00316692, 0.00269322, 0.00384539, 0.00522467,\n",
       "       0.00276564, 0.00111785, 0.00316465, 0.00342513, 0.00473332,\n",
       "       0.00488451, 0.00267127, 0.00335528, 0.00602517, 0.00340198,\n",
       "       0.00315663, 0.00328934, 0.00265103, 0.00393837, 0.00586546,\n",
       "       0.00348805, 0.004287  , 0.00399718, 0.00274615, 0.00230868,\n",
       "       0.00499693, 0.00148479, 0.00590653, 0.00552373, 0.00490173,\n",
       "       0.00368844, 0.00252788, 0.0059543 , 0.0017998 , 0.00523666,\n",
       "       0.00424179, 0.00432371, 0.0051121 , 0.00543225, 0.00171802,\n",
       "       0.0043011 , 0.0029336 , 0.00617032, 0.00406561, 0.00563162,\n",
       "       0.00402554, 0.0044645 , 0.00548388, 0.00742912, 0.00458788,\n",
       "       0.00194544, 0.00622781, 0.0040878 , 0.0042313 , 0.00626913,\n",
       "       0.00602027, 0.00373906, 0.00600489, 0.0034532 , 0.0039024 ,\n",
       "       0.00266105, 0.00435496, 0.00217031, 0.00261944, 0.00655551,\n",
       "       0.00371484, 0.00412477, 0.00481157, 0.00470165, 0.00460983,\n",
       "       0.00589347, 0.00564641, 0.00331203, 0.0037487 , 0.00295409,\n",
       "       0.00448157, 0.00434848, 0.00237782, 0.00162118, 0.0022703 ,\n",
       "       0.00447901, 0.00321533, 0.0028978 , 0.00257717, 0.00376671,\n",
       "       0.00268789, 0.00468321, 0.00380851, 0.00216035, 0.00454223,\n",
       "       0.00294245, 0.0039973 , 0.00279333, 0.00583031, 0.0040911 ,\n",
       "       0.0063489 , 0.00349194, 0.00509387, 0.00369577, 0.00462284,\n",
       "       0.00495672, 0.0041045 , 0.00271758, 0.00260543, 0.00403903,\n",
       "       0.00409776, 0.00518147, 0.00321524, 0.00457086, 0.00346837,\n",
       "       0.00639608, 0.00406279, 0.0026433 , 0.00483487, 0.00516411,\n",
       "       0.00394943, 0.00488058, 0.00337308, 0.00349057, 0.00618578,\n",
       "       0.00414895, 0.00420206, 0.00444523, 0.00426641, 0.00340335,\n",
       "       0.00308152, 0.00292764, 0.00737795, 0.00397881, 0.00550255,\n",
       "       0.00259576, 0.00442633, 0.00346946, 0.0043943 , 0.00422886,\n",
       "       0.00505209, 0.00426598, 0.00622961, 0.00562244, 0.00312784,\n",
       "       0.00249673, 0.00157219, 0.00601072, 0.00638115, 0.00638878,\n",
       "       0.0010614 , 0.00450719, 0.00356595, 0.00430643, 0.00267919,\n",
       "       0.00476723, 0.00555388, 0.00612557, 0.00428333, 0.00345075,\n",
       "       0.00537825, 0.00553561, 0.00429794, 0.00248214, 0.00248205,\n",
       "       0.00217093, 0.00330607, 0.00459892, 0.00357481, 0.0039831 ],\n",
       "      dtype=float32)"
      ]
     },
     "execution_count": 28,
     "metadata": {},
     "output_type": "execute_result"
    }
   ],
   "source": [
    "toy_story_vector"
   ]
  },
  {
   "cell_type": "code",
   "execution_count": 29,
   "id": "developed-sacramento",
   "metadata": {},
   "outputs": [
    {
     "data": {
      "text/html": [
       "<div>\n",
       "<style scoped>\n",
       "    .dataframe tbody tr th:only-of-type {\n",
       "        vertical-align: middle;\n",
       "    }\n",
       "\n",
       "    .dataframe tbody tr th {\n",
       "        vertical-align: top;\n",
       "    }\n",
       "\n",
       "    .dataframe thead th {\n",
       "        text-align: right;\n",
       "    }\n",
       "</style>\n",
       "<table border=\"1\" class=\"dataframe\">\n",
       "  <thead>\n",
       "    <tr style=\"text-align: right;\">\n",
       "      <th></th>\n",
       "      <th>movie_id</th>\n",
       "      <th>title</th>\n",
       "      <th>genre</th>\n",
       "    </tr>\n",
       "  </thead>\n",
       "  <tbody>\n",
       "    <tr>\n",
       "      <th>0</th>\n",
       "      <td>1</td>\n",
       "      <td>Toy Story (1995)</td>\n",
       "      <td>Animation|Children's|Comedy</td>\n",
       "    </tr>\n",
       "    <tr>\n",
       "      <th>10</th>\n",
       "      <td>11</td>\n",
       "      <td>American President, The (1995)</td>\n",
       "      <td>Comedy|Drama|Romance</td>\n",
       "    </tr>\n",
       "    <tr>\n",
       "      <th>37</th>\n",
       "      <td>38</td>\n",
       "      <td>It Takes Two (1995)</td>\n",
       "      <td>Comedy</td>\n",
       "    </tr>\n",
       "    <tr>\n",
       "      <th>1424</th>\n",
       "      <td>1449</td>\n",
       "      <td>Waiting for Guffman (1996)</td>\n",
       "      <td>Comedy</td>\n",
       "    </tr>\n",
       "    <tr>\n",
       "      <th>1436</th>\n",
       "      <td>1463</td>\n",
       "      <td>That Old Feeling (1997)</td>\n",
       "      <td>Comedy|Romance</td>\n",
       "    </tr>\n",
       "    <tr>\n",
       "      <th>1659</th>\n",
       "      <td>1707</td>\n",
       "      <td>Home Alone 3 (1997)</td>\n",
       "      <td>Children's|Comedy</td>\n",
       "    </tr>\n",
       "    <tr>\n",
       "      <th>1724</th>\n",
       "      <td>1782</td>\n",
       "      <td>Little City (1998)</td>\n",
       "      <td>Comedy|Romance</td>\n",
       "    </tr>\n",
       "    <tr>\n",
       "      <th>1964</th>\n",
       "      <td>2033</td>\n",
       "      <td>Black Cauldron, The (1985)</td>\n",
       "      <td>Animation|Children's</td>\n",
       "    </tr>\n",
       "    <tr>\n",
       "      <th>2225</th>\n",
       "      <td>2294</td>\n",
       "      <td>Antz (1998)</td>\n",
       "      <td>Animation|Children's</td>\n",
       "    </tr>\n",
       "    <tr>\n",
       "      <th>2232</th>\n",
       "      <td>2301</td>\n",
       "      <td>History of the World: Part I (1981)</td>\n",
       "      <td>Comedy</td>\n",
       "    </tr>\n",
       "  </tbody>\n",
       "</table>\n",
       "</div>"
      ],
      "text/plain": [
       "      movie_id                                title  \\\n",
       "0            1                     Toy Story (1995)   \n",
       "10          11       American President, The (1995)   \n",
       "37          38                  It Takes Two (1995)   \n",
       "1424      1449           Waiting for Guffman (1996)   \n",
       "1436      1463              That Old Feeling (1997)   \n",
       "1659      1707                  Home Alone 3 (1997)   \n",
       "1724      1782                   Little City (1998)   \n",
       "1964      2033           Black Cauldron, The (1985)   \n",
       "2225      2294                          Antz (1998)   \n",
       "2232      2301  History of the World: Part I (1981)   \n",
       "\n",
       "                            genre  \n",
       "0     Animation|Children's|Comedy  \n",
       "10           Comedy|Drama|Romance  \n",
       "37                         Comedy  \n",
       "1424                       Comedy  \n",
       "1436               Comedy|Romance  \n",
       "1659            Children's|Comedy  \n",
       "1724               Comedy|Romance  \n",
       "1964         Animation|Children's  \n",
       "2225         Animation|Children's  \n",
       "2232                       Comedy  "
      ]
     },
     "execution_count": 29,
     "metadata": {},
     "output_type": "execute_result"
    }
   ],
   "source": [
    "# 내가 좋아하는 영화의 genre표시\n",
    "movies[movies['title'].isin(['American President, The (1995)','Toy Story (1995)','It Takes Two (1995)','Waiting for Guffman (1996)','That Old Feeling (1997)','Home Alone 3 (1997)','Little City (1998)','Black Cauldron, The (1985)','Antz (1998)','History of the World: Part I (1981)'])]"
   ]
  },
  {
   "cell_type": "code",
   "execution_count": 31,
   "id": "according-conducting",
   "metadata": {},
   "outputs": [
    {
     "data": {
      "text/plain": [
       "0.0488178"
      ]
     },
     "execution_count": 31,
     "metadata": {},
     "output_type": "execute_result"
    }
   ],
   "source": [
    "# ke과 toy_story를 내적하는 코드\n",
    "np.dot(ke_vector,toy_story_vector)  #매우 낮은 수치"
   ]
  },
  {
   "cell_type": "code",
   "execution_count": 32,
   "id": "earlier-component",
   "metadata": {},
   "outputs": [
    {
     "data": {
      "text/plain": [
       "0.16349624"
      ]
     },
     "execution_count": 32,
     "metadata": {},
     "output_type": "execute_result"
    }
   ],
   "source": [
    "home_alone=title_to_idx['Home Alone 3 (1997)']\n",
    "home_alone_vector=als_model.item_factors[home_alone]\n",
    "np.dot(ke_vector, home_alone_vector)"
   ]
  },
  {
   "cell_type": "code",
   "execution_count": 33,
   "id": "apparent-graduation",
   "metadata": {},
   "outputs": [
    {
     "data": {
      "text/plain": [
       "0.48276034"
      ]
     },
     "execution_count": 33,
     "metadata": {},
     "output_type": "execute_result"
    }
   ],
   "source": [
    "history=title_to_idx['History of the World: Part I (1981)']\n",
    "history_vector=als_model.item_factors[history]\n",
    "np.dot(ke_vector, history_vector)"
   ]
  },
  {
   "cell_type": "code",
   "execution_count": 49,
   "id": "fifth-sewing",
   "metadata": {},
   "outputs": [
    {
     "data": {
      "text/plain": [
       "0.10537991"
      ]
     },
     "execution_count": 49,
     "metadata": {},
     "output_type": "execute_result"
    }
   ],
   "source": [
    "two=title_to_idx['It Takes Two (1995)']\n",
    "two_vector=als_model.item_factors[two]\n",
    "np.dot(ke_vector, two_vector)"
   ]
  },
  {
   "cell_type": "code",
   "execution_count": 50,
   "id": "shaped-georgia",
   "metadata": {},
   "outputs": [
    {
     "data": {
      "text/plain": [
       "0.7472468"
      ]
     },
     "execution_count": 50,
     "metadata": {},
     "output_type": "execute_result"
    }
   ],
   "source": [
    "president=title_to_idx['American President, The (1995)']\n",
    "president_vector=als_model.item_factors[history]\n",
    "np.dot(ke_vector, president_vector)"
   ]
  },
  {
   "cell_type": "code",
   "execution_count": 41,
   "id": "round-progress",
   "metadata": {},
   "outputs": [
    {
     "data": {
      "text/plain": [
       "0.01133021"
      ]
     },
     "execution_count": 41,
     "metadata": {},
     "output_type": "execute_result"
    }
   ],
   "source": [
    "# 내가 선호하지 않는 horror 장르 영화\n",
    "blood=title_to_idx['Bay of Blood (Reazione a catena) (1971)']\n",
    "blood_vector=als_model.item_factors[blood]\n",
    "np.dot(ke_vector, blood_vector)"
   ]
  },
  {
   "cell_type": "markdown",
   "id": "eleven-maria",
   "metadata": {},
   "source": [
    "### 7) 내가 좋아하는 영화와 비슷한 영화 추천받기\n",
    "비슷한 장르의 영화들을 추천받음."
   ]
  },
  {
   "cell_type": "code",
   "execution_count": 35,
   "id": "lesser-provision",
   "metadata": {},
   "outputs": [
    {
     "name": "stdout",
     "output_type": "stream",
     "text": [
      "슝=3\n"
     ]
    }
   ],
   "source": [
    "idx_to_title = {v:k for k,v in title_to_idx.items()}\n",
    "\n",
    "def get_similar_movie(title_name: str):\n",
    "    movie_id = title_to_idx[title_name]\n",
    "    similar_movie = als_model.similar_items(movie_id)\n",
    "    similar_movie = [idx_to_title[i[0]] for i in similar_movie]\n",
    "    return similar_movie\n",
    "\n",
    "print(\"슝=3\")"
   ]
  },
  {
   "cell_type": "code",
   "execution_count": 36,
   "id": "ethical-cable",
   "metadata": {},
   "outputs": [
    {
     "data": {
      "text/plain": [
       "['Toy Story(1995)',\n",
       " 'Chain of Fools (2000)',\n",
       " 'Aiqing wansui (1994)',\n",
       " 'Sunchaser, The (1996)',\n",
       " 'Make Them Die Slowly (Cannibal Ferox) (1980)',\n",
       " 'For Ever Mozart (1996)',\n",
       " 'Loser (1991)',\n",
       " 'Open Season (1996)',\n",
       " 'Song of Freedom (1936)',\n",
       " '1-900 (1994)']"
      ]
     },
     "execution_count": 36,
     "metadata": {},
     "output_type": "execute_result"
    }
   ],
   "source": [
    "get_similar_movie('Toy Story(1995)')"
   ]
  },
  {
   "cell_type": "code",
   "execution_count": 42,
   "id": "interested-casino",
   "metadata": {},
   "outputs": [
    {
     "data": {
      "text/plain": [
       "['American President, The (1995)',\n",
       " 'Dave (1993)',\n",
       " 'Adventures of Elmo in Grouchland, The (1999)',\n",
       " 'Sleepless in Seattle (1993)',\n",
       " 'Education of Little Tree, The (1997)',\n",
       " 'Hollow Reed (1996)',\n",
       " 'Air Bud: Golden Receiver (1998)',\n",
       " 'Different for Girls (1996)',\n",
       " \"Enfer, L' (1994)\",\n",
       " 'Glass Shield, The (1994)']"
      ]
     },
     "execution_count": 42,
     "metadata": {},
     "output_type": "execute_result"
    }
   ],
   "source": [
    "get_similar_movie('American President, The (1995)')"
   ]
  },
  {
   "cell_type": "markdown",
   "id": "popular-chemistry",
   "metadata": {},
   "source": [
    "### 8) 내가 가장 좋아할 만한 영화들 추천받기\n",
    "- comedy 위주의 영화를 추천받았다."
   ]
  },
  {
   "cell_type": "code",
   "execution_count": 38,
   "id": "traditional-namibia",
   "metadata": {},
   "outputs": [
    {
     "data": {
      "text/plain": [
       "[(1331, 0.2955079),\n",
       " (752, 0.25040925),\n",
       " (466, 0.24952194),\n",
       " (145, 0.21652757),\n",
       " (841, 0.1910955),\n",
       " (384, 0.1897675),\n",
       " (1158, 0.18512625),\n",
       " (301, 0.18218118),\n",
       " (444, 0.17784059),\n",
       " (641, 0.1729042),\n",
       " (1635, 0.17139664),\n",
       " (790, 0.17031124),\n",
       " (303, 0.17028248),\n",
       " (15, 0.16260931),\n",
       " (48, 0.1553458),\n",
       " (308, 0.15442672),\n",
       " (467, 0.15176633),\n",
       " (277, 0.15023352),\n",
       " (413, 0.14888275),\n",
       " (238, 0.1483086)]"
      ]
     },
     "execution_count": 38,
     "metadata": {},
     "output_type": "execute_result"
    }
   ],
   "source": [
    "user = user_to_idx['ke']\n",
    "# recommend에서는 user*item CSR Matrix를 받습니다.\n",
    "movie_recommended = als_model.recommend(user, csr_data, N=20, filter_already_liked_items=True)\n",
    "movie_recommended"
   ]
  },
  {
   "cell_type": "code",
   "execution_count": 39,
   "id": "latin-reach",
   "metadata": {},
   "outputs": [
    {
     "data": {
      "text/plain": [
       "['Real Genius (1985)',\n",
       " 'Wag the Dog (1997)',\n",
       " 'Wedding Singer, The (1998)',\n",
       " 'Fifth Element, The (1997)',\n",
       " 'Prince of Egypt, The (1998)',\n",
       " 'Jerry Maguire (1996)',\n",
       " 'Englishman Who Went Up a Hill, But Came Down a Mountain, The (1995)',\n",
       " 'Rushmore (1998)',\n",
       " 'High Fidelity (2000)',\n",
       " \"Mr. Holland's Opus (1995)\",\n",
       " 'Dinosaur (2000)',\n",
       " 'Birdcage, The (1996)',\n",
       " 'Dick (1999)',\n",
       " 'Airplane! (1980)',\n",
       " 'Saving Private Ryan (1998)',\n",
       " 'Bullets Over Broadway (1994)',\n",
       " 'Cape Fear (1991)',\n",
       " 'Babe: Pig in the City (1998)',\n",
       " 'Akira (1988)',\n",
       " 'Thin Red Line, The (1998)']"
      ]
     },
     "execution_count": 39,
     "metadata": {},
     "output_type": "execute_result"
    }
   ],
   "source": [
    "[idx_to_title[i[0]] for i in movie_recommended]"
   ]
  },
  {
   "cell_type": "code",
   "execution_count": 44,
   "id": "handy-count",
   "metadata": {},
   "outputs": [
    {
     "data": {
      "text/html": [
       "<div>\n",
       "<style scoped>\n",
       "    .dataframe tbody tr th:only-of-type {\n",
       "        vertical-align: middle;\n",
       "    }\n",
       "\n",
       "    .dataframe tbody tr th {\n",
       "        vertical-align: top;\n",
       "    }\n",
       "\n",
       "    .dataframe thead th {\n",
       "        text-align: right;\n",
       "    }\n",
       "</style>\n",
       "<table border=\"1\" class=\"dataframe\">\n",
       "  <thead>\n",
       "    <tr style=\"text-align: right;\">\n",
       "      <th></th>\n",
       "      <th>movie_id</th>\n",
       "      <th>title</th>\n",
       "      <th>genre</th>\n",
       "    </tr>\n",
       "  </thead>\n",
       "  <tbody>\n",
       "    <tr>\n",
       "      <th>61</th>\n",
       "      <td>62</td>\n",
       "      <td>Mr. Holland's Opus (1995)</td>\n",
       "      <td>Drama</td>\n",
       "    </tr>\n",
       "    <tr>\n",
       "      <th>139</th>\n",
       "      <td>141</td>\n",
       "      <td>Birdcage, The (1996)</td>\n",
       "      <td>Comedy</td>\n",
       "    </tr>\n",
       "    <tr>\n",
       "      <th>344</th>\n",
       "      <td>348</td>\n",
       "      <td>Bullets Over Broadway (1994)</td>\n",
       "      <td>Comedy</td>\n",
       "    </tr>\n",
       "    <tr>\n",
       "      <th>464</th>\n",
       "      <td>468</td>\n",
       "      <td>Englishman Who Went Up a Hill, But Came Down a...</td>\n",
       "      <td>Comedy|Romance</td>\n",
       "    </tr>\n",
       "    <tr>\n",
       "      <th>1254</th>\n",
       "      <td>1274</td>\n",
       "      <td>Akira (1988)</td>\n",
       "      <td>Adventure|Animation|Sci-Fi|Thriller</td>\n",
       "    </tr>\n",
       "    <tr>\n",
       "      <th>1277</th>\n",
       "      <td>1297</td>\n",
       "      <td>Real Genius (1985)</td>\n",
       "      <td>Comedy</td>\n",
       "    </tr>\n",
       "    <tr>\n",
       "      <th>1322</th>\n",
       "      <td>1343</td>\n",
       "      <td>Cape Fear (1991)</td>\n",
       "      <td>Thriller</td>\n",
       "    </tr>\n",
       "    <tr>\n",
       "      <th>1372</th>\n",
       "      <td>1393</td>\n",
       "      <td>Jerry Maguire (1996)</td>\n",
       "      <td>Drama|Romance</td>\n",
       "    </tr>\n",
       "    <tr>\n",
       "      <th>1424</th>\n",
       "      <td>1449</td>\n",
       "      <td>Waiting for Guffman (1996)</td>\n",
       "      <td>Comedy</td>\n",
       "    </tr>\n",
       "    <tr>\n",
       "      <th>1491</th>\n",
       "      <td>1527</td>\n",
       "      <td>Fifth Element, The (1997)</td>\n",
       "      <td>Action|Sci-Fi</td>\n",
       "    </tr>\n",
       "    <tr>\n",
       "      <th>1695</th>\n",
       "      <td>1747</td>\n",
       "      <td>Wag the Dog (1997)</td>\n",
       "      <td>Comedy|Drama</td>\n",
       "    </tr>\n",
       "    <tr>\n",
       "      <th>1720</th>\n",
       "      <td>1777</td>\n",
       "      <td>Wedding Singer, The (1998)</td>\n",
       "      <td>Comedy|Romance</td>\n",
       "    </tr>\n",
       "    <tr>\n",
       "      <th>1959</th>\n",
       "      <td>2028</td>\n",
       "      <td>Saving Private Ryan (1998)</td>\n",
       "      <td>Action|Drama|War</td>\n",
       "    </tr>\n",
       "    <tr>\n",
       "      <th>2315</th>\n",
       "      <td>2384</td>\n",
       "      <td>Babe: Pig in the City (1998)</td>\n",
       "      <td>Children's|Comedy</td>\n",
       "    </tr>\n",
       "    <tr>\n",
       "      <th>2325</th>\n",
       "      <td>2394</td>\n",
       "      <td>Prince of Egypt, The (1998)</td>\n",
       "      <td>Animation|Musical</td>\n",
       "    </tr>\n",
       "    <tr>\n",
       "      <th>2326</th>\n",
       "      <td>2395</td>\n",
       "      <td>Rushmore (1998)</td>\n",
       "      <td>Comedy</td>\n",
       "    </tr>\n",
       "    <tr>\n",
       "      <th>2358</th>\n",
       "      <td>2427</td>\n",
       "      <td>Thin Red Line, The (1998)</td>\n",
       "      <td>Action|Drama|War</td>\n",
       "    </tr>\n",
       "    <tr>\n",
       "      <th>2690</th>\n",
       "      <td>2759</td>\n",
       "      <td>Dick (1999)</td>\n",
       "      <td>Comedy</td>\n",
       "    </tr>\n",
       "    <tr>\n",
       "      <th>2722</th>\n",
       "      <td>2791</td>\n",
       "      <td>Airplane! (1980)</td>\n",
       "      <td>Comedy</td>\n",
       "    </tr>\n",
       "    <tr>\n",
       "      <th>3412</th>\n",
       "      <td>3481</td>\n",
       "      <td>High Fidelity (2000)</td>\n",
       "      <td>Comedy</td>\n",
       "    </tr>\n",
       "    <tr>\n",
       "      <th>3546</th>\n",
       "      <td>3615</td>\n",
       "      <td>Dinosaur (2000)</td>\n",
       "      <td>Animation|Children's</td>\n",
       "    </tr>\n",
       "  </tbody>\n",
       "</table>\n",
       "</div>"
      ],
      "text/plain": [
       "      movie_id                                              title  \\\n",
       "61          62                          Mr. Holland's Opus (1995)   \n",
       "139        141                               Birdcage, The (1996)   \n",
       "344        348                       Bullets Over Broadway (1994)   \n",
       "464        468  Englishman Who Went Up a Hill, But Came Down a...   \n",
       "1254      1274                                       Akira (1988)   \n",
       "1277      1297                                 Real Genius (1985)   \n",
       "1322      1343                                   Cape Fear (1991)   \n",
       "1372      1393                               Jerry Maguire (1996)   \n",
       "1424      1449                         Waiting for Guffman (1996)   \n",
       "1491      1527                          Fifth Element, The (1997)   \n",
       "1695      1747                                 Wag the Dog (1997)   \n",
       "1720      1777                         Wedding Singer, The (1998)   \n",
       "1959      2028                         Saving Private Ryan (1998)   \n",
       "2315      2384                       Babe: Pig in the City (1998)   \n",
       "2325      2394                        Prince of Egypt, The (1998)   \n",
       "2326      2395                                    Rushmore (1998)   \n",
       "2358      2427                          Thin Red Line, The (1998)   \n",
       "2690      2759                                        Dick (1999)   \n",
       "2722      2791                                   Airplane! (1980)   \n",
       "3412      3481                               High Fidelity (2000)   \n",
       "3546      3615                                    Dinosaur (2000)   \n",
       "\n",
       "                                    genre  \n",
       "61                                  Drama  \n",
       "139                                Comedy  \n",
       "344                                Comedy  \n",
       "464                        Comedy|Romance  \n",
       "1254  Adventure|Animation|Sci-Fi|Thriller  \n",
       "1277                               Comedy  \n",
       "1322                             Thriller  \n",
       "1372                        Drama|Romance  \n",
       "1424                               Comedy  \n",
       "1491                        Action|Sci-Fi  \n",
       "1695                         Comedy|Drama  \n",
       "1720                       Comedy|Romance  \n",
       "1959                     Action|Drama|War  \n",
       "2315                    Children's|Comedy  \n",
       "2325                    Animation|Musical  \n",
       "2326                               Comedy  \n",
       "2358                     Action|Drama|War  \n",
       "2690                               Comedy  \n",
       "2722                               Comedy  \n",
       "3412                               Comedy  \n",
       "3546                 Animation|Children's  "
      ]
     },
     "execution_count": 44,
     "metadata": {},
     "output_type": "execute_result"
    }
   ],
   "source": [
    "# 내가 좋아하는 영화의 genre표시\n",
    "movies[movies['title'].isin(['Real Genius (1985)','Wag the Dog (1997)','Wedding Singer, The (1998)','Waiting for Guffman (1996)','Fifth Element, The (1997)','Prince of Egypt, The (1998)','Jerry Maguire (1996)','Englishman Who Went Up a Hill, But Came Down a Mountain, The (1995)','Rushmore (1998)','High Fidelity (2000)',\"Mr. Holland's Opus (1995)\",'Dinosaur (2000)','Birdcage, The (1996)','Dick (1999)','Airplane! (1980)','Saving Private Ryan (1998)','Bullets Over Broadway (1994)','Cape Fear (1991)','Babe: Pig in the City (1998)','Akira (1988)','Thin Red Line, The (1998)'])]"
   ]
  },
  {
   "attachments": {
    "image-2.png": {
     "image/png": "[encoded data removed]"
    },
    "image-3.png": {
     "image/png": "[encoded data removed]"
    },
    "image-4.png": {
     "image/png": "[encoded data removed]"
    },
    "image-5.png": {
     "image/png": "[encoded data removed]"
    }
   },
   "cell_type": "markdown",
   "id": "banner-recovery",
   "metadata": {},
   "source": [
    "# 회고\n",
    "우선 내가 모르는 영화들이 너무 많고 다 보지 않은 영화들이어서 선택하기가 어려웠다. 그래서 처음에는 좋아하는 장르 상관없이 내가 아는 영화 이름들을 위주로 넣었는데 모델의 예측력이 현저히 떨어졌다.선호도가 0.1을 넘은 게 없었다.\n",
    "- 처음 모델에 넣었던 영화리스트                                                 ![image-5.png](attachment:image-5.png)\n",
    "\n",
    "![image.png]\n",
    "- 선호도 결과\n",
    "![image-2.png](attachment:image-2.png)\n",
    "\n",
    "그래서 영화 리스트들을 비슷한 장르의 영화들을 위주로 넣었더니 선호도가 나름 정확하게 나왔다. 내가 좋아하는 장르가 comedy 여서 그 영화들을 위주로 모델에 넣었다. \n",
    "![image-3.png](attachment:image-3.png)\n",
    "- 영화 선호도                                                                       \n",
    "1) 내가 선호하는 영화들 중에 comedy 장르로 -'It Takes Two'를 선택했는데 선호도가 0.10537991 이 나왔다. comedy였지만 낮게 나와서 장르말고도 영화를 추천해주는 기준이 따로 있나 생각하게 되었다.                                                        \n",
    "2) 내가 선호하지 않는 영화 장르가 horror인데 - 'Bay of Blood (Reazione a catena)' 선호도가 0.01133021로 낮게 나온 것을 보니 나름 정확했다.                        \n",
    "\n",
    "- 내가 가장 좋아할 만한 영화 추천 받기                                               \n",
    "![image-4.png](attachment:image-4.png)\n",
    "\n",
    "내가 좋아하는 영화와 비슷좋아할 만한 영화들의 장르들을 보니까 대부분 comedy 장르였다. 추천받은 영화이기 때문에 한 번 저 영화들을 봐보고 추천시스템이 정확한 지 확인해야겠다."
   ]
  },
  {
   "cell_type": "code",
   "execution_count": null,
   "id": "offensive-permit",
   "metadata": {},
   "outputs": [],
   "source": []
  }
 ],
 "metadata": {
  "kernelspec": {
   "display_name": "Python 3",
   "language": "python",
   "name": "python3"
  },
  "language_info": {
   "codemirror_mode": {
    "name": "ipython",
    "version": 3
   },
   "file_extension": ".py",
   "mimetype": "text/x-python",
   "name": "python",
   "nbconvert_exporter": "python",
   "pygments_lexer": "ipython3",
   "version": "3.7.9"
  }
 },
 "nbformat": 4,
 "nbformat_minor": 5
}
